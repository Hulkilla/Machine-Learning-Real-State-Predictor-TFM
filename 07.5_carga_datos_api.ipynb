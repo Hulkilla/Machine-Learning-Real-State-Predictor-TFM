{
 "cells": [
  {
   "cell_type": "code",
   "execution_count": 1,
   "id": "0568c526",
   "metadata": {
    "executionInfo": {
     "elapsed": 12690,
     "status": "ok",
     "timestamp": 1745688245354,
     "user": {
      "displayName": "Marina Fernández Delgado",
      "userId": "16194969030307626556"
     },
     "user_tz": -120
    },
    "id": "0568c526"
   },
   "outputs": [],
   "source": [
    "import numpy as np\n",
    "import itertools\n",
    "import psycopg2\n",
    "\n",
    "# Base de Datos y Variables de Entorno\n",
    "from conexion import connect_to_postgresql"
   ]
  },
  {
   "cell_type": "code",
   "execution_count": 2,
   "id": "83363637",
   "metadata": {
    "colab": {
     "base_uri": "https://localhost:8080/",
     "height": 241
    },
    "executionInfo": {
     "elapsed": 4411,
     "status": "ok",
     "timestamp": 1745688249768,
     "user": {
      "displayName": "Marina Fernández Delgado",
      "userId": "16194969030307626556"
     },
     "user_tz": -120
    },
    "id": "83363637",
    "outputId": "12eb2a06-3334-4031-f6e5-7b2c77f45777"
   },
   "outputs": [
    {
     "name": "stdout",
     "output_type": "stream",
     "text": [
      "Conexión establecida\n",
      "CUDIS cargada correctamente como array de NumPy\n",
      "municipio_tipo cargada correctamente como array de NumPy\n",
      "Habitaciones cargada correctamente como array de NumPy\n",
      "Aseos cargada correctamente como array de NumPy\n",
      "Metros cargada correctamente como array de NumPy\n",
      "comodidades cargada correctamente como array de NumPy\n"
     ]
    }
   ],
   "source": [
    "engine = connect_to_postgresql()\n",
    "conn = engine.raw_connection()\n",
    "cur = conn.cursor()\n",
    "try:\n",
    "    \n",
    "    ## cudis\n",
    "\n",
    "    query = \"\"\"\n",
    "    SELECT DISTINCT mun.\"CUDIS\" FROM dim_municipios mun;\n",
    "    \"\"\"\n",
    "    cur.execute(query)\n",
    "    cudis = np.array(cur.fetchall())\n",
    "    conn.commit()\n",
    "    print(\"CUDIS cargada correctamente como array de NumPy\")\n",
    "\n",
    "    ## municipio_tipo_de_vivienda\n",
    "    query = \"\"\"\n",
    "    SELECT DISTINCT ind.\"Municipio_Tipo\" FROM ft_indicadores ind;\n",
    "    \"\"\"\n",
    "    cur.execute(query)\n",
    "    municipio_tipo = np.array(cur.fetchall())\n",
    "    conn.commit()\n",
    "    print(\"municipio_tipo cargada correctamente como array de NumPy\")\n",
    "\n",
    "    ## habitaciones\n",
    "    query = \"\"\"\n",
    "    SELECT DISTINCT ind.\"Habitaciones\" FROM ft_indicadores ind;\n",
    "    \"\"\"\n",
    "    cur.execute(query)\n",
    "    Habitaciones = np.array(cur.fetchall())\n",
    "    conn.commit()\n",
    "    print(\"Habitaciones cargada correctamente como array de NumPy\")\n",
    "\n",
    "    ## aseos\n",
    "    query = \"\"\"\n",
    "    SELECT DISTINCT ind.\"Aseos\" FROM ft_indicadores ind;\n",
    "    \"\"\"\n",
    "    cur.execute(query)\n",
    "    Aseos = np.array(cur.fetchall())\n",
    "    conn.commit()\n",
    "    print(\"Aseos cargada correctamente como array de NumPy\")\n",
    "\n",
    "    ## Metros\n",
    "    query = \"\"\"\n",
    "    SELECT generate_series(40, (SELECT MAX(ind.\"Metros\")::integer FROM ft_indicadores ind), 10) AS \"Metros\";\n",
    "    \"\"\"\n",
    "    cur.execute(query)\n",
    "    Metros = np.array(cur.fetchall())\n",
    "    conn.commit()\n",
    "    print(\"Metros cargada correctamente como array de NumPy\")\n",
    "\n",
    "    ## Comodidades\n",
    "    query = \"\"\"\n",
    "    SELECT com.\"Comodidades\" FROM comodidades com;\n",
    "    \"\"\"\n",
    "    cur.execute(query)\n",
    "    comodidades = np.array(cur.fetchall())\n",
    "    conn.commit()\n",
    "    print(\"comodidades cargada correctamente como array de NumPy\")\n",
    "\n",
    "except Exception as e:\n",
    "    print(f\"Ha ocurrido un error: {str(e)}\")\n",
    "finally:\n",
    "    cur.close()\n",
    "    conn.close()"
   ]
  },
  {
   "cell_type": "code",
   "execution_count": 3,
   "id": "bfa491cd",
   "metadata": {},
   "outputs": [],
   "source": [
    "def transformar_tipo(tipo):\n",
    "    if tipo.endswith(\"Apartment\"):\n",
    "        return \"Piso\"\n",
    "    elif tipo.endswith(\"Single-family Home\"):\n",
    "        return \"Casa\"\n",
    "    else:\n",
    "        return tipo  # Mantiene otros valores sin cambios\n",
    "\n",
    "# Aplicamos la transformación al array\n",
    "transformar_vectorizado = np.vectorize(transformar_tipo)\n",
    "municipio_tipo = transformar_vectorizado(municipio_tipo)\n",
    "municipio_tipo = np.unique(municipio_tipo)"
   ]
  },
  {
   "cell_type": "code",
   "execution_count": 4,
   "id": "8a18a3fe",
   "metadata": {},
   "outputs": [
    {
     "name": "stdout",
     "output_type": "stream",
     "text": [
      "Conexión establecida\n",
      "Datos insertados en la base de datos correctamente.\n"
     ]
    }
   ],
   "source": [
    "# Función para convertir valores numéricos a enteros cuando sea necesario\n",
    "def convert_value(value):\n",
    "    \"\"\"Convierte valores numéricos correctamente evitando problemas con arrays.\"\"\"\n",
    "    try:\n",
    "        if isinstance(value, np.ndarray):  \n",
    "            value = value.item()  # Extrae el elemento único si es un array\n",
    "\n",
    "        return int(float(value))  # Convierte correctamente evitando errores\n",
    "    except ValueError:\n",
    "        return value  # Si no es un número, lo mantiene como string\n",
    "\n",
    "\n",
    "# Función para generar combinaciones sin NMUN\n",
    "def generate_combinations():\n",
    "    for combo in itertools.product(\n",
    "        map(convert_value, cudis),  # CUDIS\n",
    "        municipio_tipo.flatten(),  # Municipio_Tipo\n",
    "        map(convert_value, Habitaciones.flatten()),  # Habitaciones\n",
    "        map(convert_value, Aseos.flatten()),  # Aseos\n",
    "        map(convert_value, Metros.flatten()),  # Metros\n",
    "        comodidades.flatten()  # Solo la columna Comodidades\n",
    "    ):\n",
    "        yield combo  # Generamos fila por fila sin almacenar todo en memoria\n",
    "\n",
    "# Conectamos a la base de datos\n",
    "try:\n",
    "    engine = connect_to_postgresql()\n",
    "    conn = engine.raw_connection()\n",
    "    cur = conn.cursor()\n",
    "\n",
    "    batch_size = 100000\n",
    "    batch = []\n",
    "    \n",
    "    for row in generate_combinations():\n",
    "        batch.append(row)\n",
    "        \n",
    "        # Insertamos en batches de 10,000 registros\n",
    "        if len(batch) >= batch_size:\n",
    "            query = \"\"\"\n",
    "            INSERT INTO dim_propiedades_api (CUDIS, Municipio_Tipo, Habitaciones, Aseos, Metros, Comodidades) \n",
    "            VALUES %s\n",
    "            \"\"\"\n",
    "            psycopg2.extras.execute_values(cur, query, batch)\n",
    "            conn.commit()\n",
    "            batch.clear()  # Limpiamos el lote después de la inserción\n",
    "    \n",
    "    # Insertamos cualquier dato restante que no haya completado un lote\n",
    "    if batch:\n",
    "        psycopg2.extras.execute_values(cur, query, batch)\n",
    "        conn.commit()\n",
    "    \n",
    "    print(\"Datos insertados en la base de datos correctamente.\")\n",
    "\n",
    "except Exception as e:\n",
    "    print(f\"Error al insertar datos: {e}\")\n",
    "\n",
    "finally:\n",
    "    cur.close()\n",
    "    conn.close()"
   ]
  }
 ],
 "metadata": {
  "colab": {
   "provenance": []
  },
  "kernelspec": {
   "display_name": "venv",
   "language": "python",
   "name": "python3"
  },
  "language_info": {
   "codemirror_mode": {
    "name": "ipython",
    "version": 3
   },
   "file_extension": ".py",
   "mimetype": "text/x-python",
   "name": "python",
   "nbconvert_exporter": "python",
   "pygments_lexer": "ipython3",
   "version": "3.12.10"
  }
 },
 "nbformat": 4,
 "nbformat_minor": 5
}
