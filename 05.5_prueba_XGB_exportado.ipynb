{
 "cells": [
  {
   "cell_type": "code",
   "execution_count": null,
   "metadata": {
    "colab": {
     "base_uri": "https://localhost:8080/"
    },
    "executionInfo": {
     "elapsed": 19602,
     "status": "ok",
     "timestamp": 1745343163191,
     "user": {
      "displayName": "Marina Fernández Delgado",
      "userId": "16194969030307626556"
     },
     "user_tz": -120
    },
    "id": "8WsA6p-UcdnB",
    "outputId": "4cbdacd1-4680-48c9-8c36-79e7bd87f17b"
   },
   "outputs": [
    {
     "name": "stdout",
     "output_type": "stream",
     "text": [
      "Mounted at /content/drive\n"
     ]
    }
   ],
   "source": [
    "#from google.colab import drive\n",
    "#drive.mount('/content/drive')"
   ]
  },
  {
   "cell_type": "code",
   "execution_count": null,
   "metadata": {
    "colab": {
     "base_uri": "https://localhost:8080/"
    },
    "executionInfo": {
     "elapsed": 18,
     "status": "ok",
     "timestamp": 1745343163208,
     "user": {
      "displayName": "Marina Fernández Delgado",
      "userId": "16194969030307626556"
     },
     "user_tz": -120
    },
    "id": "rZd-MZHfcd84",
    "outputId": "a8e00d66-e06d-4154-f4a5-9db89b94cfb1"
   },
   "outputs": [
    {
     "name": "stdout",
     "output_type": "stream",
     "text": [
      "Current working directory: /content/drive/My Drive/tfm/codigo\n"
     ]
    }
   ],
   "source": [
    "#import os\n",
    "#PROJECT_ROOT = '/content/drive/My Drive/tfm/codigo' #@param {type:\"string\"}\n",
    "#os.chdir(PROJECT_ROOT)\n",
    "#print(\"Current working directory:\", os.getcwd())"
   ]
  },
  {
   "cell_type": "code",
   "execution_count": null,
   "metadata": {
    "executionInfo": {
     "elapsed": 6481,
     "status": "ok",
     "timestamp": 1745343169701,
     "user": {
      "displayName": "Marina Fernández Delgado",
      "userId": "16194969030307626556"
     },
     "user_tz": -120
    },
    "id": "-mh0TdrHcAGy"
   },
   "outputs": [],
   "source": [
    "import numpy as np\n",
    "import pandas as pd\n",
    "\n",
    "import joblib"
   ]
  },
  {
   "cell_type": "code",
   "execution_count": null,
   "metadata": {
    "executionInfo": {
     "elapsed": 913,
     "status": "ok",
     "timestamp": 1745343230359,
     "user": {
      "displayName": "Marina Fernández Delgado",
      "userId": "16194969030307626556"
     },
     "user_tz": -120
    },
    "id": "3YJdqh0vcawI"
   },
   "outputs": [],
   "source": [
    "# === Cargar modelo y escaladores ===\n",
    "model = joblib.load(\"/content/drive/My Drive/tfm/codigo/modelos_exportados/modelo_ml/modelo_xgb.pkl\")\n",
    "\n",
    "scaler_entrada = joblib.load(\"/content/drive/My Drive/tfm/codigo/modelos_exportados/standardscaler_datos_entrada.pkl\")\n",
    "scaler_precio = joblib.load(\"/content/drive/My Drive/tfm/codigo/modelos_exportados/standardscaler_precio.pkl\")\n"
   ]
  },
  {
   "cell_type": "code",
   "execution_count": 6,
   "metadata": {
    "executionInfo": {
     "elapsed": 39,
     "status": "ok",
     "timestamp": 1745343233307,
     "user": {
      "displayName": "Marina Fernández Delgado",
      "userId": "16194969030307626556"
     },
     "user_tz": -120
    },
    "id": "Xy7pHvtYbNxY"
   },
   "outputs": [],
   "source": [
    "# === Input manual ===\n",
    "# El precio_medio_mun_tipo ya debe estar en euros → le aplicas log\n",
    "# Todas las variables deben coincidir con las columnas usadas para entrenar\n",
    "# Aqui la Capital no se usa\n",
    "\n",
    "input_dict = {\n",
    "    'Habitaciones': 3,\n",
    "    'Aseos': 2,\n",
    "    'Metros': 105,\n",
    "    'CUDIS': 2408907,\n",
    "    'Población': 120000,\n",
    "    'Renta bruta media por persona': 36000,\n",
    "    'Comodidades': 1,\n",
    "    'Capital': 1,\n",
    "    'Precio_medio_mun_tipo': np.log(132000)  # € → aplicar log\n",
    "}\n"
   ]
  },
  {
   "cell_type": "code",
   "execution_count": 29,
   "metadata": {
    "colab": {
     "base_uri": "https://localhost:8080/"
    },
    "executionInfo": {
     "elapsed": 16,
     "status": "ok",
     "timestamp": 1745344526229,
     "user": {
      "displayName": "Marina Fernández Delgado",
      "userId": "16194969030307626556"
     },
     "user_tz": -120
    },
    "id": "pTyLH4zgfRv5",
    "outputId": "f6584c16-cd4d-49c3-f733-2c3b7d50808a"
   },
   "outputs": [
    {
     "name": "stdout",
     "output_type": "stream",
     "text": [
      "[[ 0.24348198  0.87927311  0.36340549 -0.44528777  0.51035166  1.05159444\n",
      "   0.90479803  1.          0.54688789]]\n"
     ]
    }
   ],
   "source": [
    "# === Preprocesado ===\n",
    "\n",
    "# 1. Define the column order (including 'Capital')\n",
    "column_order = ['Habitaciones', 'Aseos', 'Metros', 'CUDIS', 'Población',\n",
    "                'Renta bruta media por persona', 'Comodidades', 'Capital',\n",
    "                'Precio_medio_mun_tipo']\n",
    "\n",
    "# 2. Features to be scaled (excluding 'Capital')\n",
    "features_to_scale = [feat for feat in column_order if feat != 'Capital']\n",
    "\n",
    "# 3. Create input data for scaling\n",
    "X_input_to_scale = pd.DataFrame([input_dict], columns=features_to_scale)\n",
    "\n",
    "# 4. Scale the selected features\n",
    "X_scaled = scaler_entrada.transform(X_input_to_scale)\n",
    "\n",
    "# 5. Insert 'Capital' at the penultimate position\n",
    "capital_index = column_order.index('Capital')\n",
    "X_with_capital = np.insert(X_scaled, capital_index, input_dict['Capital'], axis=1)\n",
    "print(X_with_capital)"
   ]
  },
  {
   "cell_type": "code",
   "execution_count": 22,
   "metadata": {
    "colab": {
     "base_uri": "https://localhost:8080/"
    },
    "executionInfo": {
     "elapsed": 10,
     "status": "ok",
     "timestamp": 1745344086609,
     "user": {
      "displayName": "Marina Fernández Delgado",
      "userId": "16194969030307626556"
     },
     "user_tz": -120
    },
    "id": "sPFGeLsofNUB",
    "outputId": "2a18a971-a63a-4229-96c9-8260f6329328"
   },
   "outputs": [
    {
     "name": "stdout",
     "output_type": "stream",
     "text": [
      "📦 Precio estimado: 137,782.45 €\n",
      "El rango de precios 💰 este inmueble es: 96,447.72 € y 179,117.19 €\n"
     ]
    }
   ],
   "source": [
    "# === Predicción ===\n",
    "y_pred_scaled = model.predict(X_scaled)\n",
    "\n",
    "# === Inversión de escalado + exponencial ===\n",
    "# Reshape y_pred_scaled to a 2D array with a single column\n",
    "y_pred_log = scaler_precio.inverse_transform(y_pred_scaled.reshape(-1, 1))\n",
    "y_pred_eur = np.exp(y_pred_log)\n",
    "\n",
    "precio_estimado = y_pred_eur[0][0]\n",
    "print(f\"📦 Precio estimado: {precio_estimado:,.2f} €\")\n",
    "print(f\"El rango de precios 💰 este inmueble es: {(precio_estimado*0.7):,.2f} € y {(precio_estimado*1.3):,.2f} €\")"
   ]
  },
  {
   "cell_type": "code",
   "execution_count": 30,
   "metadata": {
    "executionInfo": {
     "elapsed": 5,
     "status": "ok",
     "timestamp": 1745344540818,
     "user": {
      "displayName": "Marina Fernández Delgado",
      "userId": "16194969030307626556"
     },
     "user_tz": -120
    },
    "id": "nPWV-ReShEmS"
   },
   "outputs": [],
   "source": [
    "import numpy as np\n",
    "import pandas as pd\n",
    "\n",
    "def predecir_precio(input_dict, scaler_entrada, scaler_precio, model):\n",
    "    \"\"\"\n",
    "    Predice el precio final en euros a partir de un input_dict\n",
    "    con características de la vivienda, usando un modelo XGBoost.\n",
    "\n",
    "    Parámetros:\n",
    "        input_dict: Diccionario con los valores de entrada (en euros y sin escalar).\n",
    "        scaler_entrada: StandardScaler entrenado para X (entrada).\n",
    "        scaler_precio: StandardScaler entrenado para y (salida en log).\n",
    "        model: Modelo XGBoost entrenado.\n",
    "\n",
    "    Retorna:\n",
    "        Precio estimado (en euros).\n",
    "    \"\"\"\n",
    "\n",
    "    # Orden de las columnas (incluyendo 'Capital')\n",
    "    column_order = ['Habitaciones', 'Aseos', 'Metros', 'CUDIS', 'Población',\n",
    "                    'Renta bruta media por persona', 'Comodidades',\n",
    "                    'Precio_medio_mun_tipo']\n",
    "\n",
    "    # Asegurar que el precio medio ya está en log en el input_dict\n",
    "    input_dict['Precio_medio_mun_tipo'] = np.log(input_dict['Precio_medio_mun_tipo'])\n",
    "\n",
    "    # Crear DataFrame con el orden correcto\n",
    "    X_input_df = pd.DataFrame([input_dict], columns=column_order)\n",
    "\n",
    "    # Features a escalar (excluyendo 'Capital')\n",
    "    features_to_scale = [feat for feat in column_order if feat != 'Capital']\n",
    "\n",
    "    # Crear datos de entrada para escalar\n",
    "    X_input_to_scale = pd.DataFrame([input_dict], columns=features_to_scale)\n",
    "\n",
    "    # Escalar las características seleccionadas\n",
    "    X_scaled = scaler_entrada.transform(X_input_to_scale)\n",
    "\n",
    "    # Predecir con el modelo XGBoost\n",
    "    y_pred_scaled = model.predict(X_scaled)\n",
    "\n",
    "    # Invertir escalado + exponencial\n",
    "    y_pred_log = scaler_precio.inverse_transform(y_pred_scaled.reshape(-1, 1))\n",
    "    y_pred_eur = np.exp(y_pred_log)\n",
    "\n",
    "    precio_estimado = y_pred_eur[0][0]\n",
    "    return precio_estimado"
   ]
  },
  {
   "cell_type": "code",
   "execution_count": 31,
   "metadata": {
    "colab": {
     "base_uri": "https://localhost:8080/"
    },
    "executionInfo": {
     "elapsed": 23,
     "status": "ok",
     "timestamp": 1745344542237,
     "user": {
      "displayName": "Marina Fernández Delgado",
      "userId": "16194969030307626556"
     },
     "user_tz": -120
    },
    "id": "IV4pl38OhGSZ",
    "outputId": "899ef832-ea04-4a87-fe00-ca49d012c29f"
   },
   "outputs": [
    {
     "name": "stdout",
     "output_type": "stream",
     "text": [
      "💰 Precio estimado: 137,782.45 €\n",
      "El rango de precios 💰 este inmueble es: 96,447.72 € y 179,117.19 €\n"
     ]
    }
   ],
   "source": [
    "input_dict = {\n",
    "    'Habitaciones': 3,\n",
    "    'Aseos': 2,\n",
    "    'Metros': 105,\n",
    "    'CUDIS': 2408907,\n",
    "    'Población': 120000,\n",
    "    'Renta bruta media por persona': 36000,\n",
    "    'Comodidades': 1,\n",
    "    'Capital': 1,\n",
    "    'Precio_medio_mun_tipo': 132000  # en euros → la función aplica log\n",
    "}\n",
    "\n",
    "precio_estimado = predecir_precio(input_dict, scaler_entrada, scaler_precio, model)\n",
    "print(f\"💰 Precio estimado: {precio_estimado:,.2f} €\")\n",
    "print(f\"El rango de precios 💰 este inmueble es: {(precio_estimado*0.7):,.2f} € y {(precio_estimado*1.3):,.2f} €\")"
   ]
  }
 ],
 "metadata": {
  "colab": {
   "authorship_tag": "ABX9TyPt/wHdlOXkGrt1MvIItLgF",
   "provenance": []
  },
  "kernelspec": {
   "display_name": "venv",
   "language": "python",
   "name": "python3"
  },
  "language_info": {
   "name": "python",
   "version": "3.12.10"
  }
 },
 "nbformat": 4,
 "nbformat_minor": 0
}
