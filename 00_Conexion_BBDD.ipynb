{
 "cells": [
  {
   "cell_type": "code",
   "execution_count": null,
   "metadata": {
    "id": "Ri9i-BivnRzL"
   },
   "outputs": [],
   "source": [
    "import psycopg2\n",
    "import os\n",
    "from dotenv import load_dotenv"
   ]
  },
  {
   "cell_type": "code",
   "execution_count": null,
   "metadata": {
    "id": "8AsBbPDFSdaL"
   },
   "outputs": [],
   "source": [
    "def connect_to_postgresql():\n",
    "    \"\"\"Connects to a PostgreSQL database and returns the connection object.\n",
    "\n",
    "    Args:\n",
    "        host: The hostname or IP address of the database server.\n",
    "        database: The name of the database to connect to.\n",
    "        user: The username to authenticate with.\n",
    "        password: The password for the user.\n",
    "        port: The port number the database server is listening on (default is 5432).\n",
    "\n",
    "    Returns:\n",
    "        A psycopg2 connection object if successful, None otherwise.\n",
    "    \"\"\"\n",
    "    try:\n",
    "\n",
    "        load_dotenv()\n",
    "\n",
    "        conn = psycopg2.connect(\n",
    "            host =  os.getenv(\"host\"),\n",
    "            database = os.getenv(\"dbname\"),\n",
    "            user = os.getenv(\"user\"),\n",
    "            password = os.getenv(\"password\"),\n",
    "            port = os.getenv(\"port\")\n",
    "        )\n",
    "        if conn:\n",
    "            print(\"Conexión establecida\")\n",
    "    except psycopg2.Error as e:\n",
    "        print(f\"Error connecting to PostgreSQL: {e}\")\n",
    "        return None\n",
    "    finally:\n",
    "        print(\"Conexión cerrada\")\n",
    "        conn.close()"
   ]
  },
  {
   "cell_type": "code",
   "execution_count": null,
   "metadata": {
    "id": "I9huBjmrnRzR",
    "outputId": "8e57e4d9-13b6-4591-a917-ccab542a955b"
   },
   "outputs": [
    {
     "name": "stdout",
     "output_type": "stream",
     "text": [
      "Conexión exitosa\n",
      "Conexión cerrada\n"
     ]
    }
   ],
   "source": [
    "load_dotenv()\n",
    "\n",
    "try:\n",
    "    conn = psycopg2.connect(\n",
    "        host =  'localhost',\n",
    "        database = 'tfm',\n",
    "        user = 'postgres',\n",
    "        password = 'CHUKy-18',\n",
    "        port = 5432\n",
    "    )\n",
    "    print(\"Conexión exitosa\")\n",
    "except Exception as e:\n",
    "    print(\"Error al conectar:\", str(e))\n",
    "finally:\n",
    "    if 'conn' in locals() and conn is not None:\n",
    "        print(\"Conexión cerrada\")\n",
    "        conn.close()\n"
   ]
  },
  {
   "cell_type": "code",
   "execution_count": null,
   "metadata": {
    "id": "5IlB0nqonRzS",
    "outputId": "0f756992-41f4-4ea2-ea5e-e44241370065"
   },
   "outputs": [
    {
     "name": "stdout",
     "output_type": "stream",
     "text": [
      "Conexión establecida\n",
      "Conexión cerrada\n"
     ]
    }
   ],
   "source": [
    "connect_to_postgresql()"
   ]
  },
  {
   "cell_type": "code",
   "execution_count": 1,
   "metadata": {
    "colab": {
     "base_uri": "https://localhost:8080/"
    },
    "executionInfo": {
     "elapsed": 6062,
     "status": "ok",
     "timestamp": 1744992053755,
     "user": {
      "displayName": "Marina Fernández Delgado",
      "userId": "16194969030307626556"
     },
     "user_tz": -120
    },
    "id": "lQ89j2FsnmjT",
    "outputId": "7d2b973c-aee8-481c-8e1e-c7e8fe71903d"
   },
   "outputs": [
    {
     "name": "stdout",
     "output_type": "stream",
     "text": [
      "Requirement already satisfied: psycopg2-binary in /usr/local/lib/python3.11/dist-packages (2.9.10)\n"
     ]
    }
   ],
   "source": [
    "!pip install psycopg2-binary"
   ]
  },
  {
   "cell_type": "code",
   "execution_count": 1,
   "metadata": {
    "colab": {
     "base_uri": "https://localhost:8080/"
    },
    "executionInfo": {
     "elapsed": 1136,
     "status": "ok",
     "timestamp": 1744994388059,
     "user": {
      "displayName": "Marina Fernández Delgado",
      "userId": "16194969030307626556"
     },
     "user_tz": -120
    },
    "id": "GLTgWsHZnTVF",
    "outputId": "c510ce1f-8f77-45aa-de93-880656a3af23"
   },
   "outputs": [
    {
     "name": "stdout",
     "output_type": "stream",
     "text": [
      "Conexión exitosa a la base de datos PostgreSQL!\n"
     ]
    }
   ],
   "source": [
    "import psycopg2\n",
    "\n",
    "user='postgres'\n",
    "password='CHUKy-18'\n",
    "host='5.tcp.eu.ngrok.io'  # Reemplaza con la URL de ngrok\n",
    "port=15228             # Reemplaza con el puerto de ngrok\n",
    "dbname='tfm'\n",
    "\n",
    "try:\n",
    "    conn = psycopg2.connect(user=user, password=password, host=host, port=port, database=dbname)\n",
    "    cur = conn.cursor()\n",
    "    print(\"Conexión exitosa a la base de datos PostgreSQL!\")\n",
    "    # Aquí puedes ejecutar tus consultas\n",
    "    # ...\n",
    "    cur.close()\n",
    "    conn.close()\n",
    "except psycopg2.Error as e:\n",
    "    print(f\"Error al conectar a la base de datos: {e}\")"
   ]
  }
 ],
 "metadata": {
  "colab": {
   "provenance": []
  },
  "kernelspec": {
   "display_name": "venv",
   "language": "python",
   "name": "python3"
  },
  "language_info": {
   "codemirror_mode": {
    "name": "ipython",
    "version": 3
   },
   "file_extension": ".py",
   "mimetype": "text/x-python",
   "name": "python",
   "nbconvert_exporter": "python",
   "pygments_lexer": "ipython3",
   "version": "3.12.10"
  }
 },
 "nbformat": 4,
 "nbformat_minor": 0
}
