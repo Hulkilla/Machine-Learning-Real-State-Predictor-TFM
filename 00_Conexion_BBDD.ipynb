{
 "cells": [
  {
   "cell_type": "code",
   "execution_count": 3,
   "metadata": {
    "id": "Ri9i-BivnRzL"
   },
   "outputs": [],
   "source": [
    "import psycopg2\n",
    "import os\n",
    "from dotenv import load_dotenv"
   ]
  },
  {
   "cell_type": "code",
   "execution_count": 1,
   "metadata": {
    "id": "8AsBbPDFSdaL"
   },
   "outputs": [],
   "source": [
    "def connect_to_postgresql():\n",
    "    \"\"\"Connects to a PostgreSQL database and returns the connection object.\n",
    "\n",
    "    Args:\n",
    "        host: The hostname or IP address of the database server.\n",
    "        database: The name of the database to connect to.\n",
    "        user: The username to authenticate with.\n",
    "        password: The password for the user.\n",
    "        port: The port number the database server is listening on (default is 5432).\n",
    "\n",
    "    Returns:\n",
    "        A psycopg2 connection object if successful, None otherwise.\n",
    "    \"\"\"\n",
    "    try:\n",
    "\n",
    "        load_dotenv()\n",
    "\n",
    "        conn = psycopg2.connect(\n",
    "            host =  os.getenv(\"host\"),\n",
    "            database = os.getenv(\"dbname\"),\n",
    "            user = os.getenv(\"user\"),\n",
    "            password = os.getenv(\"password\"),\n",
    "            port = os.getenv(\"port\")\n",
    "        )\n",
    "        if conn:\n",
    "            print(\"Conexión establecida\")\n",
    "    except psycopg2.Error as e:\n",
    "        print(f\"Error connecting to PostgreSQL: {e}\")\n",
    "        return None\n",
    "    finally:\n",
    "        print(\"Conexión cerrada\")\n",
    "        conn.close()"
   ]
  },
  {
   "cell_type": "code",
   "execution_count": null,
   "metadata": {
    "id": "I9huBjmrnRzR",
    "outputId": "8e57e4d9-13b6-4591-a917-ccab542a955b"
   },
   "outputs": [
    {
     "name": "stdout",
     "output_type": "stream",
     "text": [
      "Conexión exitosa\n",
      "Conexión cerrada\n"
     ]
    }
   ],
   "source": [
    "load_dotenv()\n",
    "\n",
    "try:\n",
    "    conn = psycopg2.connect(\n",
    "        host =  'localhost',\n",
    "        database = 'tfm',\n",
    "        user = 'postgres',\n",
    "        password = 'password',\n",
    "        port = 5432\n",
    "    )\n",
    "    print(\"Conexión exitosa\")\n",
    "except Exception as e:\n",
    "    print(\"Error al conectar:\", str(e))\n",
    "finally:\n",
    "    if 'conn' in locals() and conn is not None:\n",
    "        print(\"Conexión cerrada\")\n",
    "        conn.close()\n"
   ]
  },
  {
   "cell_type": "code",
   "execution_count": 5,
   "metadata": {
    "id": "5IlB0nqonRzS",
    "outputId": "0f756992-41f4-4ea2-ea5e-e44241370065"
   },
   "outputs": [
    {
     "name": "stdout",
     "output_type": "stream",
     "text": [
      "Conexión establecida\n",
      "Conexión cerrada\n"
     ]
    }
   ],
   "source": [
    "connect_to_postgresql()"
   ]
  }
 ],
 "metadata": {
  "colab": {
   "provenance": []
  },
  "kernelspec": {
   "display_name": "venv",
   "language": "python",
   "name": "python3"
  },
  "language_info": {
   "codemirror_mode": {
    "name": "ipython",
    "version": 3
   },
   "file_extension": ".py",
   "mimetype": "text/x-python",
   "name": "python",
   "nbconvert_exporter": "python",
   "pygments_lexer": "ipython3",
   "version": "3.12.10"
  }
 },
 "nbformat": 4,
 "nbformat_minor": 0
}
