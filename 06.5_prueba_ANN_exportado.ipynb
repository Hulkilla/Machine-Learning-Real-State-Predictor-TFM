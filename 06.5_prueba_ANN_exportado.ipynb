{
 "cells": [
  {
   "cell_type": "code",
   "execution_count": null,
   "metadata": {
    "colab": {
     "base_uri": "https://localhost:8080/"
    },
    "executionInfo": {
     "elapsed": 82346,
     "status": "ok",
     "timestamp": 1745343708462,
     "user": {
      "displayName": "Marina Fernández Delgado",
      "userId": "16194969030307626556"
     },
     "user_tz": -120
    },
    "id": "8WsA6p-UcdnB",
    "outputId": "f27842ac-de16-49b9-c2e6-7ac9a4e175fe"
   },
   "outputs": [
    {
     "name": "stdout",
     "output_type": "stream",
     "text": [
      "Mounted at /content/drive\n"
     ]
    }
   ],
   "source": [
    "#from google.colab import drive\n",
    "#drive.mount('/content/drive')"
   ]
  },
  {
   "cell_type": "code",
   "execution_count": null,
   "metadata": {
    "colab": {
     "base_uri": "https://localhost:8080/"
    },
    "executionInfo": {
     "elapsed": 468,
     "status": "ok",
     "timestamp": 1745343708939,
     "user": {
      "displayName": "Marina Fernández Delgado",
      "userId": "16194969030307626556"
     },
     "user_tz": -120
    },
    "id": "rZd-MZHfcd84",
    "outputId": "dc8bd392-22d1-4071-96b2-67719544e4d7"
   },
   "outputs": [
    {
     "name": "stdout",
     "output_type": "stream",
     "text": [
      "Current working directory: /content/drive/My Drive/tfm/codigo\n"
     ]
    }
   ],
   "source": [
    "#import os\n",
    "#PROJECT_ROOT = '/content/drive/My Drive/tfm/codigo' #@param {type:\"string\"}\n",
    "#os.chdir(PROJECT_ROOT)\n",
    "#print(\"Current working directory:\", os.getcwd())"
   ]
  },
  {
   "cell_type": "code",
   "execution_count": 4,
   "metadata": {
    "executionInfo": {
     "elapsed": 5763,
     "status": "ok",
     "timestamp": 1745343714704,
     "user": {
      "displayName": "Marina Fernández Delgado",
      "userId": "16194969030307626556"
     },
     "user_tz": -120
    },
    "id": "-mh0TdrHcAGy"
   },
   "outputs": [],
   "source": [
    "import sys\n",
    "import torch\n",
    "import torch\n",
    "import torch.nn as nn\n",
    "import numpy as np\n",
    "\n",
    "import joblib"
   ]
  },
  {
   "cell_type": "code",
   "execution_count": 5,
   "metadata": {
    "executionInfo": {
     "elapsed": 1217,
     "status": "ok",
     "timestamp": 1745343715920,
     "user": {
      "displayName": "Marina Fernández Delgado",
      "userId": "16194969030307626556"
     },
     "user_tz": -120
    },
    "id": "MyVoJoyke0LB"
   },
   "outputs": [],
   "source": [
    "sys.path.append('/content/drive/My Drive/tfm/codigo/modelo_ann/')  # Add the path to your models\n",
    "from modelo import MLP"
   ]
  },
  {
   "cell_type": "code",
   "execution_count": null,
   "metadata": {
    "executionInfo": {
     "elapsed": 3459,
     "status": "ok",
     "timestamp": 1745343719381,
     "user": {
      "displayName": "Marina Fernández Delgado",
      "userId": "16194969030307626556"
     },
     "user_tz": -120
    },
    "id": "3YJdqh0vcawI"
   },
   "outputs": [],
   "source": [
    "# === Cargar modelo y escaladores ===\n",
    "model = joblib.load(\"/content/drive/My Drive/tfm/codigo/modelos_exportados/modelo_ann/modelo_ann.pkl\")\n",
    "\n",
    "scaler_entrada = joblib.load(\"/content/drive/My Drive/tfm/codigo/modelos_exportados/modelo_ann/standardscaler_datos_entrada.pkl\")\n",
    "scaler_precio = joblib.load(\"/content/drive/My Drive/tfm/codigo/modelos_exportados/modelo_ann/standardscaler_precio.pkl\")\n"
   ]
  },
  {
   "cell_type": "code",
   "execution_count": 7,
   "metadata": {
    "executionInfo": {
     "elapsed": 10,
     "status": "ok",
     "timestamp": 1745343719393,
     "user": {
      "displayName": "Marina Fernández Delgado",
      "userId": "16194969030307626556"
     },
     "user_tz": -120
    },
    "id": "Xy7pHvtYbNxY"
   },
   "outputs": [],
   "source": [
    "# === Input manual ===\n",
    "# El precio_medio_mun_tipo ya debe estar en euros → le aplicas log\n",
    "# Todas las variables deben coincidir con las columnas usadas para entrenar\n",
    "\n",
    "input_dict = {\n",
    "    'Habitaciones': 3,\n",
    "    'Aseos': 2,\n",
    "    'Metros': 105,\n",
    "    'CUDIS': 2408907,\n",
    "    'Población': 120000,\n",
    "    'Renta bruta media por persona': 36000,\n",
    "    'Comodidades': 1,\n",
    "    'Capital': 1,\n",
    "    'Precio_medio_mun_tipo': np.log(132000)  # € → aplicar log\n",
    "}\n"
   ]
  },
  {
   "cell_type": "code",
   "execution_count": 30,
   "metadata": {
    "colab": {
     "base_uri": "https://localhost:8080/"
    },
    "executionInfo": {
     "elapsed": 18,
     "status": "ok",
     "timestamp": 1745344564645,
     "user": {
      "displayName": "Marina Fernández Delgado",
      "userId": "16194969030307626556"
     },
     "user_tz": -120
    },
    "id": "pTyLH4zgfRv5",
    "outputId": "038f249a-07e0-4dcb-9e8c-3f14cea353a5"
   },
   "outputs": [
    {
     "name": "stdout",
     "output_type": "stream",
     "text": [
      "[[ 0.24348198  0.87927311  0.36340549 -0.44528777  0.51035166  1.05159444\n",
      "   0.90479803  1.          0.54688789]]\n"
     ]
    }
   ],
   "source": [
    "# === Preprocesado ===\n",
    "\n",
    "# 1. Define the column order (including 'Capital')\n",
    "column_order = ['Habitaciones', 'Aseos', 'Metros', 'CUDIS', 'Población',\n",
    "                'Renta bruta media por persona', 'Comodidades', 'Capital',\n",
    "                'Precio_medio_mun_tipo']\n",
    "\n",
    "# 2. Features to be scaled (excluding 'Capital')\n",
    "features_to_scale = [feat for feat in column_order if feat != 'Capital']\n",
    "\n",
    "# 3. Create input data for scaling\n",
    "X_input_to_scale = pd.DataFrame([input_dict], columns=features_to_scale)\n",
    "\n",
    "# 4. Scale the selected features\n",
    "X_scaled = scaler_entrada.transform(X_input_to_scale)\n",
    "\n",
    "# 5. Insert 'Capital' at the penultimate position\n",
    "capital_index = column_order.index('Capital')\n",
    "X_with_capital = np.insert(X_scaled, capital_index, input_dict['Capital'], axis=1)\n",
    "print(X_with_capital)\n",
    "\n",
    "# 6. Convert to PyTorch tensor\n",
    "X_tensor = torch.tensor(X_with_capital, dtype=torch.float32)"
   ]
  },
  {
   "cell_type": "code",
   "execution_count": 23,
   "metadata": {
    "colab": {
     "base_uri": "https://localhost:8080/"
    },
    "executionInfo": {
     "elapsed": 37,
     "status": "ok",
     "timestamp": 1745343828160,
     "user": {
      "displayName": "Marina Fernández Delgado",
      "userId": "16194969030307626556"
     },
     "user_tz": -120
    },
    "id": "sPFGeLsofNUB",
    "outputId": "d10450c8-3297-4061-c8cf-6b5b63aa3a8a"
   },
   "outputs": [
    {
     "name": "stdout",
     "output_type": "stream",
     "text": [
      "📦 Precio estimado: 150,779.76 €\n"
     ]
    }
   ],
   "source": [
    "# === Predicción ===\n",
    "with torch.no_grad():\n",
    "    y_pred_scaled = model(X_tensor).item()\n",
    "\n",
    "# === Inversión de escalado + exponencial ===\n",
    "y_pred_log = scaler_precio.inverse_transform([[y_pred_scaled]])[0][0]\n",
    "y_pred_eur = np.exp(y_pred_log)\n",
    "\n",
    "print(f\"📦 Precio estimado: {y_pred_eur:,.2f} €\")"
   ]
  },
  {
   "cell_type": "code",
   "execution_count": null,
   "metadata": {
    "executionInfo": {
     "elapsed": 4,
     "status": "ok",
     "timestamp": 1745344554124,
     "user": {
      "displayName": "Marina Fernández Delgado",
      "userId": "16194969030307626556"
     },
     "user_tz": -120
    },
    "id": "nPWV-ReShEmS"
   },
   "outputs": [],
   "source": [
    "import numpy as np\n",
    "import pandas as pd\n",
    "import torch\n",
    "\n",
    "def predecir_precio(input_dict, scaler_x, scaler_y, model):\n",
    "    \"\"\"\n",
    "    Predice el precio final en euros a partir de un input_dict con características de la vivienda.\n",
    "\n",
    "    Parámetros:\n",
    "        input_dict: Diccionario con los valores de entrada (en euros y sin escalar).\n",
    "        scaler_x: StandardScaler entrenado para X (entrada).\n",
    "        scaler_y: StandardScaler entrenado para y (salida en log).\n",
    "        model: Red neuronal entrenada (PyTorch).\n",
    "\n",
    "    Retorna:\n",
    "        Precio estimado (en euros).\n",
    "    \"\"\"\n",
    "\n",
    "    # Orden correcto de las columnas (sin 'Capital' si no fue usada para entrenar el modelo)\n",
    "    column_order = ['Habitaciones', 'Aseos', 'Metros', 'CUDIS',\n",
    "                    'Población', 'Renta bruta media por persona',\n",
    "                    'Comodidades', 'Capital', 'Precio_medio_mun_tipo']\n",
    "\n",
    "    # Asegurar que el precio medio ya está en log en el input_dict\n",
    "    input_dict['Precio_medio_mun_tipo'] = np.log(input_dict['Precio_medio_mun_tipo'])\n",
    "\n",
    "\n",
    "    # 2. Features to be scaled (excluding 'Capital')\n",
    "    features_to_scale = [feat for feat in column_order if feat != 'Capital']\n",
    "\n",
    "    # 3. Create input data for scaling\n",
    "    X_input_to_scale = pd.DataFrame([input_dict], columns=features_to_scale)\n",
    "\n",
    "    # 4. Scale the selected features\n",
    "    X_scaled = scaler_x.transform(X_input_to_scale)\n",
    "\n",
    "    # 5. Insert 'Capital' at the penultimate position\n",
    "    capital_index = column_order.index('Capital')\n",
    "    X_with_capital = np.insert(X_scaled, capital_index, input_dict['Capital'], axis=1)\n",
    "\n",
    "    # 6. Convert to PyTorch tensor\n",
    "    X_tensor = torch.tensor(X_with_capital, dtype=torch.float32)\n",
    "\n",
    "    # Predecir con el modelo\n",
    "    model.eval()\n",
    "    with torch.no_grad():\n",
    "        y_pred_scaled = model(X_tensor).numpy().ravel()\n",
    "\n",
    "    # Invertir escalado\n",
    "    y_pred_log = scaler_y.inverse_transform(y_pred_scaled.reshape(-1, 1)).ravel()\n",
    "\n",
    "    # Invertir logaritmo para obtener el precio en euros\n",
    "    y_pred_euros = np.exp(y_pred_log)[0]\n",
    "\n",
    "    return y_pred_euros"
   ]
  },
  {
   "cell_type": "code",
   "execution_count": 29,
   "metadata": {
    "colab": {
     "base_uri": "https://localhost:8080/"
    },
    "executionInfo": {
     "elapsed": 10,
     "status": "ok",
     "timestamp": 1745344555616,
     "user": {
      "displayName": "Marina Fernández Delgado",
      "userId": "16194969030307626556"
     },
     "user_tz": -120
    },
    "id": "IV4pl38OhGSZ",
    "outputId": "714570f5-c308-463f-d281-49731f95fcf4"
   },
   "outputs": [
    {
     "name": "stdout",
     "output_type": "stream",
     "text": [
      "💰 Precio estimado: 150,779.73 €\n",
      "El rango de precios 💰 este inmueble es: 105,545.81 € y 196,013.65 €\n"
     ]
    }
   ],
   "source": [
    "input_dict = {\n",
    "    'Habitaciones': 3,\n",
    "    'Aseos': 2,\n",
    "    'Metros': 105,\n",
    "    'CUDIS': 2408907,\n",
    "    'Población': 120000,\n",
    "    'Renta bruta media por persona': 36000,\n",
    "    'Comodidades': 1,\n",
    "    'Capital': 1,\n",
    "    'Precio_medio_mun_tipo': 132000  # en euros → la función aplica log\n",
    "}\n",
    "\n",
    "precio_estimado = predecir_precio(input_dict, scaler_entrada, scaler_precio, model)\n",
    "print(f\"💰 Precio estimado: {precio_estimado:,.2f} €\")\n",
    "print(f\"El rango de precios 💰 este inmueble es: {(precio_estimado*0.7):,.2f} € y {(precio_estimado*1.3):,.2f} €\")"
   ]
  }
 ],
 "metadata": {
  "colab": {
   "authorship_tag": "ABX9TyNP1FmcwvQeEIYm6gXc0j7a",
   "provenance": []
  },
  "kernelspec": {
   "display_name": "venv",
   "language": "python",
   "name": "python3"
  },
  "language_info": {
   "name": "python",
   "version": "3.12.10"
  }
 },
 "nbformat": 4,
 "nbformat_minor": 0
}
