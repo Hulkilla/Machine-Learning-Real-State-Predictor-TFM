{
 "cells": [
  {
   "cell_type": "code",
   "execution_count": null,
   "metadata": {
    "colab": {
     "base_uri": "https://localhost:8080/"
    },
    "executionInfo": {
     "elapsed": 2167,
     "status": "ok",
     "timestamp": 1745333260729,
     "user": {
      "displayName": "Marina Fernández Delgado",
      "userId": "16194969030307626556"
     },
     "user_tz": -120
    },
    "id": "noqQ3yY74PZ5",
    "outputId": "4d773b8c-c939-46e9-eafa-b38c596fe058"
   },
   "outputs": [
    {
     "name": "stdout",
     "output_type": "stream",
     "text": [
      "Drive already mounted at /content/drive; to attempt to forcibly remount, call drive.mount(\"/content/drive\", force_remount=True).\n"
     ]
    }
   ],
   "source": [
    "#from google.colab import drive\n",
    "#drive.mount('/content/drive')"
   ]
  },
  {
   "cell_type": "code",
   "execution_count": null,
   "metadata": {
    "colab": {
     "base_uri": "https://localhost:8080/"
    },
    "executionInfo": {
     "elapsed": 8,
     "status": "ok",
     "timestamp": 1745333260730,
     "user": {
      "displayName": "Marina Fernández Delgado",
      "userId": "16194969030307626556"
     },
     "user_tz": -120
    },
    "id": "sVRonn4a4XXz",
    "outputId": "c262cd8c-c061-42c0-bd15-121349d9fb09"
   },
   "outputs": [
    {
     "name": "stdout",
     "output_type": "stream",
     "text": [
      "Current working directory: /content/drive/My Drive/tfm/codigo\n"
     ]
    }
   ],
   "source": [
    "#import os\n",
    "#PROJECT_ROOT = '/content/drive/My Drive/tfm/codigo' #@param {type:\"string\"}\n",
    "#os.chdir(PROJECT_ROOT)\n",
    "#print(\"Current working directory:\", os.getcwd())"
   ]
  },
  {
   "cell_type": "code",
   "execution_count": null,
   "metadata": {
    "colab": {
     "base_uri": "https://localhost:8080/"
    },
    "executionInfo": {
     "elapsed": 2583,
     "status": "ok",
     "timestamp": 1745333263309,
     "user": {
      "displayName": "Marina Fernández Delgado",
      "userId": "16194969030307626556"
     },
     "user_tz": -120
    },
    "id": "6VH_DqDN4YyT",
    "outputId": "7f92f20a-50f7-49b3-cf72-47e24428c0f7"
   },
   "outputs": [
    {
     "name": "stdout",
     "output_type": "stream",
     "text": [
      "Requirement already satisfied: python-dotenv in /usr/local/lib/python3.11/dist-packages (1.1.0)\n"
     ]
    }
   ],
   "source": [
    "#!pip install python-dotenv\n",
    "#import os\n",
    "#from dotenv import load_dotenv"
   ]
  },
  {
   "cell_type": "markdown",
   "metadata": {
    "id": "NlOsz1zp_LmT"
   },
   "source": [
    "# Librerías"
   ]
  },
  {
   "cell_type": "code",
   "execution_count": 87,
   "metadata": {
    "executionInfo": {
     "elapsed": 2,
     "status": "ok",
     "timestamp": 1745333263313,
     "user": {
      "displayName": "Marina Fernández Delgado",
      "userId": "16194969030307626556"
     },
     "user_tz": -120
    },
    "id": "sp4g6g6o4aH6"
   },
   "outputs": [],
   "source": [
    "# Manipulación de datos\n",
    "import pandas as pd\n",
    "import numpy as np\n",
    "\n",
    "# Base de Datos y Variables de Entorno\n",
    "from conexion import connect_to_postgresql, train_model, calculate_percentage_deviation, plot_predictions\n",
    "\n",
    "# Visualización de datos\n",
    "import matplotlib.pyplot as plt\n",
    "import seaborn as sns\n",
    "\n",
    "from matplotlib import rcParams\n",
    "rcParams['font.family'] = 'DejaVu Sans'\n",
    "\n",
    "# Machine Learning y estadística\n",
    "from sklearn.preprocessing import StandardScaler\n",
    "from sklearn.feature_selection import VarianceThreshold\n",
    "from sklearn.model_selection import train_test_split, GridSearchCV, StratifiedKFold, KFold\n",
    "from sklearn.metrics import mean_squared_error, mean_absolute_error, r2_score\n",
    "\n",
    "# Red neuronal\n",
    "import torch\n",
    "import torch.nn as nn\n",
    "import torch.optim as optim\n",
    "import shap\n",
    "\n",
    "# Exportación modelos\n",
    "import joblib"
   ]
  },
  {
   "cell_type": "code",
   "execution_count": 88,
   "metadata": {
    "executionInfo": {
     "elapsed": 2,
     "status": "ok",
     "timestamp": 1745333263317,
     "user": {
      "displayName": "Marina Fernández Delgado",
      "userId": "16194969030307626556"
     },
     "user_tz": -120
    },
    "id": "zMmelERU4hDK"
   },
   "outputs": [],
   "source": [
    "pd.set_option(\"display.max_columns\", None)\n",
    "pd.options.display.float_format = '{:,.2f}'.format"
   ]
  },
  {
   "cell_type": "markdown",
   "metadata": {
    "id": "yE7E5-C9_OAz"
   },
   "source": [
    "# Datos"
   ]
  },
  {
   "cell_type": "code",
   "execution_count": 89,
   "metadata": {
    "colab": {
     "base_uri": "https://localhost:8080/",
     "height": 241
    },
    "executionInfo": {
     "elapsed": 6249,
     "status": "ok",
     "timestamp": 1745333269571,
     "user": {
      "displayName": "Marina Fernández Delgado",
      "userId": "16194969030307626556"
     },
     "user_tz": -120
    },
    "id": "mINBwMNG4hhD",
    "outputId": "ceaef8ac-379f-4d7d-cd7b-54d40586bb6f"
   },
   "outputs": [
    {
     "name": "stdout",
     "output_type": "stream",
     "text": [
      "Conexión establecida\n",
      "La consulta se ha ejecutado con éxito\n"
     ]
    },
    {
     "data": {
      "application/vnd.google.colaboratory.intrinsic+json": {
       "summary": "{\n  \"name\": \"df_ml\",\n  \"rows\": 16769,\n  \"fields\": [\n    {\n      \"column\": \"Fecha\",\n      \"properties\": {\n        \"dtype\": \"date\",\n        \"min\": \"2021-09-08 00:00:00\",\n        \"max\": \"2022-01-28 00:00:00\",\n        \"num_unique_values\": 80,\n        \"samples\": [\n          \"2021-09-22 00:00:00\",\n          \"2021-12-31 00:00:00\",\n          \"2021-10-24 00:00:00\"\n        ],\n        \"semantic_type\": \"\",\n        \"description\": \"\"\n      }\n    },\n    {\n      \"column\": \"Habitaciones\",\n      \"properties\": {\n        \"dtype\": \"number\",\n        \"std\": 0.8567591605914895,\n        \"min\": 1.0,\n        \"max\": 6.0,\n        \"num_unique_values\": 6,\n        \"samples\": [\n          2.0,\n          3.0,\n          6.0\n        ],\n        \"semantic_type\": \"\",\n        \"description\": \"\"\n      }\n    },\n    {\n      \"column\": \"Aseos\",\n      \"properties\": {\n        \"dtype\": \"number\",\n        \"std\": 0.5651755619269739,\n        \"min\": 1.0,\n        \"max\": 3.0,\n        \"num_unique_values\": 3,\n        \"samples\": [\n          1.0,\n          2.0,\n          3.0\n        ],\n        \"semantic_type\": \"\",\n        \"description\": \"\"\n      }\n    },\n    {\n      \"column\": \"Precio\",\n      \"properties\": {\n        \"dtype\": \"number\",\n        \"std\": 55315.59057634709,\n        \"min\": 10000.0,\n        \"max\": 281000.0,\n        \"num_unique_values\": 1441,\n        \"samples\": [\n          42000.0,\n          115900.0,\n          80100.0\n        ],\n        \"semantic_type\": \"\",\n        \"description\": \"\"\n      }\n    },\n    {\n      \"column\": \"Metros\",\n      \"properties\": {\n        \"dtype\": \"number\",\n        \"std\": 30.631637371243716,\n        \"min\": 1.0,\n        \"max\": 202.0,\n        \"num_unique_values\": 182,\n        \"samples\": [\n          90.0,\n          81.0,\n          174.0\n        ],\n        \"semantic_type\": \"\",\n        \"description\": \"\"\n      }\n    },\n    {\n      \"column\": \"CUDIS\",\n      \"properties\": {\n        \"dtype\": \"number\",\n        \"std\": 1448155.4725558523,\n        \"min\": 500101.0,\n        \"max\": 4927505.0,\n        \"num_unique_values\": 822,\n        \"samples\": [\n          505701.0,\n          904801.0,\n          2414901.0\n        ],\n        \"semantic_type\": \"\",\n        \"description\": \"\"\n      }\n    },\n    {\n      \"column\": \"Provincia\",\n      \"properties\": {\n        \"dtype\": \"category\",\n        \"num_unique_values\": 9,\n        \"samples\": [\n          \"Segovia\",\n          \"Zamora\",\n          \"Palencia\"\n        ],\n        \"semantic_type\": \"\",\n        \"description\": \"\"\n      }\n    },\n    {\n      \"column\": \"Poblaci\\u00f3n\",\n      \"properties\": {\n        \"dtype\": \"number\",\n        \"std\": 83248.30937853218,\n        \"min\": 10.0,\n        \"max\": 294264.0,\n        \"num_unique_values\": 739,\n        \"samples\": [\n          2271.0,\n          61.0,\n          3617.0\n        ],\n        \"semantic_type\": \"\",\n        \"description\": \"\"\n      }\n    },\n    {\n      \"column\": \"Renta bruta media por persona\",\n      \"properties\": {\n        \"dtype\": \"number\",\n        \"std\": 3764.253659817169,\n        \"min\": 20772.0,\n        \"max\": 41508.0,\n        \"num_unique_values\": 809,\n        \"samples\": [\n          28660.0,\n          33640.0,\n          27178.0\n        ],\n        \"semantic_type\": \"\",\n        \"description\": \"\"\n      }\n    },\n    {\n      \"column\": \"Comodidades\",\n      \"properties\": {\n        \"dtype\": \"number\",\n        \"std\": 0,\n        \"min\": 0,\n        \"max\": 2,\n        \"num_unique_values\": 3,\n        \"samples\": [\n          0,\n          1,\n          2\n        ],\n        \"semantic_type\": \"\",\n        \"description\": \"\"\n      }\n    },\n    {\n      \"column\": \"Capital\",\n      \"properties\": {\n        \"dtype\": \"boolean\",\n        \"num_unique_values\": 2,\n        \"samples\": [\n          false,\n          true\n        ],\n        \"semantic_type\": \"\",\n        \"description\": \"\"\n      }\n    },\n    {\n      \"column\": \"Municipio_Tipo\",\n      \"properties\": {\n        \"dtype\": \"category\",\n        \"num_unique_values\": 969,\n        \"samples\": [\n          \"Mojados_Apartment\",\n          \"Carbajosa de la Sagrada_Apartment\"\n        ],\n        \"semantic_type\": \"\",\n        \"description\": \"\"\n      }\n    },\n    {\n      \"column\": \"Precio_medio_mun_tipo\",\n      \"properties\": {\n        \"dtype\": \"number\",\n        \"std\": 34069.67025788003,\n        \"min\": 11500.0,\n        \"max\": 229000.0,\n        \"num_unique_values\": 639,\n        \"samples\": [\n          22000.0,\n          134663.43636363637\n        ],\n        \"semantic_type\": \"\",\n        \"description\": \"\"\n      }\n    }\n  ]\n}",
       "type": "dataframe",
       "variable_name": "df_ml"
      },
      "text/html": [
       "\n",
       "  <div id=\"df-9487f148-503f-4501-b06f-5d8a1696b2d9\" class=\"colab-df-container\">\n",
       "    <div>\n",
       "<style scoped>\n",
       "    .dataframe tbody tr th:only-of-type {\n",
       "        vertical-align: middle;\n",
       "    }\n",
       "\n",
       "    .dataframe tbody tr th {\n",
       "        vertical-align: top;\n",
       "    }\n",
       "\n",
       "    .dataframe thead th {\n",
       "        text-align: right;\n",
       "    }\n",
       "</style>\n",
       "<table border=\"1\" class=\"dataframe\">\n",
       "  <thead>\n",
       "    <tr style=\"text-align: right;\">\n",
       "      <th></th>\n",
       "      <th>Fecha</th>\n",
       "      <th>Habitaciones</th>\n",
       "      <th>Aseos</th>\n",
       "      <th>Precio</th>\n",
       "      <th>Metros</th>\n",
       "      <th>CUDIS</th>\n",
       "      <th>Provincia</th>\n",
       "      <th>Población</th>\n",
       "      <th>Renta bruta media por persona</th>\n",
       "      <th>Comodidades</th>\n",
       "      <th>Capital</th>\n",
       "      <th>Municipio_Tipo</th>\n",
       "      <th>Precio_medio_mun_tipo</th>\n",
       "    </tr>\n",
       "  </thead>\n",
       "  <tbody>\n",
       "    <tr>\n",
       "      <th>0</th>\n",
       "      <td>2021-12-31</td>\n",
       "      <td>2.00</td>\n",
       "      <td>1.00</td>\n",
       "      <td>56,000.00</td>\n",
       "      <td>66.00</td>\n",
       "      <td>2,408,909.00</td>\n",
       "      <td>León</td>\n",
       "      <td>120,082.00</td>\n",
       "      <td>35,956.00</td>\n",
       "      <td>0</td>\n",
       "      <td>True</td>\n",
       "      <td>León_Apartment</td>\n",
       "      <td>131,994.02</td>\n",
       "    </tr>\n",
       "    <tr>\n",
       "      <th>1</th>\n",
       "      <td>2021-12-31</td>\n",
       "      <td>3.00</td>\n",
       "      <td>2.00</td>\n",
       "      <td>89,000.00</td>\n",
       "      <td>105.00</td>\n",
       "      <td>2,408,907.00</td>\n",
       "      <td>León</td>\n",
       "      <td>120,082.00</td>\n",
       "      <td>35,956.00</td>\n",
       "      <td>1</td>\n",
       "      <td>True</td>\n",
       "      <td>León_Apartment</td>\n",
       "      <td>131,994.02</td>\n",
       "    </tr>\n",
       "    <tr>\n",
       "      <th>2</th>\n",
       "      <td>2021-12-31</td>\n",
       "      <td>1.00</td>\n",
       "      <td>1.00</td>\n",
       "      <td>55,000.00</td>\n",
       "      <td>45.00</td>\n",
       "      <td>2,408,903.00</td>\n",
       "      <td>León</td>\n",
       "      <td>120,082.00</td>\n",
       "      <td>35,956.00</td>\n",
       "      <td>0</td>\n",
       "      <td>True</td>\n",
       "      <td>León_Apartment</td>\n",
       "      <td>131,994.02</td>\n",
       "    </tr>\n",
       "    <tr>\n",
       "      <th>3</th>\n",
       "      <td>2021-12-31</td>\n",
       "      <td>3.00</td>\n",
       "      <td>1.00</td>\n",
       "      <td>80,000.00</td>\n",
       "      <td>87.00</td>\n",
       "      <td>2,408,906.00</td>\n",
       "      <td>León</td>\n",
       "      <td>120,082.00</td>\n",
       "      <td>35,956.00</td>\n",
       "      <td>2</td>\n",
       "      <td>True</td>\n",
       "      <td>León_Apartment</td>\n",
       "      <td>131,994.02</td>\n",
       "    </tr>\n",
       "    <tr>\n",
       "      <th>4</th>\n",
       "      <td>2021-12-31</td>\n",
       "      <td>2.00</td>\n",
       "      <td>1.00</td>\n",
       "      <td>56,000.00</td>\n",
       "      <td>66.00</td>\n",
       "      <td>2,408,909.00</td>\n",
       "      <td>León</td>\n",
       "      <td>120,082.00</td>\n",
       "      <td>35,956.00</td>\n",
       "      <td>1</td>\n",
       "      <td>True</td>\n",
       "      <td>León_Apartment</td>\n",
       "      <td>131,994.02</td>\n",
       "    </tr>\n",
       "  </tbody>\n",
       "</table>\n",
       "</div>\n",
       "    <div class=\"colab-df-buttons\">\n",
       "\n",
       "  <div class=\"colab-df-container\">\n",
       "    <button class=\"colab-df-convert\" onclick=\"convertToInteractive('df-9487f148-503f-4501-b06f-5d8a1696b2d9')\"\n",
       "            title=\"Convert this dataframe to an interactive table.\"\n",
       "            style=\"display:none;\">\n",
       "\n",
       "  <svg xmlns=\"http://www.w3.org/2000/svg\" height=\"24px\" viewBox=\"0 -960 960 960\">\n",
       "    <path d=\"M120-120v-720h720v720H120Zm60-500h600v-160H180v160Zm220 220h160v-160H400v160Zm0 220h160v-160H400v160ZM180-400h160v-160H180v160Zm440 0h160v-160H620v160ZM180-180h160v-160H180v160Zm440 0h160v-160H620v160Z\"/>\n",
       "  </svg>\n",
       "    </button>\n",
       "\n",
       "  <style>\n",
       "    .colab-df-container {\n",
       "      display:flex;\n",
       "      gap: 12px;\n",
       "    }\n",
       "\n",
       "    .colab-df-convert {\n",
       "      background-color: #E8F0FE;\n",
       "      border: none;\n",
       "      border-radius: 50%;\n",
       "      cursor: pointer;\n",
       "      display: none;\n",
       "      fill: #1967D2;\n",
       "      height: 32px;\n",
       "      padding: 0 0 0 0;\n",
       "      width: 32px;\n",
       "    }\n",
       "\n",
       "    .colab-df-convert:hover {\n",
       "      background-color: #E2EBFA;\n",
       "      box-shadow: 0px 1px 2px rgba(60, 64, 67, 0.3), 0px 1px 3px 1px rgba(60, 64, 67, 0.15);\n",
       "      fill: #174EA6;\n",
       "    }\n",
       "\n",
       "    .colab-df-buttons div {\n",
       "      margin-bottom: 4px;\n",
       "    }\n",
       "\n",
       "    [theme=dark] .colab-df-convert {\n",
       "      background-color: #3B4455;\n",
       "      fill: #D2E3FC;\n",
       "    }\n",
       "\n",
       "    [theme=dark] .colab-df-convert:hover {\n",
       "      background-color: #434B5C;\n",
       "      box-shadow: 0px 1px 3px 1px rgba(0, 0, 0, 0.15);\n",
       "      filter: drop-shadow(0px 1px 2px rgba(0, 0, 0, 0.3));\n",
       "      fill: #FFFFFF;\n",
       "    }\n",
       "  </style>\n",
       "\n",
       "    <script>\n",
       "      const buttonEl =\n",
       "        document.querySelector('#df-9487f148-503f-4501-b06f-5d8a1696b2d9 button.colab-df-convert');\n",
       "      buttonEl.style.display =\n",
       "        google.colab.kernel.accessAllowed ? 'block' : 'none';\n",
       "\n",
       "      async function convertToInteractive(key) {\n",
       "        const element = document.querySelector('#df-9487f148-503f-4501-b06f-5d8a1696b2d9');\n",
       "        const dataTable =\n",
       "          await google.colab.kernel.invokeFunction('convertToInteractive',\n",
       "                                                    [key], {});\n",
       "        if (!dataTable) return;\n",
       "\n",
       "        const docLinkHtml = 'Like what you see? Visit the ' +\n",
       "          '<a target=\"_blank\" href=https://colab.research.google.com/notebooks/data_table.ipynb>data table notebook</a>'\n",
       "          + ' to learn more about interactive tables.';\n",
       "        element.innerHTML = '';\n",
       "        dataTable['output_type'] = 'display_data';\n",
       "        await google.colab.output.renderOutput(dataTable, element);\n",
       "        const docLink = document.createElement('div');\n",
       "        docLink.innerHTML = docLinkHtml;\n",
       "        element.appendChild(docLink);\n",
       "      }\n",
       "    </script>\n",
       "  </div>\n",
       "\n",
       "\n",
       "<div id=\"df-b83c1aa5-0a72-46b0-acb8-14926fc371c4\">\n",
       "  <button class=\"colab-df-quickchart\" onclick=\"quickchart('df-b83c1aa5-0a72-46b0-acb8-14926fc371c4')\"\n",
       "            title=\"Suggest charts\"\n",
       "            style=\"display:none;\">\n",
       "\n",
       "<svg xmlns=\"http://www.w3.org/2000/svg\" height=\"24px\"viewBox=\"0 0 24 24\"\n",
       "     width=\"24px\">\n",
       "    <g>\n",
       "        <path d=\"M19 3H5c-1.1 0-2 .9-2 2v14c0 1.1.9 2 2 2h14c1.1 0 2-.9 2-2V5c0-1.1-.9-2-2-2zM9 17H7v-7h2v7zm4 0h-2V7h2v10zm4 0h-2v-4h2v4z\"/>\n",
       "    </g>\n",
       "</svg>\n",
       "  </button>\n",
       "\n",
       "<style>\n",
       "  .colab-df-quickchart {\n",
       "      --bg-color: #E8F0FE;\n",
       "      --fill-color: #1967D2;\n",
       "      --hover-bg-color: #E2EBFA;\n",
       "      --hover-fill-color: #174EA6;\n",
       "      --disabled-fill-color: #AAA;\n",
       "      --disabled-bg-color: #DDD;\n",
       "  }\n",
       "\n",
       "  [theme=dark] .colab-df-quickchart {\n",
       "      --bg-color: #3B4455;\n",
       "      --fill-color: #D2E3FC;\n",
       "      --hover-bg-color: #434B5C;\n",
       "      --hover-fill-color: #FFFFFF;\n",
       "      --disabled-bg-color: #3B4455;\n",
       "      --disabled-fill-color: #666;\n",
       "  }\n",
       "\n",
       "  .colab-df-quickchart {\n",
       "    background-color: var(--bg-color);\n",
       "    border: none;\n",
       "    border-radius: 50%;\n",
       "    cursor: pointer;\n",
       "    display: none;\n",
       "    fill: var(--fill-color);\n",
       "    height: 32px;\n",
       "    padding: 0;\n",
       "    width: 32px;\n",
       "  }\n",
       "\n",
       "  .colab-df-quickchart:hover {\n",
       "    background-color: var(--hover-bg-color);\n",
       "    box-shadow: 0 1px 2px rgba(60, 64, 67, 0.3), 0 1px 3px 1px rgba(60, 64, 67, 0.15);\n",
       "    fill: var(--button-hover-fill-color);\n",
       "  }\n",
       "\n",
       "  .colab-df-quickchart-complete:disabled,\n",
       "  .colab-df-quickchart-complete:disabled:hover {\n",
       "    background-color: var(--disabled-bg-color);\n",
       "    fill: var(--disabled-fill-color);\n",
       "    box-shadow: none;\n",
       "  }\n",
       "\n",
       "  .colab-df-spinner {\n",
       "    border: 2px solid var(--fill-color);\n",
       "    border-color: transparent;\n",
       "    border-bottom-color: var(--fill-color);\n",
       "    animation:\n",
       "      spin 1s steps(1) infinite;\n",
       "  }\n",
       "\n",
       "  @keyframes spin {\n",
       "    0% {\n",
       "      border-color: transparent;\n",
       "      border-bottom-color: var(--fill-color);\n",
       "      border-left-color: var(--fill-color);\n",
       "    }\n",
       "    20% {\n",
       "      border-color: transparent;\n",
       "      border-left-color: var(--fill-color);\n",
       "      border-top-color: var(--fill-color);\n",
       "    }\n",
       "    30% {\n",
       "      border-color: transparent;\n",
       "      border-left-color: var(--fill-color);\n",
       "      border-top-color: var(--fill-color);\n",
       "      border-right-color: var(--fill-color);\n",
       "    }\n",
       "    40% {\n",
       "      border-color: transparent;\n",
       "      border-right-color: var(--fill-color);\n",
       "      border-top-color: var(--fill-color);\n",
       "    }\n",
       "    60% {\n",
       "      border-color: transparent;\n",
       "      border-right-color: var(--fill-color);\n",
       "    }\n",
       "    80% {\n",
       "      border-color: transparent;\n",
       "      border-right-color: var(--fill-color);\n",
       "      border-bottom-color: var(--fill-color);\n",
       "    }\n",
       "    90% {\n",
       "      border-color: transparent;\n",
       "      border-bottom-color: var(--fill-color);\n",
       "    }\n",
       "  }\n",
       "</style>\n",
       "\n",
       "  <script>\n",
       "    async function quickchart(key) {\n",
       "      const quickchartButtonEl =\n",
       "        document.querySelector('#' + key + ' button');\n",
       "      quickchartButtonEl.disabled = true;  // To prevent multiple clicks.\n",
       "      quickchartButtonEl.classList.add('colab-df-spinner');\n",
       "      try {\n",
       "        const charts = await google.colab.kernel.invokeFunction(\n",
       "            'suggestCharts', [key], {});\n",
       "      } catch (error) {\n",
       "        console.error('Error during call to suggestCharts:', error);\n",
       "      }\n",
       "      quickchartButtonEl.classList.remove('colab-df-spinner');\n",
       "      quickchartButtonEl.classList.add('colab-df-quickchart-complete');\n",
       "    }\n",
       "    (() => {\n",
       "      let quickchartButtonEl =\n",
       "        document.querySelector('#df-b83c1aa5-0a72-46b0-acb8-14926fc371c4 button');\n",
       "      quickchartButtonEl.style.display =\n",
       "        google.colab.kernel.accessAllowed ? 'block' : 'none';\n",
       "    })();\n",
       "  </script>\n",
       "</div>\n",
       "\n",
       "    </div>\n",
       "  </div>\n"
      ],
      "text/plain": [
       "       Fecha  Habitaciones  Aseos    Precio  Metros        CUDIS Provincia  \\\n",
       "0 2021-12-31          2.00   1.00 56,000.00   66.00 2,408,909.00      León   \n",
       "1 2021-12-31          3.00   2.00 89,000.00  105.00 2,408,907.00      León   \n",
       "2 2021-12-31          1.00   1.00 55,000.00   45.00 2,408,903.00      León   \n",
       "3 2021-12-31          3.00   1.00 80,000.00   87.00 2,408,906.00      León   \n",
       "4 2021-12-31          2.00   1.00 56,000.00   66.00 2,408,909.00      León   \n",
       "\n",
       "   Población  Renta bruta media por persona  Comodidades  Capital  \\\n",
       "0 120,082.00                      35,956.00            0     True   \n",
       "1 120,082.00                      35,956.00            1     True   \n",
       "2 120,082.00                      35,956.00            0     True   \n",
       "3 120,082.00                      35,956.00            2     True   \n",
       "4 120,082.00                      35,956.00            1     True   \n",
       "\n",
       "   Municipio_Tipo  Precio_medio_mun_tipo  \n",
       "0  León_Apartment             131,994.02  \n",
       "1  León_Apartment             131,994.02  \n",
       "2  León_Apartment             131,994.02  \n",
       "3  León_Apartment             131,994.02  \n",
       "4  León_Apartment             131,994.02  "
      ]
     },
     "execution_count": 89,
     "metadata": {},
     "output_type": "execute_result"
    }
   ],
   "source": [
    "engine = connect_to_postgresql()\n",
    "conn = engine.raw_connection()\n",
    "cur = conn.cursor()\n",
    "try:\n",
    "    query = \"\"\"\n",
    "    SELECT * FROM public.ft_indicadores;\n",
    "    \"\"\"\n",
    "    cur.execute(query)\n",
    "\n",
    "    df_ml = pd.DataFrame(cur.fetchall(), columns=[desc[0] for desc in cur.description])\n",
    "\n",
    "    conn.commit()\n",
    "    print(\"La consulta se ha ejecutado con éxito\")\n",
    "except Exception as e:\n",
    "    print(f\"Ha ocurrido un error: {str(e)}\")\n",
    "finally:\n",
    "    cur.close()\n",
    "    conn.close()\n",
    "\n",
    "df_ml.head()"
   ]
  },
  {
   "cell_type": "code",
   "execution_count": 90,
   "metadata": {
    "executionInfo": {
     "elapsed": 2,
     "status": "ok",
     "timestamp": 1745333269581,
     "user": {
      "displayName": "Marina Fernández Delgado",
      "userId": "16194969030307626556"
     },
     "user_tz": -120
    },
    "id": "ge7Oydtd4jF6"
   },
   "outputs": [],
   "source": [
    "#df_ml['Periodo'] = df_ml['Fecha'].dt.year"
   ]
  },
  {
   "cell_type": "code",
   "execution_count": 91,
   "metadata": {
    "colab": {
     "base_uri": "https://localhost:8080/",
     "height": 206
    },
    "executionInfo": {
     "elapsed": 37,
     "status": "ok",
     "timestamp": 1745333269631,
     "user": {
      "displayName": "Marina Fernández Delgado",
      "userId": "16194969030307626556"
     },
     "user_tz": -120
    },
    "id": "SvWPWBpw4lcS",
    "outputId": "974b27d4-45bc-4d6e-a4c4-01e9b8638129"
   },
   "outputs": [
    {
     "data": {
      "application/vnd.google.colaboratory.intrinsic+json": {
       "summary": "{\n  \"name\": \"df\",\n  \"rows\": 16769,\n  \"fields\": [\n    {\n      \"column\": \"Habitaciones\",\n      \"properties\": {\n        \"dtype\": \"number\",\n        \"std\": 0.8567591605914895,\n        \"min\": 1.0,\n        \"max\": 6.0,\n        \"num_unique_values\": 6,\n        \"samples\": [\n          2.0,\n          3.0,\n          6.0\n        ],\n        \"semantic_type\": \"\",\n        \"description\": \"\"\n      }\n    },\n    {\n      \"column\": \"Aseos\",\n      \"properties\": {\n        \"dtype\": \"number\",\n        \"std\": 0.5651755619269739,\n        \"min\": 1.0,\n        \"max\": 3.0,\n        \"num_unique_values\": 3,\n        \"samples\": [\n          1.0,\n          2.0,\n          3.0\n        ],\n        \"semantic_type\": \"\",\n        \"description\": \"\"\n      }\n    },\n    {\n      \"column\": \"Precio\",\n      \"properties\": {\n        \"dtype\": \"number\",\n        \"std\": 55315.59057634709,\n        \"min\": 10000.0,\n        \"max\": 281000.0,\n        \"num_unique_values\": 1441,\n        \"samples\": [\n          42000.0,\n          115900.0,\n          80100.0\n        ],\n        \"semantic_type\": \"\",\n        \"description\": \"\"\n      }\n    },\n    {\n      \"column\": \"Metros\",\n      \"properties\": {\n        \"dtype\": \"number\",\n        \"std\": 30.631637371243716,\n        \"min\": 1.0,\n        \"max\": 202.0,\n        \"num_unique_values\": 182,\n        \"samples\": [\n          90.0,\n          81.0,\n          174.0\n        ],\n        \"semantic_type\": \"\",\n        \"description\": \"\"\n      }\n    },\n    {\n      \"column\": \"CUDIS\",\n      \"properties\": {\n        \"dtype\": \"number\",\n        \"std\": 1448155.4725558523,\n        \"min\": 500101.0,\n        \"max\": 4927505.0,\n        \"num_unique_values\": 822,\n        \"samples\": [\n          505701.0,\n          904801.0,\n          2414901.0\n        ],\n        \"semantic_type\": \"\",\n        \"description\": \"\"\n      }\n    },\n    {\n      \"column\": \"Poblaci\\u00f3n\",\n      \"properties\": {\n        \"dtype\": \"number\",\n        \"std\": 83248.30937853218,\n        \"min\": 10.0,\n        \"max\": 294264.0,\n        \"num_unique_values\": 739,\n        \"samples\": [\n          2271.0,\n          61.0,\n          3617.0\n        ],\n        \"semantic_type\": \"\",\n        \"description\": \"\"\n      }\n    },\n    {\n      \"column\": \"Renta bruta media por persona\",\n      \"properties\": {\n        \"dtype\": \"number\",\n        \"std\": 3764.253659817169,\n        \"min\": 20772.0,\n        \"max\": 41508.0,\n        \"num_unique_values\": 809,\n        \"samples\": [\n          28660.0,\n          33640.0,\n          27178.0\n        ],\n        \"semantic_type\": \"\",\n        \"description\": \"\"\n      }\n    },\n    {\n      \"column\": \"Comodidades\",\n      \"properties\": {\n        \"dtype\": \"number\",\n        \"std\": 0,\n        \"min\": 0,\n        \"max\": 2,\n        \"num_unique_values\": 3,\n        \"samples\": [\n          0,\n          1,\n          2\n        ],\n        \"semantic_type\": \"\",\n        \"description\": \"\"\n      }\n    },\n    {\n      \"column\": \"Capital\",\n      \"properties\": {\n        \"dtype\": \"boolean\",\n        \"num_unique_values\": 2,\n        \"samples\": [\n          false,\n          true\n        ],\n        \"semantic_type\": \"\",\n        \"description\": \"\"\n      }\n    },\n    {\n      \"column\": \"Precio_medio_mun_tipo\",\n      \"properties\": {\n        \"dtype\": \"number\",\n        \"std\": 34069.67025788003,\n        \"min\": 11500.0,\n        \"max\": 229000.0,\n        \"num_unique_values\": 639,\n        \"samples\": [\n          22000.0,\n          134663.43636363637\n        ],\n        \"semantic_type\": \"\",\n        \"description\": \"\"\n      }\n    }\n  ]\n}",
       "type": "dataframe",
       "variable_name": "df"
      },
      "text/html": [
       "\n",
       "  <div id=\"df-aa7604c5-ba59-408d-86ff-054b57b6f0af\" class=\"colab-df-container\">\n",
       "    <div>\n",
       "<style scoped>\n",
       "    .dataframe tbody tr th:only-of-type {\n",
       "        vertical-align: middle;\n",
       "    }\n",
       "\n",
       "    .dataframe tbody tr th {\n",
       "        vertical-align: top;\n",
       "    }\n",
       "\n",
       "    .dataframe thead th {\n",
       "        text-align: right;\n",
       "    }\n",
       "</style>\n",
       "<table border=\"1\" class=\"dataframe\">\n",
       "  <thead>\n",
       "    <tr style=\"text-align: right;\">\n",
       "      <th></th>\n",
       "      <th>Habitaciones</th>\n",
       "      <th>Aseos</th>\n",
       "      <th>Precio</th>\n",
       "      <th>Metros</th>\n",
       "      <th>CUDIS</th>\n",
       "      <th>Población</th>\n",
       "      <th>Renta bruta media por persona</th>\n",
       "      <th>Comodidades</th>\n",
       "      <th>Capital</th>\n",
       "      <th>Precio_medio_mun_tipo</th>\n",
       "    </tr>\n",
       "  </thead>\n",
       "  <tbody>\n",
       "    <tr>\n",
       "      <th>0</th>\n",
       "      <td>2.00</td>\n",
       "      <td>1.00</td>\n",
       "      <td>56,000.00</td>\n",
       "      <td>66.00</td>\n",
       "      <td>2,408,909.00</td>\n",
       "      <td>120,082.00</td>\n",
       "      <td>35,956.00</td>\n",
       "      <td>0</td>\n",
       "      <td>True</td>\n",
       "      <td>131,994.02</td>\n",
       "    </tr>\n",
       "    <tr>\n",
       "      <th>1</th>\n",
       "      <td>3.00</td>\n",
       "      <td>2.00</td>\n",
       "      <td>89,000.00</td>\n",
       "      <td>105.00</td>\n",
       "      <td>2,408,907.00</td>\n",
       "      <td>120,082.00</td>\n",
       "      <td>35,956.00</td>\n",
       "      <td>1</td>\n",
       "      <td>True</td>\n",
       "      <td>131,994.02</td>\n",
       "    </tr>\n",
       "    <tr>\n",
       "      <th>2</th>\n",
       "      <td>1.00</td>\n",
       "      <td>1.00</td>\n",
       "      <td>55,000.00</td>\n",
       "      <td>45.00</td>\n",
       "      <td>2,408,903.00</td>\n",
       "      <td>120,082.00</td>\n",
       "      <td>35,956.00</td>\n",
       "      <td>0</td>\n",
       "      <td>True</td>\n",
       "      <td>131,994.02</td>\n",
       "    </tr>\n",
       "    <tr>\n",
       "      <th>3</th>\n",
       "      <td>3.00</td>\n",
       "      <td>1.00</td>\n",
       "      <td>80,000.00</td>\n",
       "      <td>87.00</td>\n",
       "      <td>2,408,906.00</td>\n",
       "      <td>120,082.00</td>\n",
       "      <td>35,956.00</td>\n",
       "      <td>2</td>\n",
       "      <td>True</td>\n",
       "      <td>131,994.02</td>\n",
       "    </tr>\n",
       "    <tr>\n",
       "      <th>4</th>\n",
       "      <td>2.00</td>\n",
       "      <td>1.00</td>\n",
       "      <td>56,000.00</td>\n",
       "      <td>66.00</td>\n",
       "      <td>2,408,909.00</td>\n",
       "      <td>120,082.00</td>\n",
       "      <td>35,956.00</td>\n",
       "      <td>1</td>\n",
       "      <td>True</td>\n",
       "      <td>131,994.02</td>\n",
       "    </tr>\n",
       "  </tbody>\n",
       "</table>\n",
       "</div>\n",
       "    <div class=\"colab-df-buttons\">\n",
       "\n",
       "  <div class=\"colab-df-container\">\n",
       "    <button class=\"colab-df-convert\" onclick=\"convertToInteractive('df-aa7604c5-ba59-408d-86ff-054b57b6f0af')\"\n",
       "            title=\"Convert this dataframe to an interactive table.\"\n",
       "            style=\"display:none;\">\n",
       "\n",
       "  <svg xmlns=\"http://www.w3.org/2000/svg\" height=\"24px\" viewBox=\"0 -960 960 960\">\n",
       "    <path d=\"M120-120v-720h720v720H120Zm60-500h600v-160H180v160Zm220 220h160v-160H400v160Zm0 220h160v-160H400v160ZM180-400h160v-160H180v160Zm440 0h160v-160H620v160ZM180-180h160v-160H180v160Zm440 0h160v-160H620v160Z\"/>\n",
       "  </svg>\n",
       "    </button>\n",
       "\n",
       "  <style>\n",
       "    .colab-df-container {\n",
       "      display:flex;\n",
       "      gap: 12px;\n",
       "    }\n",
       "\n",
       "    .colab-df-convert {\n",
       "      background-color: #E8F0FE;\n",
       "      border: none;\n",
       "      border-radius: 50%;\n",
       "      cursor: pointer;\n",
       "      display: none;\n",
       "      fill: #1967D2;\n",
       "      height: 32px;\n",
       "      padding: 0 0 0 0;\n",
       "      width: 32px;\n",
       "    }\n",
       "\n",
       "    .colab-df-convert:hover {\n",
       "      background-color: #E2EBFA;\n",
       "      box-shadow: 0px 1px 2px rgba(60, 64, 67, 0.3), 0px 1px 3px 1px rgba(60, 64, 67, 0.15);\n",
       "      fill: #174EA6;\n",
       "    }\n",
       "\n",
       "    .colab-df-buttons div {\n",
       "      margin-bottom: 4px;\n",
       "    }\n",
       "\n",
       "    [theme=dark] .colab-df-convert {\n",
       "      background-color: #3B4455;\n",
       "      fill: #D2E3FC;\n",
       "    }\n",
       "\n",
       "    [theme=dark] .colab-df-convert:hover {\n",
       "      background-color: #434B5C;\n",
       "      box-shadow: 0px 1px 3px 1px rgba(0, 0, 0, 0.15);\n",
       "      filter: drop-shadow(0px 1px 2px rgba(0, 0, 0, 0.3));\n",
       "      fill: #FFFFFF;\n",
       "    }\n",
       "  </style>\n",
       "\n",
       "    <script>\n",
       "      const buttonEl =\n",
       "        document.querySelector('#df-aa7604c5-ba59-408d-86ff-054b57b6f0af button.colab-df-convert');\n",
       "      buttonEl.style.display =\n",
       "        google.colab.kernel.accessAllowed ? 'block' : 'none';\n",
       "\n",
       "      async function convertToInteractive(key) {\n",
       "        const element = document.querySelector('#df-aa7604c5-ba59-408d-86ff-054b57b6f0af');\n",
       "        const dataTable =\n",
       "          await google.colab.kernel.invokeFunction('convertToInteractive',\n",
       "                                                    [key], {});\n",
       "        if (!dataTable) return;\n",
       "\n",
       "        const docLinkHtml = 'Like what you see? Visit the ' +\n",
       "          '<a target=\"_blank\" href=https://colab.research.google.com/notebooks/data_table.ipynb>data table notebook</a>'\n",
       "          + ' to learn more about interactive tables.';\n",
       "        element.innerHTML = '';\n",
       "        dataTable['output_type'] = 'display_data';\n",
       "        await google.colab.output.renderOutput(dataTable, element);\n",
       "        const docLink = document.createElement('div');\n",
       "        docLink.innerHTML = docLinkHtml;\n",
       "        element.appendChild(docLink);\n",
       "      }\n",
       "    </script>\n",
       "  </div>\n",
       "\n",
       "\n",
       "<div id=\"df-f3ce6a80-114b-4f68-9fb1-88599815b918\">\n",
       "  <button class=\"colab-df-quickchart\" onclick=\"quickchart('df-f3ce6a80-114b-4f68-9fb1-88599815b918')\"\n",
       "            title=\"Suggest charts\"\n",
       "            style=\"display:none;\">\n",
       "\n",
       "<svg xmlns=\"http://www.w3.org/2000/svg\" height=\"24px\"viewBox=\"0 0 24 24\"\n",
       "     width=\"24px\">\n",
       "    <g>\n",
       "        <path d=\"M19 3H5c-1.1 0-2 .9-2 2v14c0 1.1.9 2 2 2h14c1.1 0 2-.9 2-2V5c0-1.1-.9-2-2-2zM9 17H7v-7h2v7zm4 0h-2V7h2v10zm4 0h-2v-4h2v4z\"/>\n",
       "    </g>\n",
       "</svg>\n",
       "  </button>\n",
       "\n",
       "<style>\n",
       "  .colab-df-quickchart {\n",
       "      --bg-color: #E8F0FE;\n",
       "      --fill-color: #1967D2;\n",
       "      --hover-bg-color: #E2EBFA;\n",
       "      --hover-fill-color: #174EA6;\n",
       "      --disabled-fill-color: #AAA;\n",
       "      --disabled-bg-color: #DDD;\n",
       "  }\n",
       "\n",
       "  [theme=dark] .colab-df-quickchart {\n",
       "      --bg-color: #3B4455;\n",
       "      --fill-color: #D2E3FC;\n",
       "      --hover-bg-color: #434B5C;\n",
       "      --hover-fill-color: #FFFFFF;\n",
       "      --disabled-bg-color: #3B4455;\n",
       "      --disabled-fill-color: #666;\n",
       "  }\n",
       "\n",
       "  .colab-df-quickchart {\n",
       "    background-color: var(--bg-color);\n",
       "    border: none;\n",
       "    border-radius: 50%;\n",
       "    cursor: pointer;\n",
       "    display: none;\n",
       "    fill: var(--fill-color);\n",
       "    height: 32px;\n",
       "    padding: 0;\n",
       "    width: 32px;\n",
       "  }\n",
       "\n",
       "  .colab-df-quickchart:hover {\n",
       "    background-color: var(--hover-bg-color);\n",
       "    box-shadow: 0 1px 2px rgba(60, 64, 67, 0.3), 0 1px 3px 1px rgba(60, 64, 67, 0.15);\n",
       "    fill: var(--button-hover-fill-color);\n",
       "  }\n",
       "\n",
       "  .colab-df-quickchart-complete:disabled,\n",
       "  .colab-df-quickchart-complete:disabled:hover {\n",
       "    background-color: var(--disabled-bg-color);\n",
       "    fill: var(--disabled-fill-color);\n",
       "    box-shadow: none;\n",
       "  }\n",
       "\n",
       "  .colab-df-spinner {\n",
       "    border: 2px solid var(--fill-color);\n",
       "    border-color: transparent;\n",
       "    border-bottom-color: var(--fill-color);\n",
       "    animation:\n",
       "      spin 1s steps(1) infinite;\n",
       "  }\n",
       "\n",
       "  @keyframes spin {\n",
       "    0% {\n",
       "      border-color: transparent;\n",
       "      border-bottom-color: var(--fill-color);\n",
       "      border-left-color: var(--fill-color);\n",
       "    }\n",
       "    20% {\n",
       "      border-color: transparent;\n",
       "      border-left-color: var(--fill-color);\n",
       "      border-top-color: var(--fill-color);\n",
       "    }\n",
       "    30% {\n",
       "      border-color: transparent;\n",
       "      border-left-color: var(--fill-color);\n",
       "      border-top-color: var(--fill-color);\n",
       "      border-right-color: var(--fill-color);\n",
       "    }\n",
       "    40% {\n",
       "      border-color: transparent;\n",
       "      border-right-color: var(--fill-color);\n",
       "      border-top-color: var(--fill-color);\n",
       "    }\n",
       "    60% {\n",
       "      border-color: transparent;\n",
       "      border-right-color: var(--fill-color);\n",
       "    }\n",
       "    80% {\n",
       "      border-color: transparent;\n",
       "      border-right-color: var(--fill-color);\n",
       "      border-bottom-color: var(--fill-color);\n",
       "    }\n",
       "    90% {\n",
       "      border-color: transparent;\n",
       "      border-bottom-color: var(--fill-color);\n",
       "    }\n",
       "  }\n",
       "</style>\n",
       "\n",
       "  <script>\n",
       "    async function quickchart(key) {\n",
       "      const quickchartButtonEl =\n",
       "        document.querySelector('#' + key + ' button');\n",
       "      quickchartButtonEl.disabled = true;  // To prevent multiple clicks.\n",
       "      quickchartButtonEl.classList.add('colab-df-spinner');\n",
       "      try {\n",
       "        const charts = await google.colab.kernel.invokeFunction(\n",
       "            'suggestCharts', [key], {});\n",
       "      } catch (error) {\n",
       "        console.error('Error during call to suggestCharts:', error);\n",
       "      }\n",
       "      quickchartButtonEl.classList.remove('colab-df-spinner');\n",
       "      quickchartButtonEl.classList.add('colab-df-quickchart-complete');\n",
       "    }\n",
       "    (() => {\n",
       "      let quickchartButtonEl =\n",
       "        document.querySelector('#df-f3ce6a80-114b-4f68-9fb1-88599815b918 button');\n",
       "      quickchartButtonEl.style.display =\n",
       "        google.colab.kernel.accessAllowed ? 'block' : 'none';\n",
       "    })();\n",
       "  </script>\n",
       "</div>\n",
       "\n",
       "    </div>\n",
       "  </div>\n"
      ],
      "text/plain": [
       "   Habitaciones  Aseos    Precio  Metros        CUDIS  Población  \\\n",
       "0          2.00   1.00 56,000.00   66.00 2,408,909.00 120,082.00   \n",
       "1          3.00   2.00 89,000.00  105.00 2,408,907.00 120,082.00   \n",
       "2          1.00   1.00 55,000.00   45.00 2,408,903.00 120,082.00   \n",
       "3          3.00   1.00 80,000.00   87.00 2,408,906.00 120,082.00   \n",
       "4          2.00   1.00 56,000.00   66.00 2,408,909.00 120,082.00   \n",
       "\n",
       "   Renta bruta media por persona  Comodidades  Capital  Precio_medio_mun_tipo  \n",
       "0                      35,956.00            0     True             131,994.02  \n",
       "1                      35,956.00            1     True             131,994.02  \n",
       "2                      35,956.00            0     True             131,994.02  \n",
       "3                      35,956.00            2     True             131,994.02  \n",
       "4                      35,956.00            1     True             131,994.02  "
      ]
     },
     "execution_count": 91,
     "metadata": {},
     "output_type": "execute_result"
    }
   ],
   "source": [
    "df = df_ml.drop(['Fecha', 'Provincia', 'Municipio_Tipo'], axis = 1).copy()\n",
    "df.head()"
   ]
  },
  {
   "cell_type": "code",
   "execution_count": 92,
   "metadata": {
    "executionInfo": {
     "elapsed": 13,
     "status": "ok",
     "timestamp": 1745333269648,
     "user": {
      "displayName": "Marina Fernández Delgado",
      "userId": "16194969030307626556"
     },
     "user_tz": -120
    },
    "id": "uJm2SVJt_ZSE"
   },
   "outputs": [],
   "source": [
    "obs_X = df.drop(columns=['Precio'])\n",
    "obs_X['Precio_medio_mun_tipo'] = np.log(obs_X['Precio_medio_mun_tipo'])\n",
    "obj_Y = np.log(df[['Precio']])"
   ]
  },
  {
   "cell_type": "code",
   "execution_count": 93,
   "metadata": {
    "colab": {
     "base_uri": "https://localhost:8080/",
     "height": 206
    },
    "executionInfo": {
     "elapsed": 29,
     "status": "ok",
     "timestamp": 1745333269705,
     "user": {
      "displayName": "Marina Fernández Delgado",
      "userId": "16194969030307626556"
     },
     "user_tz": -120
    },
    "id": "qE5hkMiP0peJ",
    "outputId": "936e7cf2-e076-43ff-a20a-9b2d10a80848"
   },
   "outputs": [
    {
     "data": {
      "application/vnd.google.colaboratory.intrinsic+json": {
       "summary": "{\n  \"name\": \"obj_Y\",\n  \"rows\": 16769,\n  \"fields\": [\n    {\n      \"column\": \"Precio\",\n      \"properties\": {\n        \"dtype\": \"number\",\n        \"std\": 0.5387582584475265,\n        \"min\": 9.210340371976184,\n        \"max\": 12.546109948315882,\n        \"num_unique_values\": 1441,\n        \"samples\": [\n          10.645424897265505,\n          11.660483029327843,\n          11.291031133056451\n        ],\n        \"semantic_type\": \"\",\n        \"description\": \"\"\n      }\n    }\n  ]\n}",
       "type": "dataframe",
       "variable_name": "obj_Y"
      },
      "text/html": [
       "\n",
       "  <div id=\"df-9619e652-0f12-470d-a32e-ce52073b83a9\" class=\"colab-df-container\">\n",
       "    <div>\n",
       "<style scoped>\n",
       "    .dataframe tbody tr th:only-of-type {\n",
       "        vertical-align: middle;\n",
       "    }\n",
       "\n",
       "    .dataframe tbody tr th {\n",
       "        vertical-align: top;\n",
       "    }\n",
       "\n",
       "    .dataframe thead th {\n",
       "        text-align: right;\n",
       "    }\n",
       "</style>\n",
       "<table border=\"1\" class=\"dataframe\">\n",
       "  <thead>\n",
       "    <tr style=\"text-align: right;\">\n",
       "      <th></th>\n",
       "      <th>Precio</th>\n",
       "    </tr>\n",
       "  </thead>\n",
       "  <tbody>\n",
       "    <tr>\n",
       "      <th>0</th>\n",
       "      <td>10.93</td>\n",
       "    </tr>\n",
       "    <tr>\n",
       "      <th>1</th>\n",
       "      <td>11.40</td>\n",
       "    </tr>\n",
       "    <tr>\n",
       "      <th>2</th>\n",
       "      <td>10.92</td>\n",
       "    </tr>\n",
       "    <tr>\n",
       "      <th>3</th>\n",
       "      <td>11.29</td>\n",
       "    </tr>\n",
       "    <tr>\n",
       "      <th>4</th>\n",
       "      <td>10.93</td>\n",
       "    </tr>\n",
       "  </tbody>\n",
       "</table>\n",
       "</div>\n",
       "    <div class=\"colab-df-buttons\">\n",
       "\n",
       "  <div class=\"colab-df-container\">\n",
       "    <button class=\"colab-df-convert\" onclick=\"convertToInteractive('df-9619e652-0f12-470d-a32e-ce52073b83a9')\"\n",
       "            title=\"Convert this dataframe to an interactive table.\"\n",
       "            style=\"display:none;\">\n",
       "\n",
       "  <svg xmlns=\"http://www.w3.org/2000/svg\" height=\"24px\" viewBox=\"0 -960 960 960\">\n",
       "    <path d=\"M120-120v-720h720v720H120Zm60-500h600v-160H180v160Zm220 220h160v-160H400v160Zm0 220h160v-160H400v160ZM180-400h160v-160H180v160Zm440 0h160v-160H620v160ZM180-180h160v-160H180v160Zm440 0h160v-160H620v160Z\"/>\n",
       "  </svg>\n",
       "    </button>\n",
       "\n",
       "  <style>\n",
       "    .colab-df-container {\n",
       "      display:flex;\n",
       "      gap: 12px;\n",
       "    }\n",
       "\n",
       "    .colab-df-convert {\n",
       "      background-color: #E8F0FE;\n",
       "      border: none;\n",
       "      border-radius: 50%;\n",
       "      cursor: pointer;\n",
       "      display: none;\n",
       "      fill: #1967D2;\n",
       "      height: 32px;\n",
       "      padding: 0 0 0 0;\n",
       "      width: 32px;\n",
       "    }\n",
       "\n",
       "    .colab-df-convert:hover {\n",
       "      background-color: #E2EBFA;\n",
       "      box-shadow: 0px 1px 2px rgba(60, 64, 67, 0.3), 0px 1px 3px 1px rgba(60, 64, 67, 0.15);\n",
       "      fill: #174EA6;\n",
       "    }\n",
       "\n",
       "    .colab-df-buttons div {\n",
       "      margin-bottom: 4px;\n",
       "    }\n",
       "\n",
       "    [theme=dark] .colab-df-convert {\n",
       "      background-color: #3B4455;\n",
       "      fill: #D2E3FC;\n",
       "    }\n",
       "\n",
       "    [theme=dark] .colab-df-convert:hover {\n",
       "      background-color: #434B5C;\n",
       "      box-shadow: 0px 1px 3px 1px rgba(0, 0, 0, 0.15);\n",
       "      filter: drop-shadow(0px 1px 2px rgba(0, 0, 0, 0.3));\n",
       "      fill: #FFFFFF;\n",
       "    }\n",
       "  </style>\n",
       "\n",
       "    <script>\n",
       "      const buttonEl =\n",
       "        document.querySelector('#df-9619e652-0f12-470d-a32e-ce52073b83a9 button.colab-df-convert');\n",
       "      buttonEl.style.display =\n",
       "        google.colab.kernel.accessAllowed ? 'block' : 'none';\n",
       "\n",
       "      async function convertToInteractive(key) {\n",
       "        const element = document.querySelector('#df-9619e652-0f12-470d-a32e-ce52073b83a9');\n",
       "        const dataTable =\n",
       "          await google.colab.kernel.invokeFunction('convertToInteractive',\n",
       "                                                    [key], {});\n",
       "        if (!dataTable) return;\n",
       "\n",
       "        const docLinkHtml = 'Like what you see? Visit the ' +\n",
       "          '<a target=\"_blank\" href=https://colab.research.google.com/notebooks/data_table.ipynb>data table notebook</a>'\n",
       "          + ' to learn more about interactive tables.';\n",
       "        element.innerHTML = '';\n",
       "        dataTable['output_type'] = 'display_data';\n",
       "        await google.colab.output.renderOutput(dataTable, element);\n",
       "        const docLink = document.createElement('div');\n",
       "        docLink.innerHTML = docLinkHtml;\n",
       "        element.appendChild(docLink);\n",
       "      }\n",
       "    </script>\n",
       "  </div>\n",
       "\n",
       "\n",
       "<div id=\"df-f49dcaaa-1b33-425e-a8b1-2ae134618bf7\">\n",
       "  <button class=\"colab-df-quickchart\" onclick=\"quickchart('df-f49dcaaa-1b33-425e-a8b1-2ae134618bf7')\"\n",
       "            title=\"Suggest charts\"\n",
       "            style=\"display:none;\">\n",
       "\n",
       "<svg xmlns=\"http://www.w3.org/2000/svg\" height=\"24px\"viewBox=\"0 0 24 24\"\n",
       "     width=\"24px\">\n",
       "    <g>\n",
       "        <path d=\"M19 3H5c-1.1 0-2 .9-2 2v14c0 1.1.9 2 2 2h14c1.1 0 2-.9 2-2V5c0-1.1-.9-2-2-2zM9 17H7v-7h2v7zm4 0h-2V7h2v10zm4 0h-2v-4h2v4z\"/>\n",
       "    </g>\n",
       "</svg>\n",
       "  </button>\n",
       "\n",
       "<style>\n",
       "  .colab-df-quickchart {\n",
       "      --bg-color: #E8F0FE;\n",
       "      --fill-color: #1967D2;\n",
       "      --hover-bg-color: #E2EBFA;\n",
       "      --hover-fill-color: #174EA6;\n",
       "      --disabled-fill-color: #AAA;\n",
       "      --disabled-bg-color: #DDD;\n",
       "  }\n",
       "\n",
       "  [theme=dark] .colab-df-quickchart {\n",
       "      --bg-color: #3B4455;\n",
       "      --fill-color: #D2E3FC;\n",
       "      --hover-bg-color: #434B5C;\n",
       "      --hover-fill-color: #FFFFFF;\n",
       "      --disabled-bg-color: #3B4455;\n",
       "      --disabled-fill-color: #666;\n",
       "  }\n",
       "\n",
       "  .colab-df-quickchart {\n",
       "    background-color: var(--bg-color);\n",
       "    border: none;\n",
       "    border-radius: 50%;\n",
       "    cursor: pointer;\n",
       "    display: none;\n",
       "    fill: var(--fill-color);\n",
       "    height: 32px;\n",
       "    padding: 0;\n",
       "    width: 32px;\n",
       "  }\n",
       "\n",
       "  .colab-df-quickchart:hover {\n",
       "    background-color: var(--hover-bg-color);\n",
       "    box-shadow: 0 1px 2px rgba(60, 64, 67, 0.3), 0 1px 3px 1px rgba(60, 64, 67, 0.15);\n",
       "    fill: var(--button-hover-fill-color);\n",
       "  }\n",
       "\n",
       "  .colab-df-quickchart-complete:disabled,\n",
       "  .colab-df-quickchart-complete:disabled:hover {\n",
       "    background-color: var(--disabled-bg-color);\n",
       "    fill: var(--disabled-fill-color);\n",
       "    box-shadow: none;\n",
       "  }\n",
       "\n",
       "  .colab-df-spinner {\n",
       "    border: 2px solid var(--fill-color);\n",
       "    border-color: transparent;\n",
       "    border-bottom-color: var(--fill-color);\n",
       "    animation:\n",
       "      spin 1s steps(1) infinite;\n",
       "  }\n",
       "\n",
       "  @keyframes spin {\n",
       "    0% {\n",
       "      border-color: transparent;\n",
       "      border-bottom-color: var(--fill-color);\n",
       "      border-left-color: var(--fill-color);\n",
       "    }\n",
       "    20% {\n",
       "      border-color: transparent;\n",
       "      border-left-color: var(--fill-color);\n",
       "      border-top-color: var(--fill-color);\n",
       "    }\n",
       "    30% {\n",
       "      border-color: transparent;\n",
       "      border-left-color: var(--fill-color);\n",
       "      border-top-color: var(--fill-color);\n",
       "      border-right-color: var(--fill-color);\n",
       "    }\n",
       "    40% {\n",
       "      border-color: transparent;\n",
       "      border-right-color: var(--fill-color);\n",
       "      border-top-color: var(--fill-color);\n",
       "    }\n",
       "    60% {\n",
       "      border-color: transparent;\n",
       "      border-right-color: var(--fill-color);\n",
       "    }\n",
       "    80% {\n",
       "      border-color: transparent;\n",
       "      border-right-color: var(--fill-color);\n",
       "      border-bottom-color: var(--fill-color);\n",
       "    }\n",
       "    90% {\n",
       "      border-color: transparent;\n",
       "      border-bottom-color: var(--fill-color);\n",
       "    }\n",
       "  }\n",
       "</style>\n",
       "\n",
       "  <script>\n",
       "    async function quickchart(key) {\n",
       "      const quickchartButtonEl =\n",
       "        document.querySelector('#' + key + ' button');\n",
       "      quickchartButtonEl.disabled = true;  // To prevent multiple clicks.\n",
       "      quickchartButtonEl.classList.add('colab-df-spinner');\n",
       "      try {\n",
       "        const charts = await google.colab.kernel.invokeFunction(\n",
       "            'suggestCharts', [key], {});\n",
       "      } catch (error) {\n",
       "        console.error('Error during call to suggestCharts:', error);\n",
       "      }\n",
       "      quickchartButtonEl.classList.remove('colab-df-spinner');\n",
       "      quickchartButtonEl.classList.add('colab-df-quickchart-complete');\n",
       "    }\n",
       "    (() => {\n",
       "      let quickchartButtonEl =\n",
       "        document.querySelector('#df-f49dcaaa-1b33-425e-a8b1-2ae134618bf7 button');\n",
       "      quickchartButtonEl.style.display =\n",
       "        google.colab.kernel.accessAllowed ? 'block' : 'none';\n",
       "    })();\n",
       "  </script>\n",
       "</div>\n",
       "\n",
       "    </div>\n",
       "  </div>\n"
      ],
      "text/plain": [
       "   Precio\n",
       "0   10.93\n",
       "1   11.40\n",
       "2   10.92\n",
       "3   11.29\n",
       "4   10.93"
      ]
     },
     "execution_count": 93,
     "metadata": {},
     "output_type": "execute_result"
    }
   ],
   "source": [
    "obj_Y.head()"
   ]
  },
  {
   "cell_type": "code",
   "execution_count": 94,
   "metadata": {
    "colab": {
     "base_uri": "https://localhost:8080/",
     "height": 206
    },
    "executionInfo": {
     "elapsed": 67,
     "status": "ok",
     "timestamp": 1745333269781,
     "user": {
      "displayName": "Marina Fernández Delgado",
      "userId": "16194969030307626556"
     },
     "user_tz": -120
    },
    "id": "vFvmiKow_GZU",
    "outputId": "9e2d981a-8d52-49a9-d7f0-5838f778d354"
   },
   "outputs": [
    {
     "data": {
      "application/vnd.google.colaboratory.intrinsic+json": {
       "summary": "{\n  \"name\": \"obs_X_encoded\",\n  \"rows\": 16769,\n  \"fields\": [\n    {\n      \"column\": \"Habitaciones\",\n      \"properties\": {\n        \"dtype\": \"number\",\n        \"std\": 0.8567591605914895,\n        \"min\": 1.0,\n        \"max\": 6.0,\n        \"num_unique_values\": 6,\n        \"samples\": [\n          2.0,\n          3.0,\n          6.0\n        ],\n        \"semantic_type\": \"\",\n        \"description\": \"\"\n      }\n    },\n    {\n      \"column\": \"Aseos\",\n      \"properties\": {\n        \"dtype\": \"number\",\n        \"std\": 0.5651755619269739,\n        \"min\": 1.0,\n        \"max\": 3.0,\n        \"num_unique_values\": 3,\n        \"samples\": [\n          1.0,\n          2.0,\n          3.0\n        ],\n        \"semantic_type\": \"\",\n        \"description\": \"\"\n      }\n    },\n    {\n      \"column\": \"Metros\",\n      \"properties\": {\n        \"dtype\": \"number\",\n        \"std\": 30.631637371243716,\n        \"min\": 1.0,\n        \"max\": 202.0,\n        \"num_unique_values\": 182,\n        \"samples\": [\n          90.0,\n          81.0,\n          174.0\n        ],\n        \"semantic_type\": \"\",\n        \"description\": \"\"\n      }\n    },\n    {\n      \"column\": \"CUDIS\",\n      \"properties\": {\n        \"dtype\": \"number\",\n        \"std\": 1448155.4725558523,\n        \"min\": 500101.0,\n        \"max\": 4927505.0,\n        \"num_unique_values\": 822,\n        \"samples\": [\n          505701.0,\n          904801.0,\n          2414901.0\n        ],\n        \"semantic_type\": \"\",\n        \"description\": \"\"\n      }\n    },\n    {\n      \"column\": \"Poblaci\\u00f3n\",\n      \"properties\": {\n        \"dtype\": \"number\",\n        \"std\": 83248.30937853218,\n        \"min\": 10.0,\n        \"max\": 294264.0,\n        \"num_unique_values\": 739,\n        \"samples\": [\n          2271.0,\n          61.0,\n          3617.0\n        ],\n        \"semantic_type\": \"\",\n        \"description\": \"\"\n      }\n    },\n    {\n      \"column\": \"Renta bruta media por persona\",\n      \"properties\": {\n        \"dtype\": \"number\",\n        \"std\": 3764.253659817169,\n        \"min\": 20772.0,\n        \"max\": 41508.0,\n        \"num_unique_values\": 809,\n        \"samples\": [\n          28660.0,\n          33640.0,\n          27178.0\n        ],\n        \"semantic_type\": \"\",\n        \"description\": \"\"\n      }\n    },\n    {\n      \"column\": \"Comodidades\",\n      \"properties\": {\n        \"dtype\": \"number\",\n        \"std\": 0,\n        \"min\": 0,\n        \"max\": 2,\n        \"num_unique_values\": 3,\n        \"samples\": [\n          0,\n          1,\n          2\n        ],\n        \"semantic_type\": \"\",\n        \"description\": \"\"\n      }\n    },\n    {\n      \"column\": \"Capital\",\n      \"properties\": {\n        \"dtype\": \"boolean\",\n        \"num_unique_values\": 2,\n        \"samples\": [\n          false,\n          true\n        ],\n        \"semantic_type\": \"\",\n        \"description\": \"\"\n      }\n    },\n    {\n      \"column\": \"Precio_medio_mun_tipo\",\n      \"properties\": {\n        \"dtype\": \"number\",\n        \"std\": 0.3613942838443333,\n        \"min\": 9.350102314351341,\n        \"max\": 12.341477282536376,\n        \"num_unique_values\": 639,\n        \"samples\": [\n          9.998797732340453,\n          11.810533880588736\n        ],\n        \"semantic_type\": \"\",\n        \"description\": \"\"\n      }\n    }\n  ]\n}",
       "type": "dataframe",
       "variable_name": "obs_X_encoded"
      },
      "text/html": [
       "\n",
       "  <div id=\"df-596f8326-b63f-46bd-afa4-e136ce6c27a1\" class=\"colab-df-container\">\n",
       "    <div>\n",
       "<style scoped>\n",
       "    .dataframe tbody tr th:only-of-type {\n",
       "        vertical-align: middle;\n",
       "    }\n",
       "\n",
       "    .dataframe tbody tr th {\n",
       "        vertical-align: top;\n",
       "    }\n",
       "\n",
       "    .dataframe thead th {\n",
       "        text-align: right;\n",
       "    }\n",
       "</style>\n",
       "<table border=\"1\" class=\"dataframe\">\n",
       "  <thead>\n",
       "    <tr style=\"text-align: right;\">\n",
       "      <th></th>\n",
       "      <th>Habitaciones</th>\n",
       "      <th>Aseos</th>\n",
       "      <th>Metros</th>\n",
       "      <th>CUDIS</th>\n",
       "      <th>Población</th>\n",
       "      <th>Renta bruta media por persona</th>\n",
       "      <th>Comodidades</th>\n",
       "      <th>Capital</th>\n",
       "      <th>Precio_medio_mun_tipo</th>\n",
       "    </tr>\n",
       "  </thead>\n",
       "  <tbody>\n",
       "    <tr>\n",
       "      <th>0</th>\n",
       "      <td>2.00</td>\n",
       "      <td>1.00</td>\n",
       "      <td>66.00</td>\n",
       "      <td>2,408,909.00</td>\n",
       "      <td>120,082.00</td>\n",
       "      <td>35,956.00</td>\n",
       "      <td>0</td>\n",
       "      <td>True</td>\n",
       "      <td>11.79</td>\n",
       "    </tr>\n",
       "    <tr>\n",
       "      <th>1</th>\n",
       "      <td>3.00</td>\n",
       "      <td>2.00</td>\n",
       "      <td>105.00</td>\n",
       "      <td>2,408,907.00</td>\n",
       "      <td>120,082.00</td>\n",
       "      <td>35,956.00</td>\n",
       "      <td>1</td>\n",
       "      <td>True</td>\n",
       "      <td>11.79</td>\n",
       "    </tr>\n",
       "    <tr>\n",
       "      <th>2</th>\n",
       "      <td>1.00</td>\n",
       "      <td>1.00</td>\n",
       "      <td>45.00</td>\n",
       "      <td>2,408,903.00</td>\n",
       "      <td>120,082.00</td>\n",
       "      <td>35,956.00</td>\n",
       "      <td>0</td>\n",
       "      <td>True</td>\n",
       "      <td>11.79</td>\n",
       "    </tr>\n",
       "    <tr>\n",
       "      <th>3</th>\n",
       "      <td>3.00</td>\n",
       "      <td>1.00</td>\n",
       "      <td>87.00</td>\n",
       "      <td>2,408,906.00</td>\n",
       "      <td>120,082.00</td>\n",
       "      <td>35,956.00</td>\n",
       "      <td>2</td>\n",
       "      <td>True</td>\n",
       "      <td>11.79</td>\n",
       "    </tr>\n",
       "    <tr>\n",
       "      <th>4</th>\n",
       "      <td>2.00</td>\n",
       "      <td>1.00</td>\n",
       "      <td>66.00</td>\n",
       "      <td>2,408,909.00</td>\n",
       "      <td>120,082.00</td>\n",
       "      <td>35,956.00</td>\n",
       "      <td>1</td>\n",
       "      <td>True</td>\n",
       "      <td>11.79</td>\n",
       "    </tr>\n",
       "  </tbody>\n",
       "</table>\n",
       "</div>\n",
       "    <div class=\"colab-df-buttons\">\n",
       "\n",
       "  <div class=\"colab-df-container\">\n",
       "    <button class=\"colab-df-convert\" onclick=\"convertToInteractive('df-596f8326-b63f-46bd-afa4-e136ce6c27a1')\"\n",
       "            title=\"Convert this dataframe to an interactive table.\"\n",
       "            style=\"display:none;\">\n",
       "\n",
       "  <svg xmlns=\"http://www.w3.org/2000/svg\" height=\"24px\" viewBox=\"0 -960 960 960\">\n",
       "    <path d=\"M120-120v-720h720v720H120Zm60-500h600v-160H180v160Zm220 220h160v-160H400v160Zm0 220h160v-160H400v160ZM180-400h160v-160H180v160Zm440 0h160v-160H620v160ZM180-180h160v-160H180v160Zm440 0h160v-160H620v160Z\"/>\n",
       "  </svg>\n",
       "    </button>\n",
       "\n",
       "  <style>\n",
       "    .colab-df-container {\n",
       "      display:flex;\n",
       "      gap: 12px;\n",
       "    }\n",
       "\n",
       "    .colab-df-convert {\n",
       "      background-color: #E8F0FE;\n",
       "      border: none;\n",
       "      border-radius: 50%;\n",
       "      cursor: pointer;\n",
       "      display: none;\n",
       "      fill: #1967D2;\n",
       "      height: 32px;\n",
       "      padding: 0 0 0 0;\n",
       "      width: 32px;\n",
       "    }\n",
       "\n",
       "    .colab-df-convert:hover {\n",
       "      background-color: #E2EBFA;\n",
       "      box-shadow: 0px 1px 2px rgba(60, 64, 67, 0.3), 0px 1px 3px 1px rgba(60, 64, 67, 0.15);\n",
       "      fill: #174EA6;\n",
       "    }\n",
       "\n",
       "    .colab-df-buttons div {\n",
       "      margin-bottom: 4px;\n",
       "    }\n",
       "\n",
       "    [theme=dark] .colab-df-convert {\n",
       "      background-color: #3B4455;\n",
       "      fill: #D2E3FC;\n",
       "    }\n",
       "\n",
       "    [theme=dark] .colab-df-convert:hover {\n",
       "      background-color: #434B5C;\n",
       "      box-shadow: 0px 1px 3px 1px rgba(0, 0, 0, 0.15);\n",
       "      filter: drop-shadow(0px 1px 2px rgba(0, 0, 0, 0.3));\n",
       "      fill: #FFFFFF;\n",
       "    }\n",
       "  </style>\n",
       "\n",
       "    <script>\n",
       "      const buttonEl =\n",
       "        document.querySelector('#df-596f8326-b63f-46bd-afa4-e136ce6c27a1 button.colab-df-convert');\n",
       "      buttonEl.style.display =\n",
       "        google.colab.kernel.accessAllowed ? 'block' : 'none';\n",
       "\n",
       "      async function convertToInteractive(key) {\n",
       "        const element = document.querySelector('#df-596f8326-b63f-46bd-afa4-e136ce6c27a1');\n",
       "        const dataTable =\n",
       "          await google.colab.kernel.invokeFunction('convertToInteractive',\n",
       "                                                    [key], {});\n",
       "        if (!dataTable) return;\n",
       "\n",
       "        const docLinkHtml = 'Like what you see? Visit the ' +\n",
       "          '<a target=\"_blank\" href=https://colab.research.google.com/notebooks/data_table.ipynb>data table notebook</a>'\n",
       "          + ' to learn more about interactive tables.';\n",
       "        element.innerHTML = '';\n",
       "        dataTable['output_type'] = 'display_data';\n",
       "        await google.colab.output.renderOutput(dataTable, element);\n",
       "        const docLink = document.createElement('div');\n",
       "        docLink.innerHTML = docLinkHtml;\n",
       "        element.appendChild(docLink);\n",
       "      }\n",
       "    </script>\n",
       "  </div>\n",
       "\n",
       "\n",
       "<div id=\"df-278c1b70-7cca-4de4-9c78-d92c5004ebad\">\n",
       "  <button class=\"colab-df-quickchart\" onclick=\"quickchart('df-278c1b70-7cca-4de4-9c78-d92c5004ebad')\"\n",
       "            title=\"Suggest charts\"\n",
       "            style=\"display:none;\">\n",
       "\n",
       "<svg xmlns=\"http://www.w3.org/2000/svg\" height=\"24px\"viewBox=\"0 0 24 24\"\n",
       "     width=\"24px\">\n",
       "    <g>\n",
       "        <path d=\"M19 3H5c-1.1 0-2 .9-2 2v14c0 1.1.9 2 2 2h14c1.1 0 2-.9 2-2V5c0-1.1-.9-2-2-2zM9 17H7v-7h2v7zm4 0h-2V7h2v10zm4 0h-2v-4h2v4z\"/>\n",
       "    </g>\n",
       "</svg>\n",
       "  </button>\n",
       "\n",
       "<style>\n",
       "  .colab-df-quickchart {\n",
       "      --bg-color: #E8F0FE;\n",
       "      --fill-color: #1967D2;\n",
       "      --hover-bg-color: #E2EBFA;\n",
       "      --hover-fill-color: #174EA6;\n",
       "      --disabled-fill-color: #AAA;\n",
       "      --disabled-bg-color: #DDD;\n",
       "  }\n",
       "\n",
       "  [theme=dark] .colab-df-quickchart {\n",
       "      --bg-color: #3B4455;\n",
       "      --fill-color: #D2E3FC;\n",
       "      --hover-bg-color: #434B5C;\n",
       "      --hover-fill-color: #FFFFFF;\n",
       "      --disabled-bg-color: #3B4455;\n",
       "      --disabled-fill-color: #666;\n",
       "  }\n",
       "\n",
       "  .colab-df-quickchart {\n",
       "    background-color: var(--bg-color);\n",
       "    border: none;\n",
       "    border-radius: 50%;\n",
       "    cursor: pointer;\n",
       "    display: none;\n",
       "    fill: var(--fill-color);\n",
       "    height: 32px;\n",
       "    padding: 0;\n",
       "    width: 32px;\n",
       "  }\n",
       "\n",
       "  .colab-df-quickchart:hover {\n",
       "    background-color: var(--hover-bg-color);\n",
       "    box-shadow: 0 1px 2px rgba(60, 64, 67, 0.3), 0 1px 3px 1px rgba(60, 64, 67, 0.15);\n",
       "    fill: var(--button-hover-fill-color);\n",
       "  }\n",
       "\n",
       "  .colab-df-quickchart-complete:disabled,\n",
       "  .colab-df-quickchart-complete:disabled:hover {\n",
       "    background-color: var(--disabled-bg-color);\n",
       "    fill: var(--disabled-fill-color);\n",
       "    box-shadow: none;\n",
       "  }\n",
       "\n",
       "  .colab-df-spinner {\n",
       "    border: 2px solid var(--fill-color);\n",
       "    border-color: transparent;\n",
       "    border-bottom-color: var(--fill-color);\n",
       "    animation:\n",
       "      spin 1s steps(1) infinite;\n",
       "  }\n",
       "\n",
       "  @keyframes spin {\n",
       "    0% {\n",
       "      border-color: transparent;\n",
       "      border-bottom-color: var(--fill-color);\n",
       "      border-left-color: var(--fill-color);\n",
       "    }\n",
       "    20% {\n",
       "      border-color: transparent;\n",
       "      border-left-color: var(--fill-color);\n",
       "      border-top-color: var(--fill-color);\n",
       "    }\n",
       "    30% {\n",
       "      border-color: transparent;\n",
       "      border-left-color: var(--fill-color);\n",
       "      border-top-color: var(--fill-color);\n",
       "      border-right-color: var(--fill-color);\n",
       "    }\n",
       "    40% {\n",
       "      border-color: transparent;\n",
       "      border-right-color: var(--fill-color);\n",
       "      border-top-color: var(--fill-color);\n",
       "    }\n",
       "    60% {\n",
       "      border-color: transparent;\n",
       "      border-right-color: var(--fill-color);\n",
       "    }\n",
       "    80% {\n",
       "      border-color: transparent;\n",
       "      border-right-color: var(--fill-color);\n",
       "      border-bottom-color: var(--fill-color);\n",
       "    }\n",
       "    90% {\n",
       "      border-color: transparent;\n",
       "      border-bottom-color: var(--fill-color);\n",
       "    }\n",
       "  }\n",
       "</style>\n",
       "\n",
       "  <script>\n",
       "    async function quickchart(key) {\n",
       "      const quickchartButtonEl =\n",
       "        document.querySelector('#' + key + ' button');\n",
       "      quickchartButtonEl.disabled = true;  // To prevent multiple clicks.\n",
       "      quickchartButtonEl.classList.add('colab-df-spinner');\n",
       "      try {\n",
       "        const charts = await google.colab.kernel.invokeFunction(\n",
       "            'suggestCharts', [key], {});\n",
       "      } catch (error) {\n",
       "        console.error('Error during call to suggestCharts:', error);\n",
       "      }\n",
       "      quickchartButtonEl.classList.remove('colab-df-spinner');\n",
       "      quickchartButtonEl.classList.add('colab-df-quickchart-complete');\n",
       "    }\n",
       "    (() => {\n",
       "      let quickchartButtonEl =\n",
       "        document.querySelector('#df-278c1b70-7cca-4de4-9c78-d92c5004ebad button');\n",
       "      quickchartButtonEl.style.display =\n",
       "        google.colab.kernel.accessAllowed ? 'block' : 'none';\n",
       "    })();\n",
       "  </script>\n",
       "</div>\n",
       "\n",
       "    </div>\n",
       "  </div>\n"
      ],
      "text/plain": [
       "   Habitaciones  Aseos  Metros        CUDIS  Población  \\\n",
       "0          2.00   1.00   66.00 2,408,909.00 120,082.00   \n",
       "1          3.00   2.00  105.00 2,408,907.00 120,082.00   \n",
       "2          1.00   1.00   45.00 2,408,903.00 120,082.00   \n",
       "3          3.00   1.00   87.00 2,408,906.00 120,082.00   \n",
       "4          2.00   1.00   66.00 2,408,909.00 120,082.00   \n",
       "\n",
       "   Renta bruta media por persona  Comodidades  Capital  Precio_medio_mun_tipo  \n",
       "0                      35,956.00            0     True                  11.79  \n",
       "1                      35,956.00            1     True                  11.79  \n",
       "2                      35,956.00            0     True                  11.79  \n",
       "3                      35,956.00            2     True                  11.79  \n",
       "4                      35,956.00            1     True                  11.79  "
      ]
     },
     "execution_count": 94,
     "metadata": {},
     "output_type": "execute_result"
    }
   ],
   "source": [
    "# One-hot encoding de las variables categóricas\n",
    "categorical_columns = list(obs_X.select_dtypes(['object']).columns)\n",
    "obs_X_encoded  = pd.get_dummies(\n",
    "    obs_X,\n",
    "    columns=categorical_columns,\n",
    "    drop_first=True\n",
    ")\n",
    "obs_X_encoded.head()"
   ]
  },
  {
   "cell_type": "code",
   "execution_count": 95,
   "metadata": {
    "executionInfo": {
     "elapsed": 11,
     "status": "ok",
     "timestamp": 1745333269800,
     "user": {
      "displayName": "Marina Fernández Delgado",
      "userId": "16194969030307626556"
     },
     "user_tz": -120
    },
    "id": "cIQ9xFM2_RZs"
   },
   "outputs": [],
   "source": [
    "# Normalizar las columnas numéricas\n",
    "numeric_columns = list(obs_X.select_dtypes(['number']).columns)\n",
    "numeric_vars = obs_X_encoded[numeric_columns]\n",
    "scaler_x = StandardScaler()\n",
    "numeric_vars_scaled = scaler_x.fit_transform(numeric_vars)\n",
    "obs_X_encoded[numeric_columns] = numeric_vars_scaled"
   ]
  },
  {
   "cell_type": "code",
   "execution_count": 96,
   "metadata": {
    "executionInfo": {
     "elapsed": 40,
     "status": "ok",
     "timestamp": 1745333269842,
     "user": {
      "displayName": "Marina Fernández Delgado",
      "userId": "16194969030307626556"
     },
     "user_tz": -120
    },
    "id": "RpbHBoxdcajD"
   },
   "outputs": [],
   "source": [
    "scaler_y = StandardScaler()\n",
    "y_scaled = scaler_y.fit_transform(obj_Y)\n",
    "obj_Y_scaled = pd.DataFrame(y_scaled, columns=['Precio'])"
   ]
  },
  {
   "cell_type": "code",
   "execution_count": 97,
   "metadata": {
    "colab": {
     "base_uri": "https://localhost:8080/",
     "height": 206
    },
    "executionInfo": {
     "elapsed": 73,
     "status": "ok",
     "timestamp": 1745333269923,
     "user": {
      "displayName": "Marina Fernández Delgado",
      "userId": "16194969030307626556"
     },
     "user_tz": -120
    },
    "id": "vJhpypn20tLC",
    "outputId": "9d8b8ef7-a0a5-4c30-dca3-2235520bb9d9"
   },
   "outputs": [
    {
     "data": {
      "application/vnd.google.colaboratory.intrinsic+json": {
       "summary": "{\n  \"name\": \"obj_Y_scaled\",\n  \"rows\": 16769,\n  \"fields\": [\n    {\n      \"column\": \"Precio\",\n      \"properties\": {\n        \"dtype\": \"number\",\n        \"std\": 1.0000298182577263,\n        \"min\": -4.259544699378366,\n        \"max\": 1.9322286811155933,\n        \"num_unique_values\": 1441,\n        \"samples\": [\n          -1.5957761269113715,\n          0.2883497930372039,\n          -0.39741772308012047\n        ],\n        \"semantic_type\": \"\",\n        \"description\": \"\"\n      }\n    }\n  ]\n}",
       "type": "dataframe",
       "variable_name": "obj_Y_scaled"
      },
      "text/html": [
       "\n",
       "  <div id=\"df-cbf787c1-7233-4f52-932c-348a324713dd\" class=\"colab-df-container\">\n",
       "    <div>\n",
       "<style scoped>\n",
       "    .dataframe tbody tr th:only-of-type {\n",
       "        vertical-align: middle;\n",
       "    }\n",
       "\n",
       "    .dataframe tbody tr th {\n",
       "        vertical-align: top;\n",
       "    }\n",
       "\n",
       "    .dataframe thead th {\n",
       "        text-align: right;\n",
       "    }\n",
       "</style>\n",
       "<table border=\"1\" class=\"dataframe\">\n",
       "  <thead>\n",
       "    <tr style=\"text-align: right;\">\n",
       "      <th></th>\n",
       "      <th>Precio</th>\n",
       "    </tr>\n",
       "  </thead>\n",
       "  <tbody>\n",
       "    <tr>\n",
       "      <th>0</th>\n",
       "      <td>-1.06</td>\n",
       "    </tr>\n",
       "    <tr>\n",
       "      <th>1</th>\n",
       "      <td>-0.20</td>\n",
       "    </tr>\n",
       "    <tr>\n",
       "      <th>2</th>\n",
       "      <td>-1.10</td>\n",
       "    </tr>\n",
       "    <tr>\n",
       "      <th>3</th>\n",
       "      <td>-0.40</td>\n",
       "    </tr>\n",
       "    <tr>\n",
       "      <th>4</th>\n",
       "      <td>-1.06</td>\n",
       "    </tr>\n",
       "  </tbody>\n",
       "</table>\n",
       "</div>\n",
       "    <div class=\"colab-df-buttons\">\n",
       "\n",
       "  <div class=\"colab-df-container\">\n",
       "    <button class=\"colab-df-convert\" onclick=\"convertToInteractive('df-cbf787c1-7233-4f52-932c-348a324713dd')\"\n",
       "            title=\"Convert this dataframe to an interactive table.\"\n",
       "            style=\"display:none;\">\n",
       "\n",
       "  <svg xmlns=\"http://www.w3.org/2000/svg\" height=\"24px\" viewBox=\"0 -960 960 960\">\n",
       "    <path d=\"M120-120v-720h720v720H120Zm60-500h600v-160H180v160Zm220 220h160v-160H400v160Zm0 220h160v-160H400v160ZM180-400h160v-160H180v160Zm440 0h160v-160H620v160ZM180-180h160v-160H180v160Zm440 0h160v-160H620v160Z\"/>\n",
       "  </svg>\n",
       "    </button>\n",
       "\n",
       "  <style>\n",
       "    .colab-df-container {\n",
       "      display:flex;\n",
       "      gap: 12px;\n",
       "    }\n",
       "\n",
       "    .colab-df-convert {\n",
       "      background-color: #E8F0FE;\n",
       "      border: none;\n",
       "      border-radius: 50%;\n",
       "      cursor: pointer;\n",
       "      display: none;\n",
       "      fill: #1967D2;\n",
       "      height: 32px;\n",
       "      padding: 0 0 0 0;\n",
       "      width: 32px;\n",
       "    }\n",
       "\n",
       "    .colab-df-convert:hover {\n",
       "      background-color: #E2EBFA;\n",
       "      box-shadow: 0px 1px 2px rgba(60, 64, 67, 0.3), 0px 1px 3px 1px rgba(60, 64, 67, 0.15);\n",
       "      fill: #174EA6;\n",
       "    }\n",
       "\n",
       "    .colab-df-buttons div {\n",
       "      margin-bottom: 4px;\n",
       "    }\n",
       "\n",
       "    [theme=dark] .colab-df-convert {\n",
       "      background-color: #3B4455;\n",
       "      fill: #D2E3FC;\n",
       "    }\n",
       "\n",
       "    [theme=dark] .colab-df-convert:hover {\n",
       "      background-color: #434B5C;\n",
       "      box-shadow: 0px 1px 3px 1px rgba(0, 0, 0, 0.15);\n",
       "      filter: drop-shadow(0px 1px 2px rgba(0, 0, 0, 0.3));\n",
       "      fill: #FFFFFF;\n",
       "    }\n",
       "  </style>\n",
       "\n",
       "    <script>\n",
       "      const buttonEl =\n",
       "        document.querySelector('#df-cbf787c1-7233-4f52-932c-348a324713dd button.colab-df-convert');\n",
       "      buttonEl.style.display =\n",
       "        google.colab.kernel.accessAllowed ? 'block' : 'none';\n",
       "\n",
       "      async function convertToInteractive(key) {\n",
       "        const element = document.querySelector('#df-cbf787c1-7233-4f52-932c-348a324713dd');\n",
       "        const dataTable =\n",
       "          await google.colab.kernel.invokeFunction('convertToInteractive',\n",
       "                                                    [key], {});\n",
       "        if (!dataTable) return;\n",
       "\n",
       "        const docLinkHtml = 'Like what you see? Visit the ' +\n",
       "          '<a target=\"_blank\" href=https://colab.research.google.com/notebooks/data_table.ipynb>data table notebook</a>'\n",
       "          + ' to learn more about interactive tables.';\n",
       "        element.innerHTML = '';\n",
       "        dataTable['output_type'] = 'display_data';\n",
       "        await google.colab.output.renderOutput(dataTable, element);\n",
       "        const docLink = document.createElement('div');\n",
       "        docLink.innerHTML = docLinkHtml;\n",
       "        element.appendChild(docLink);\n",
       "      }\n",
       "    </script>\n",
       "  </div>\n",
       "\n",
       "\n",
       "<div id=\"df-09812041-5d70-45bf-a8c5-06ebbc0d5461\">\n",
       "  <button class=\"colab-df-quickchart\" onclick=\"quickchart('df-09812041-5d70-45bf-a8c5-06ebbc0d5461')\"\n",
       "            title=\"Suggest charts\"\n",
       "            style=\"display:none;\">\n",
       "\n",
       "<svg xmlns=\"http://www.w3.org/2000/svg\" height=\"24px\"viewBox=\"0 0 24 24\"\n",
       "     width=\"24px\">\n",
       "    <g>\n",
       "        <path d=\"M19 3H5c-1.1 0-2 .9-2 2v14c0 1.1.9 2 2 2h14c1.1 0 2-.9 2-2V5c0-1.1-.9-2-2-2zM9 17H7v-7h2v7zm4 0h-2V7h2v10zm4 0h-2v-4h2v4z\"/>\n",
       "    </g>\n",
       "</svg>\n",
       "  </button>\n",
       "\n",
       "<style>\n",
       "  .colab-df-quickchart {\n",
       "      --bg-color: #E8F0FE;\n",
       "      --fill-color: #1967D2;\n",
       "      --hover-bg-color: #E2EBFA;\n",
       "      --hover-fill-color: #174EA6;\n",
       "      --disabled-fill-color: #AAA;\n",
       "      --disabled-bg-color: #DDD;\n",
       "  }\n",
       "\n",
       "  [theme=dark] .colab-df-quickchart {\n",
       "      --bg-color: #3B4455;\n",
       "      --fill-color: #D2E3FC;\n",
       "      --hover-bg-color: #434B5C;\n",
       "      --hover-fill-color: #FFFFFF;\n",
       "      --disabled-bg-color: #3B4455;\n",
       "      --disabled-fill-color: #666;\n",
       "  }\n",
       "\n",
       "  .colab-df-quickchart {\n",
       "    background-color: var(--bg-color);\n",
       "    border: none;\n",
       "    border-radius: 50%;\n",
       "    cursor: pointer;\n",
       "    display: none;\n",
       "    fill: var(--fill-color);\n",
       "    height: 32px;\n",
       "    padding: 0;\n",
       "    width: 32px;\n",
       "  }\n",
       "\n",
       "  .colab-df-quickchart:hover {\n",
       "    background-color: var(--hover-bg-color);\n",
       "    box-shadow: 0 1px 2px rgba(60, 64, 67, 0.3), 0 1px 3px 1px rgba(60, 64, 67, 0.15);\n",
       "    fill: var(--button-hover-fill-color);\n",
       "  }\n",
       "\n",
       "  .colab-df-quickchart-complete:disabled,\n",
       "  .colab-df-quickchart-complete:disabled:hover {\n",
       "    background-color: var(--disabled-bg-color);\n",
       "    fill: var(--disabled-fill-color);\n",
       "    box-shadow: none;\n",
       "  }\n",
       "\n",
       "  .colab-df-spinner {\n",
       "    border: 2px solid var(--fill-color);\n",
       "    border-color: transparent;\n",
       "    border-bottom-color: var(--fill-color);\n",
       "    animation:\n",
       "      spin 1s steps(1) infinite;\n",
       "  }\n",
       "\n",
       "  @keyframes spin {\n",
       "    0% {\n",
       "      border-color: transparent;\n",
       "      border-bottom-color: var(--fill-color);\n",
       "      border-left-color: var(--fill-color);\n",
       "    }\n",
       "    20% {\n",
       "      border-color: transparent;\n",
       "      border-left-color: var(--fill-color);\n",
       "      border-top-color: var(--fill-color);\n",
       "    }\n",
       "    30% {\n",
       "      border-color: transparent;\n",
       "      border-left-color: var(--fill-color);\n",
       "      border-top-color: var(--fill-color);\n",
       "      border-right-color: var(--fill-color);\n",
       "    }\n",
       "    40% {\n",
       "      border-color: transparent;\n",
       "      border-right-color: var(--fill-color);\n",
       "      border-top-color: var(--fill-color);\n",
       "    }\n",
       "    60% {\n",
       "      border-color: transparent;\n",
       "      border-right-color: var(--fill-color);\n",
       "    }\n",
       "    80% {\n",
       "      border-color: transparent;\n",
       "      border-right-color: var(--fill-color);\n",
       "      border-bottom-color: var(--fill-color);\n",
       "    }\n",
       "    90% {\n",
       "      border-color: transparent;\n",
       "      border-bottom-color: var(--fill-color);\n",
       "    }\n",
       "  }\n",
       "</style>\n",
       "\n",
       "  <script>\n",
       "    async function quickchart(key) {\n",
       "      const quickchartButtonEl =\n",
       "        document.querySelector('#' + key + ' button');\n",
       "      quickchartButtonEl.disabled = true;  // To prevent multiple clicks.\n",
       "      quickchartButtonEl.classList.add('colab-df-spinner');\n",
       "      try {\n",
       "        const charts = await google.colab.kernel.invokeFunction(\n",
       "            'suggestCharts', [key], {});\n",
       "      } catch (error) {\n",
       "        console.error('Error during call to suggestCharts:', error);\n",
       "      }\n",
       "      quickchartButtonEl.classList.remove('colab-df-spinner');\n",
       "      quickchartButtonEl.classList.add('colab-df-quickchart-complete');\n",
       "    }\n",
       "    (() => {\n",
       "      let quickchartButtonEl =\n",
       "        document.querySelector('#df-09812041-5d70-45bf-a8c5-06ebbc0d5461 button');\n",
       "      quickchartButtonEl.style.display =\n",
       "        google.colab.kernel.accessAllowed ? 'block' : 'none';\n",
       "    })();\n",
       "  </script>\n",
       "</div>\n",
       "\n",
       "    </div>\n",
       "  </div>\n"
      ],
      "text/plain": [
       "   Precio\n",
       "0   -1.06\n",
       "1   -0.20\n",
       "2   -1.10\n",
       "3   -0.40\n",
       "4   -1.06"
      ]
     },
     "execution_count": 97,
     "metadata": {},
     "output_type": "execute_result"
    }
   ],
   "source": [
    "obj_Y_scaled.head()"
   ]
  },
  {
   "cell_type": "code",
   "execution_count": 98,
   "metadata": {
    "colab": {
     "base_uri": "https://localhost:8080/",
     "height": 206
    },
    "executionInfo": {
     "elapsed": 20,
     "status": "ok",
     "timestamp": 1745333269945,
     "user": {
      "displayName": "Marina Fernández Delgado",
      "userId": "16194969030307626556"
     },
     "user_tz": -120
    },
    "id": "6wa4AFIW_RxU",
    "outputId": "0468e8cd-050e-43c1-a2c6-aba13a84e790"
   },
   "outputs": [
    {
     "data": {
      "application/vnd.google.colaboratory.intrinsic+json": {
       "summary": "{\n  \"name\": \"obs_X_encoded\",\n  \"rows\": 16769,\n  \"fields\": [\n    {\n      \"column\": \"Habitaciones\",\n      \"properties\": {\n        \"dtype\": \"number\",\n        \"std\": 1.0000298182578422,\n        \"min\": -2.090965930620983,\n        \"max\": 3.7451538580912787,\n        \"num_unique_values\": 6,\n        \"samples\": [\n          -0.9237419728785308,\n          0.2434819848639215,\n          3.7451538580912787\n        ],\n        \"semantic_type\": \"\",\n        \"description\": \"\"\n      }\n    },\n    {\n      \"column\": \"Aseos\",\n      \"properties\": {\n        \"dtype\": \"number\",\n        \"std\": 1.0000298182577163,\n        \"min\": -0.8901413609791637,\n        \"max\": 2.6486875821833773,\n        \"num_unique_values\": 3,\n        \"samples\": [\n          -0.8901413609791637,\n          0.8792731106021068,\n          2.6486875821833773\n        ],\n        \"semantic_type\": \"\",\n        \"description\": \"\"\n      }\n    },\n    {\n      \"column\": \"Metros\",\n      \"properties\": {\n        \"dtype\": \"number\",\n        \"std\": 1.0000298182577225,\n        \"min\": -3.0318782730271416,\n        \"max\": 3.5301605443461175,\n        \"num_unique_values\": 182,\n        \"samples\": [\n          -0.12629889618027554,\n          -0.4201215297940036,\n          2.6160456842145194\n        ],\n        \"semantic_type\": \"\",\n        \"description\": \"\"\n      }\n    },\n    {\n      \"column\": \"CUDIS\",\n      \"properties\": {\n        \"dtype\": \"number\",\n        \"std\": 1.0000298182577072,\n        \"min\": -1.7634217357071083,\n        \"max\": 1.293940613419229,\n        \"num_unique_values\": 822,\n        \"samples\": [\n          -1.759554632285982,\n          -1.4839544581125113,\n          -0.4411485873549112\n        ],\n        \"semantic_type\": \"\",\n        \"description\": \"\"\n      }\n    },\n    {\n      \"column\": \"Poblaci\\u00f3n\",\n      \"properties\": {\n        \"dtype\": \"number\",\n        \"std\": 1.0000298182577363,\n        \"min\": -0.9310419146999094,\n        \"max\": 2.603717846048869,\n        \"num_unique_values\": 739,\n        \"samples\": [\n          -0.9038813941324643,\n          -0.9304292713788391,\n          -0.8877124155018667\n        ],\n        \"semantic_type\": \"\",\n        \"description\": \"\"\n      }\n    },\n    {\n      \"column\": \"Renta bruta media por persona\",\n      \"properties\": {\n        \"dtype\": \"number\",\n        \"std\": 1.0000298182576906,\n        \"min\": -2.993949635135462,\n        \"max\": 2.5148763328785875,\n        \"num_unique_values\": 809,\n        \"samples\": [\n          -0.8983854358832041,\n          0.4246254302775776,\n          -1.2921007177406896\n        ],\n        \"semantic_type\": \"\",\n        \"description\": \"\"\n      }\n    },\n    {\n      \"column\": \"Comodidades\",\n      \"properties\": {\n        \"dtype\": \"number\",\n        \"std\": 1.0000298182575902,\n        \"min\": -0.7704319770697381,\n        \"max\": 2.5800280393935497,\n        \"num_unique_values\": 3,\n        \"samples\": [\n          -0.7704319770697381,\n          0.9047980311619057,\n          2.5800280393935497\n        ],\n        \"semantic_type\": \"\",\n        \"description\": \"\"\n      }\n    },\n    {\n      \"column\": \"Capital\",\n      \"properties\": {\n        \"dtype\": \"number\",\n        \"std\": 0,\n        \"min\": 0,\n        \"max\": 1,\n        \"num_unique_values\": 2,\n        \"samples\": [\n          0,\n          1\n        ],\n        \"semantic_type\": \"\",\n        \"description\": \"\"\n      }\n    },\n    {\n      \"column\": \"Precio_medio_mun_tipo\",\n      \"properties\": {\n        \"dtype\": \"number\",\n        \"std\": 1.0000298182576843,\n        \"min\": -6.2062008130189,\n        \"max\": 2.0713627775092305,\n        \"num_unique_values\": 639,\n        \"samples\": [\n          -4.4111675489186055,\n          0.6021662309928738\n        ],\n        \"semantic_type\": \"\",\n        \"description\": \"\"\n      }\n    }\n  ]\n}",
       "type": "dataframe",
       "variable_name": "obs_X_encoded"
      },
      "text/html": [
       "\n",
       "  <div id=\"df-6f5cea68-db54-4b64-8364-7eb313dc9250\" class=\"colab-df-container\">\n",
       "    <div>\n",
       "<style scoped>\n",
       "    .dataframe tbody tr th:only-of-type {\n",
       "        vertical-align: middle;\n",
       "    }\n",
       "\n",
       "    .dataframe tbody tr th {\n",
       "        vertical-align: top;\n",
       "    }\n",
       "\n",
       "    .dataframe thead th {\n",
       "        text-align: right;\n",
       "    }\n",
       "</style>\n",
       "<table border=\"1\" class=\"dataframe\">\n",
       "  <thead>\n",
       "    <tr style=\"text-align: right;\">\n",
       "      <th></th>\n",
       "      <th>Habitaciones</th>\n",
       "      <th>Aseos</th>\n",
       "      <th>Metros</th>\n",
       "      <th>CUDIS</th>\n",
       "      <th>Población</th>\n",
       "      <th>Renta bruta media por persona</th>\n",
       "      <th>Comodidades</th>\n",
       "      <th>Capital</th>\n",
       "      <th>Precio_medio_mun_tipo</th>\n",
       "    </tr>\n",
       "  </thead>\n",
       "  <tbody>\n",
       "    <tr>\n",
       "      <th>0</th>\n",
       "      <td>-0.92</td>\n",
       "      <td>-0.89</td>\n",
       "      <td>-0.91</td>\n",
       "      <td>-0.45</td>\n",
       "      <td>0.51</td>\n",
       "      <td>1.04</td>\n",
       "      <td>-0.77</td>\n",
       "      <td>1</td>\n",
       "      <td>0.55</td>\n",
       "    </tr>\n",
       "    <tr>\n",
       "      <th>1</th>\n",
       "      <td>0.24</td>\n",
       "      <td>0.88</td>\n",
       "      <td>0.36</td>\n",
       "      <td>-0.45</td>\n",
       "      <td>0.51</td>\n",
       "      <td>1.04</td>\n",
       "      <td>0.90</td>\n",
       "      <td>1</td>\n",
       "      <td>0.55</td>\n",
       "    </tr>\n",
       "    <tr>\n",
       "      <th>2</th>\n",
       "      <td>-2.09</td>\n",
       "      <td>-0.89</td>\n",
       "      <td>-1.60</td>\n",
       "      <td>-0.45</td>\n",
       "      <td>0.51</td>\n",
       "      <td>1.04</td>\n",
       "      <td>-0.77</td>\n",
       "      <td>1</td>\n",
       "      <td>0.55</td>\n",
       "    </tr>\n",
       "    <tr>\n",
       "      <th>3</th>\n",
       "      <td>0.24</td>\n",
       "      <td>-0.89</td>\n",
       "      <td>-0.22</td>\n",
       "      <td>-0.45</td>\n",
       "      <td>0.51</td>\n",
       "      <td>1.04</td>\n",
       "      <td>2.58</td>\n",
       "      <td>1</td>\n",
       "      <td>0.55</td>\n",
       "    </tr>\n",
       "    <tr>\n",
       "      <th>4</th>\n",
       "      <td>-0.92</td>\n",
       "      <td>-0.89</td>\n",
       "      <td>-0.91</td>\n",
       "      <td>-0.45</td>\n",
       "      <td>0.51</td>\n",
       "      <td>1.04</td>\n",
       "      <td>0.90</td>\n",
       "      <td>1</td>\n",
       "      <td>0.55</td>\n",
       "    </tr>\n",
       "  </tbody>\n",
       "</table>\n",
       "</div>\n",
       "    <div class=\"colab-df-buttons\">\n",
       "\n",
       "  <div class=\"colab-df-container\">\n",
       "    <button class=\"colab-df-convert\" onclick=\"convertToInteractive('df-6f5cea68-db54-4b64-8364-7eb313dc9250')\"\n",
       "            title=\"Convert this dataframe to an interactive table.\"\n",
       "            style=\"display:none;\">\n",
       "\n",
       "  <svg xmlns=\"http://www.w3.org/2000/svg\" height=\"24px\" viewBox=\"0 -960 960 960\">\n",
       "    <path d=\"M120-120v-720h720v720H120Zm60-500h600v-160H180v160Zm220 220h160v-160H400v160Zm0 220h160v-160H400v160ZM180-400h160v-160H180v160Zm440 0h160v-160H620v160ZM180-180h160v-160H180v160Zm440 0h160v-160H620v160Z\"/>\n",
       "  </svg>\n",
       "    </button>\n",
       "\n",
       "  <style>\n",
       "    .colab-df-container {\n",
       "      display:flex;\n",
       "      gap: 12px;\n",
       "    }\n",
       "\n",
       "    .colab-df-convert {\n",
       "      background-color: #E8F0FE;\n",
       "      border: none;\n",
       "      border-radius: 50%;\n",
       "      cursor: pointer;\n",
       "      display: none;\n",
       "      fill: #1967D2;\n",
       "      height: 32px;\n",
       "      padding: 0 0 0 0;\n",
       "      width: 32px;\n",
       "    }\n",
       "\n",
       "    .colab-df-convert:hover {\n",
       "      background-color: #E2EBFA;\n",
       "      box-shadow: 0px 1px 2px rgba(60, 64, 67, 0.3), 0px 1px 3px 1px rgba(60, 64, 67, 0.15);\n",
       "      fill: #174EA6;\n",
       "    }\n",
       "\n",
       "    .colab-df-buttons div {\n",
       "      margin-bottom: 4px;\n",
       "    }\n",
       "\n",
       "    [theme=dark] .colab-df-convert {\n",
       "      background-color: #3B4455;\n",
       "      fill: #D2E3FC;\n",
       "    }\n",
       "\n",
       "    [theme=dark] .colab-df-convert:hover {\n",
       "      background-color: #434B5C;\n",
       "      box-shadow: 0px 1px 3px 1px rgba(0, 0, 0, 0.15);\n",
       "      filter: drop-shadow(0px 1px 2px rgba(0, 0, 0, 0.3));\n",
       "      fill: #FFFFFF;\n",
       "    }\n",
       "  </style>\n",
       "\n",
       "    <script>\n",
       "      const buttonEl =\n",
       "        document.querySelector('#df-6f5cea68-db54-4b64-8364-7eb313dc9250 button.colab-df-convert');\n",
       "      buttonEl.style.display =\n",
       "        google.colab.kernel.accessAllowed ? 'block' : 'none';\n",
       "\n",
       "      async function convertToInteractive(key) {\n",
       "        const element = document.querySelector('#df-6f5cea68-db54-4b64-8364-7eb313dc9250');\n",
       "        const dataTable =\n",
       "          await google.colab.kernel.invokeFunction('convertToInteractive',\n",
       "                                                    [key], {});\n",
       "        if (!dataTable) return;\n",
       "\n",
       "        const docLinkHtml = 'Like what you see? Visit the ' +\n",
       "          '<a target=\"_blank\" href=https://colab.research.google.com/notebooks/data_table.ipynb>data table notebook</a>'\n",
       "          + ' to learn more about interactive tables.';\n",
       "        element.innerHTML = '';\n",
       "        dataTable['output_type'] = 'display_data';\n",
       "        await google.colab.output.renderOutput(dataTable, element);\n",
       "        const docLink = document.createElement('div');\n",
       "        docLink.innerHTML = docLinkHtml;\n",
       "        element.appendChild(docLink);\n",
       "      }\n",
       "    </script>\n",
       "  </div>\n",
       "\n",
       "\n",
       "<div id=\"df-2a02f36e-51ed-44e1-9c20-b27b8e33f1a1\">\n",
       "  <button class=\"colab-df-quickchart\" onclick=\"quickchart('df-2a02f36e-51ed-44e1-9c20-b27b8e33f1a1')\"\n",
       "            title=\"Suggest charts\"\n",
       "            style=\"display:none;\">\n",
       "\n",
       "<svg xmlns=\"http://www.w3.org/2000/svg\" height=\"24px\"viewBox=\"0 0 24 24\"\n",
       "     width=\"24px\">\n",
       "    <g>\n",
       "        <path d=\"M19 3H5c-1.1 0-2 .9-2 2v14c0 1.1.9 2 2 2h14c1.1 0 2-.9 2-2V5c0-1.1-.9-2-2-2zM9 17H7v-7h2v7zm4 0h-2V7h2v10zm4 0h-2v-4h2v4z\"/>\n",
       "    </g>\n",
       "</svg>\n",
       "  </button>\n",
       "\n",
       "<style>\n",
       "  .colab-df-quickchart {\n",
       "      --bg-color: #E8F0FE;\n",
       "      --fill-color: #1967D2;\n",
       "      --hover-bg-color: #E2EBFA;\n",
       "      --hover-fill-color: #174EA6;\n",
       "      --disabled-fill-color: #AAA;\n",
       "      --disabled-bg-color: #DDD;\n",
       "  }\n",
       "\n",
       "  [theme=dark] .colab-df-quickchart {\n",
       "      --bg-color: #3B4455;\n",
       "      --fill-color: #D2E3FC;\n",
       "      --hover-bg-color: #434B5C;\n",
       "      --hover-fill-color: #FFFFFF;\n",
       "      --disabled-bg-color: #3B4455;\n",
       "      --disabled-fill-color: #666;\n",
       "  }\n",
       "\n",
       "  .colab-df-quickchart {\n",
       "    background-color: var(--bg-color);\n",
       "    border: none;\n",
       "    border-radius: 50%;\n",
       "    cursor: pointer;\n",
       "    display: none;\n",
       "    fill: var(--fill-color);\n",
       "    height: 32px;\n",
       "    padding: 0;\n",
       "    width: 32px;\n",
       "  }\n",
       "\n",
       "  .colab-df-quickchart:hover {\n",
       "    background-color: var(--hover-bg-color);\n",
       "    box-shadow: 0 1px 2px rgba(60, 64, 67, 0.3), 0 1px 3px 1px rgba(60, 64, 67, 0.15);\n",
       "    fill: var(--button-hover-fill-color);\n",
       "  }\n",
       "\n",
       "  .colab-df-quickchart-complete:disabled,\n",
       "  .colab-df-quickchart-complete:disabled:hover {\n",
       "    background-color: var(--disabled-bg-color);\n",
       "    fill: var(--disabled-fill-color);\n",
       "    box-shadow: none;\n",
       "  }\n",
       "\n",
       "  .colab-df-spinner {\n",
       "    border: 2px solid var(--fill-color);\n",
       "    border-color: transparent;\n",
       "    border-bottom-color: var(--fill-color);\n",
       "    animation:\n",
       "      spin 1s steps(1) infinite;\n",
       "  }\n",
       "\n",
       "  @keyframes spin {\n",
       "    0% {\n",
       "      border-color: transparent;\n",
       "      border-bottom-color: var(--fill-color);\n",
       "      border-left-color: var(--fill-color);\n",
       "    }\n",
       "    20% {\n",
       "      border-color: transparent;\n",
       "      border-left-color: var(--fill-color);\n",
       "      border-top-color: var(--fill-color);\n",
       "    }\n",
       "    30% {\n",
       "      border-color: transparent;\n",
       "      border-left-color: var(--fill-color);\n",
       "      border-top-color: var(--fill-color);\n",
       "      border-right-color: var(--fill-color);\n",
       "    }\n",
       "    40% {\n",
       "      border-color: transparent;\n",
       "      border-right-color: var(--fill-color);\n",
       "      border-top-color: var(--fill-color);\n",
       "    }\n",
       "    60% {\n",
       "      border-color: transparent;\n",
       "      border-right-color: var(--fill-color);\n",
       "    }\n",
       "    80% {\n",
       "      border-color: transparent;\n",
       "      border-right-color: var(--fill-color);\n",
       "      border-bottom-color: var(--fill-color);\n",
       "    }\n",
       "    90% {\n",
       "      border-color: transparent;\n",
       "      border-bottom-color: var(--fill-color);\n",
       "    }\n",
       "  }\n",
       "</style>\n",
       "\n",
       "  <script>\n",
       "    async function quickchart(key) {\n",
       "      const quickchartButtonEl =\n",
       "        document.querySelector('#' + key + ' button');\n",
       "      quickchartButtonEl.disabled = true;  // To prevent multiple clicks.\n",
       "      quickchartButtonEl.classList.add('colab-df-spinner');\n",
       "      try {\n",
       "        const charts = await google.colab.kernel.invokeFunction(\n",
       "            'suggestCharts', [key], {});\n",
       "      } catch (error) {\n",
       "        console.error('Error during call to suggestCharts:', error);\n",
       "      }\n",
       "      quickchartButtonEl.classList.remove('colab-df-spinner');\n",
       "      quickchartButtonEl.classList.add('colab-df-quickchart-complete');\n",
       "    }\n",
       "    (() => {\n",
       "      let quickchartButtonEl =\n",
       "        document.querySelector('#df-2a02f36e-51ed-44e1-9c20-b27b8e33f1a1 button');\n",
       "      quickchartButtonEl.style.display =\n",
       "        google.colab.kernel.accessAllowed ? 'block' : 'none';\n",
       "    })();\n",
       "  </script>\n",
       "</div>\n",
       "\n",
       "    </div>\n",
       "  </div>\n"
      ],
      "text/plain": [
       "   Habitaciones  Aseos  Metros  CUDIS  Población  \\\n",
       "0         -0.92  -0.89   -0.91  -0.45       0.51   \n",
       "1          0.24   0.88    0.36  -0.45       0.51   \n",
       "2         -2.09  -0.89   -1.60  -0.45       0.51   \n",
       "3          0.24  -0.89   -0.22  -0.45       0.51   \n",
       "4         -0.92  -0.89   -0.91  -0.45       0.51   \n",
       "\n",
       "   Renta bruta media por persona  Comodidades  Capital  Precio_medio_mun_tipo  \n",
       "0                           1.04        -0.77        1                   0.55  \n",
       "1                           1.04         0.90        1                   0.55  \n",
       "2                           1.04        -0.77        1                   0.55  \n",
       "3                           1.04         2.58        1                   0.55  \n",
       "4                           1.04         0.90        1                   0.55  "
      ]
     },
     "execution_count": 98,
     "metadata": {},
     "output_type": "execute_result"
    }
   ],
   "source": [
    "# Convertir solo las columnas categóricas (True/False) a 0/1\n",
    "categorical_columns_encoded = list(set(obs_X_encoded.columns) - set(numeric_columns))\n",
    "obs_X_encoded[categorical_columns_encoded] = obs_X_encoded[categorical_columns_encoded].astype(int)\n",
    "\n",
    "obs_X_encoded.head()"
   ]
  },
  {
   "cell_type": "code",
   "execution_count": 99,
   "metadata": {
    "executionInfo": {
     "elapsed": 2,
     "status": "ok",
     "timestamp": 1745333269962,
     "user": {
      "displayName": "Marina Fernández Delgado",
      "userId": "16194969030307626556"
     },
     "user_tz": -120
    },
    "id": "pwPDBItNod7j"
   },
   "outputs": [],
   "source": [
    "y = obj_Y_scaled['Precio'].copy()\n",
    "X = obs_X_encoded.copy()"
   ]
  },
  {
   "cell_type": "code",
   "execution_count": 100,
   "metadata": {
    "colab": {
     "base_uri": "https://localhost:8080/"
    },
    "executionInfo": {
     "elapsed": 39,
     "status": "ok",
     "timestamp": 1745333270009,
     "user": {
      "displayName": "Marina Fernández Delgado",
      "userId": "16194969030307626556"
     },
     "user_tz": -120
    },
    "id": "qKNU8Rda_Vn0",
    "outputId": "396d3f74-ae3e-4523-9d59-caf4634c2836"
   },
   "outputs": [
    {
     "name": "stdout",
     "output_type": "stream",
     "text": [
      "Dimensiones de X_train: (11738, 9)\n",
      "Dimensiones de X_val: (5031, 9)\n",
      "Dimensiones de y_train: (11738,)\n",
      "Dimensiones de y_val: (5031,)\n"
     ]
    }
   ],
   "source": [
    "X_train, X_val, y_train, y_val = train_test_split(X, y, test_size=0.3, random_state=42)\n",
    "\n",
    "\n",
    "print(\"Dimensiones de X_train:\", X_train.shape)\n",
    "print(\"Dimensiones de X_val:\", X_val.shape)\n",
    "print(\"Dimensiones de y_train:\", y_train.shape)\n",
    "print(\"Dimensiones de y_val:\", y_val.shape)"
   ]
  },
  {
   "cell_type": "markdown",
   "metadata": {
    "id": "lALEpE9O_G7c"
   },
   "source": [
    "# MLP - Multiplayer Perceptron"
   ]
  },
  {
   "cell_type": "markdown",
   "metadata": {
    "id": "-pfOtpMTzu7-"
   },
   "source": [
    "| Modelo                 | Descripción                                         | ¿Recomendado para este caso?                          |\n",
    "|------------------------|-----------------------------------------------------|------------------------------------------------------|\n",
    "| MLP / ANN              | Capas densas, ideal para datos tabulares            | ✅ Sí, buena opción                                   |\n",
    "| CNN                    | Usado más en imágenes, no aplicaría aquí            | ❌ No                                                 |\n",
    "| RNN / LSTM             | Para series temporales (por ejemplo, precios en el tiempo) | ⚠️ Solo si tenés secuencias temporales por vivienda |\n",
    "| TabNet, FT-Transformer | Redes más modernas para datos tabulares             | 🚀 Muy potentes, pero más complejas                  |\n"
   ]
  },
  {
   "cell_type": "code",
   "execution_count": 115,
   "metadata": {
    "executionInfo": {
     "elapsed": 61,
     "status": "ok",
     "timestamp": 1745333720482,
     "user": {
      "displayName": "Marina Fernández Delgado",
      "userId": "16194969030307626556"
     },
     "user_tz": -120
    },
    "id": "miwMknum4nQa"
   },
   "outputs": [],
   "source": [
    "class MLP(nn.Module):\n",
    "    def __init__(self, input_size):\n",
    "        super(MLP, self).__init__()\n",
    "        self.hidden1 = nn.Linear(input_size, 128)\n",
    "        self.bn1 = nn.BatchNorm1d(128)\n",
    "\n",
    "        self.hidden2 = nn.Linear(128, 64)\n",
    "        self.bn2 = nn.BatchNorm1d(64)\n",
    "\n",
    "        self.hidden3 = nn.Linear(64, 32)\n",
    "        self.bn3 = nn.BatchNorm1d(32)\n",
    "\n",
    "        self.dropout = nn.Dropout(0.2)\n",
    "        self.output = nn.Linear(32, 1)\n",
    "\n",
    "    def forward(self, x):\n",
    "        x = torch.nn.functional.leaky_relu(self.bn1(self.hidden1(x)))\n",
    "        x = self.dropout(x)\n",
    "        x = torch.nn.functional.leaky_relu(self.bn2(self.hidden2(x)))\n",
    "        x = self.dropout(x)\n",
    "        x = torch.nn.functional.leaky_relu(self.bn3(self.hidden3(x)))\n",
    "        x = self.output(x)\n",
    "        return x\n",
    "\n"
   ]
  },
  {
   "cell_type": "code",
   "execution_count": 116,
   "metadata": {
    "executionInfo": {
     "elapsed": 3,
     "status": "ok",
     "timestamp": 1745333720494,
     "user": {
      "displayName": "Marina Fernández Delgado",
      "userId": "16194969030307626556"
     },
     "user_tz": -120
    },
    "id": "53V3uRqTD-EN"
   },
   "outputs": [],
   "source": [
    "# Convertir datos a tensores\n",
    "X_train_tensor = torch.tensor(X_train.values, dtype=torch.float32)\n",
    "y_train_tensor = torch.tensor(y_train.values, dtype=torch.float32).unsqueeze(1)\n",
    "X_val_tensor = torch.tensor(X_val.values, dtype=torch.float32)\n",
    "y_val_tensor = torch.tensor(y_val.values, dtype=torch.float32).unsqueeze(1)"
   ]
  },
  {
   "cell_type": "code",
   "execution_count": 117,
   "metadata": {
    "colab": {
     "base_uri": "https://localhost:8080/"
    },
    "executionInfo": {
     "elapsed": 86,
     "status": "ok",
     "timestamp": 1745333720579,
     "user": {
      "displayName": "Marina Fernández Delgado",
      "userId": "16194969030307626556"
     },
     "user_tz": -120
    },
    "id": "8NcfsVYt-z9U",
    "outputId": "857a55fe-a2b9-4d6d-f7a5-fc747b536c8d"
   },
   "outputs": [
    {
     "name": "stdout",
     "output_type": "stream",
     "text": [
      "Número de parámetros del modelo: 12097\n"
     ]
    }
   ],
   "source": [
    "# Determina el tamaño de las características de entrada\n",
    "input_size = X_train.shape[1]  # Número de columnas en el dataset\n",
    "model = MLP(input_size)\n",
    "\n",
    "print(f'Número de parámetros del modelo: {sum(p.numel() for p in model.parameters())}')"
   ]
  },
  {
   "cell_type": "code",
   "execution_count": 118,
   "metadata": {
    "executionInfo": {
     "elapsed": 4,
     "status": "ok",
     "timestamp": 1745333720584,
     "user": {
      "displayName": "Marina Fernández Delgado",
      "userId": "16194969030307626556"
     },
     "user_tz": -120
    },
    "id": "YEOha7jPFdr3"
   },
   "outputs": [],
   "source": [
    "# Configurar la función de pérdida y optimizador\n",
    "loss_fn = nn.MSELoss()  # MSE para un problema de regresión\n",
    "optimizer = optim.Adam(model.parameters(), lr=0.001, weight_decay=1e-4)  # Optimizador Adam"
   ]
  },
  {
   "cell_type": "code",
   "execution_count": 119,
   "metadata": {
    "executionInfo": {
     "elapsed": 7,
     "status": "ok",
     "timestamp": 1745333720590,
     "user": {
      "displayName": "Marina Fernández Delgado",
      "userId": "16194969030307626556"
     },
     "user_tz": -120
    },
    "id": "VuwHGKsqvgig"
   },
   "outputs": [],
   "source": [
    "# Hiperparámetros\n",
    "n_epochs = 100\n",
    "batch_size = 8\n",
    "patience = 5"
   ]
  },
  {
   "cell_type": "code",
   "execution_count": 120,
   "metadata": {
    "colab": {
     "base_uri": "https://localhost:8080/"
    },
    "executionInfo": {
     "elapsed": 73467,
     "status": "ok",
     "timestamp": 1745333794054,
     "user": {
      "displayName": "Marina Fernández Delgado",
      "userId": "16194969030307626556"
     },
     "user_tz": -120
    },
    "id": "63jWkcj8-4ME",
    "outputId": "1e163759-f669-4388-8d3e-494f8daa3f6b"
   },
   "outputs": [
    {
     "name": "stdout",
     "output_type": "stream",
     "text": [
      "Epoch 5/100 | Train Loss: 0.4751 | Val Loss: 0.3812 | Val MAE: 27,978.75\n",
      "Epoch 10/100 | Train Loss: 0.4426 | Val Loss: 0.3718 | Val MAE: 27,026.45\n",
      "Epoch 15/100 | Train Loss: 0.4152 | Val Loss: 0.3662 | Val MAE: 26,877.57\n",
      "Epoch 20/100 | Train Loss: 0.4032 | Val Loss: 0.3651 | Val MAE: 26,777.90\n",
      "⏹️ Early stopping activado en la época 20. Mejor Val Loss: 0.3630\n"
     ]
    }
   ],
   "source": [
    "# Entrenar el modelo\n",
    "best_val_loss, train_loss_hist, val_loss_hist, val_mae_hist, val_deviation_hist = train_model(\n",
    "    model=model,\n",
    "    X_train=X_train_tensor,\n",
    "    y_train=y_train_tensor,\n",
    "    X_val=X_val_tensor,\n",
    "    y_val=y_val_tensor,\n",
    "    n_epochs=n_epochs,\n",
    "    batch_size=batch_size,\n",
    "    loss_fn=loss_fn,\n",
    "    optimizer=optimizer,\n",
    "    scaler=scaler_y,\n",
    "    patience=patience\n",
    ")\n"
   ]
  },
  {
   "cell_type": "code",
   "execution_count": 121,
   "metadata": {
    "colab": {
     "base_uri": "https://localhost:8080/"
    },
    "executionInfo": {
     "elapsed": 38,
     "status": "ok",
     "timestamp": 1745333794096,
     "user": {
      "displayName": "Marina Fernández Delgado",
      "userId": "16194969030307626556"
     },
     "user_tz": -120
    },
    "id": "2XQpztHUF4n-",
    "outputId": "7aa67ca3-661d-4898-ce63-dc22a4ea2c88"
   },
   "outputs": [
    {
     "name": "stdout",
     "output_type": "stream",
     "text": [
      "Mean Squared Error en Validación: 0.3630\n"
     ]
    }
   ],
   "source": [
    "# Evaluación final\n",
    "model.eval()\n",
    "with torch.no_grad():\n",
    "    y_pred_val = model(X_val_tensor)\n",
    "    mse = loss_fn(y_pred_val, y_val_tensor)\n",
    "    print(f\"Mean Squared Error en Validación: {mse.item():.4f}\")\n"
   ]
  },
  {
   "cell_type": "code",
   "execution_count": 122,
   "metadata": {
    "colab": {
     "base_uri": "https://localhost:8080/",
     "height": 483
    },
    "executionInfo": {
     "elapsed": 230,
     "status": "ok",
     "timestamp": 1745333794338,
     "user": {
      "displayName": "Marina Fernández Delgado",
      "userId": "16194969030307626556"
     },
     "user_tz": -120
    },
    "id": "FNSeNmT9-7DY",
    "outputId": "7c5c2ae0-d13b-4f2f-c234-0cb5e9f62027"
   },
   "outputs": [
    {
     "data": {
      "image/png": "[encoded data removed]",
      "text/plain": [
       "<Figure size 640x480 with 1 Axes>"
      ]
     },
     "metadata": {},
     "output_type": "display_data"
    }
   ],
   "source": [
    "plt.plot(train_loss_hist, label='Train Loss')\n",
    "plt.plot(val_loss_hist, label='Validation Loss')\n",
    "plt.xlabel('Épocas')\n",
    "plt.ylabel('Pérdida (Loss)')\n",
    "plt.legend()\n",
    "plt.title('Historial de Pérdida')\n",
    "plt.show()"
   ]
  },
  {
   "cell_type": "code",
   "execution_count": 123,
   "metadata": {
    "colab": {
     "base_uri": "https://localhost:8080/"
    },
    "executionInfo": {
     "elapsed": 202846,
     "status": "ok",
     "timestamp": 1745333997185,
     "user": {
      "displayName": "Marina Fernández Delgado",
      "userId": "16194969030307626556"
     },
     "user_tz": -120
    },
    "id": "gQ5Be_T1GXkO",
    "outputId": "07d110d0-fa4b-4211-ef63-39a92e815b42"
   },
   "outputs": [
    {
     "name": "stdout",
     "output_type": "stream",
     "text": [
      "\n",
      " Fold 1\n",
      "Entrenando modelo...\n",
      "Epoch 5/100 | Train Loss: 0.4734 | Val Loss: 0.3726 | Val MAE: 27,687.16\n",
      "Epoch 10/100 | Train Loss: 0.4481 | Val Loss: 0.3660 | Val MAE: 27,349.50\n",
      "Epoch 15/100 | Train Loss: 0.4213 | Val Loss: 0.3640 | Val MAE: 27,114.28\n",
      "Epoch 20/100 | Train Loss: 0.4009 | Val Loss: 0.3643 | Val MAE: 26,918.98\n",
      "⏹️ Early stopping activado en la época 22. Mejor Val Loss: 0.3607\n",
      "Entrenamiento terminado. Evaluando...\n",
      "Fold 1: MSE=1314205312.00, MAE=26982.15, R²=0.5646\n",
      "\n",
      " Fold 2\n",
      "Entrenando modelo...\n",
      "Epoch 5/100 | Train Loss: 0.4726 | Val Loss: 0.4182 | Val MAE: 28,979.86\n",
      "⏹️ Early stopping activado en la época 6. Mejor Val Loss: 0.4100\n",
      "Entrenamiento terminado. Evaluando...\n",
      "Fold 2: MSE=1498880384.00, MAE=28711.51, R²=0.5553\n",
      "\n",
      " Fold 3\n",
      "Entrenando modelo...\n",
      "Epoch 5/100 | Train Loss: 0.4931 | Val Loss: 0.3392 | Val MAE: 26,116.99\n",
      "Epoch 10/100 | Train Loss: 0.4689 | Val Loss: 0.3340 | Val MAE: 25,800.99\n",
      "Epoch 15/100 | Train Loss: 0.4432 | Val Loss: 0.3277 | Val MAE: 25,288.63\n",
      "⏹️ Early stopping activado en la época 18. Mejor Val Loss: 0.3270\n",
      "Entrenamiento terminado. Evaluando...\n",
      "Fold 3: MSE=1175538432.00, MAE=25347.77, R²=0.5949\n",
      "\n",
      " Fold 4\n",
      "Entrenando modelo...\n",
      "Epoch 5/100 | Train Loss: 0.4741 | Val Loss: 0.3822 | Val MAE: 27,751.71\n",
      "Epoch 10/100 | Train Loss: 0.4447 | Val Loss: 0.3811 | Val MAE: 27,629.14\n",
      "Epoch 15/100 | Train Loss: 0.4186 | Val Loss: 0.3759 | Val MAE: 27,246.37\n",
      "⏹️ Early stopping activado en la época 16. Mejor Val Loss: 0.3746\n",
      "Entrenamiento terminado. Evaluando...\n",
      "Fold 4: MSE=1338178688.00, MAE=27372.99, R²=0.5756\n",
      "\n",
      " Fold 5\n",
      "Entrenando modelo...\n",
      "Epoch 5/100 | Train Loss: 0.4758 | Val Loss: 0.3975 | Val MAE: 27,363.43\n",
      "Epoch 10/100 | Train Loss: 0.4497 | Val Loss: 0.3921 | Val MAE: 27,133.51\n",
      "⏹️ Early stopping activado en la época 10. Mejor Val Loss: 0.3864\n",
      "Entrenamiento terminado. Evaluando...\n",
      "Fold 5: MSE=1324452352.00, MAE=26874.47, R²=0.5484\n",
      "\n",
      "Resultados promedio tras 5 pliegues:\n",
      "MSE promedio: 1330251033.6000\n",
      "MAE promedio: 27057.7797\n",
      "R² promedio: 0.5678\n"
     ]
    }
   ],
   "source": [
    "# Configuración de validación cruzada\n",
    "kf = KFold(n_splits=5, shuffle=True, random_state=42)\n",
    "\n",
    "# Listas para almacenar métricas por pliegue\n",
    "mse_scores = []\n",
    "mae_scores = []\n",
    "r2_scores = []\n",
    "\n",
    "# Validación cruzada en múltiples pliegues\n",
    "for fold, (train_idx, val_idx) in enumerate(kf.split(X_train_tensor)):\n",
    "    print(f'\\n Fold {fold + 1}')\n",
    "\n",
    "    X_train_fold, X_val_fold = X_train_tensor[train_idx], X_train_tensor[val_idx]\n",
    "    y_train_fold, y_val_fold = y_train_tensor[train_idx], y_train_tensor[val_idx]\n",
    "\n",
    "    model = MLP(input_size=X_train_tensor.shape[1])\n",
    "    optimizer = torch.optim.Adam(model.parameters(), lr=0.001)\n",
    "    loss_fn = torch.nn.MSELoss()\n",
    "\n",
    "    print(\"Entrenando modelo...\")\n",
    "\n",
    "    _, train_loss_hist, val_loss_hist, val_mae_hist, val_deviation_hist = train_model(\n",
    "        model,\n",
    "        X_train_fold,\n",
    "        y_train_fold,\n",
    "        X_val_fold,\n",
    "        y_val_fold,\n",
    "        n_epochs=n_epochs,\n",
    "        batch_size=batch_size,\n",
    "        loss_fn=loss_fn,\n",
    "        optimizer=optimizer,\n",
    "        scaler=scaler_y,\n",
    "        patience=patience\n",
    "    )\n",
    "\n",
    "    print(\"Entrenamiento terminado. Evaluando...\")\n",
    "\n",
    "    model.eval()\n",
    "    with torch.no_grad():\n",
    "        y_pred_val = model(X_val_fold).cpu().numpy().reshape(-1, 1)\n",
    "        y_val_fold_np = y_val_fold.cpu().numpy().reshape(-1, 1)\n",
    "\n",
    "        # Invertir escalado\n",
    "        y_pred_inv = scaler_y.inverse_transform(y_pred_val).ravel()\n",
    "        y_val_inv = scaler_y.inverse_transform(y_val_fold_np).ravel()\n",
    "\n",
    "        # Invertir log\n",
    "        y_pred_final = np.exp(y_pred_inv)\n",
    "        y_val_final = np.exp(y_val_inv)\n",
    "\n",
    "    # Métricas en la escala original (€)\n",
    "    mse = mean_squared_error(y_val_final, y_pred_final)\n",
    "    mae = mean_absolute_error(y_val_final, y_pred_final)\n",
    "    r2 = r2_score(y_val_final, y_pred_final)\n",
    "\n",
    "    mse_scores.append(mse)\n",
    "    mae_scores.append(mae)\n",
    "    r2_scores.append(r2)\n",
    "\n",
    "    print(f'Fold {fold + 1}: MSE={mse:.2f}, MAE={mae:.2f}, R²={r2:.4f}')\n",
    "\n",
    "# Resultados finales\n",
    "print(f'\\nResultados promedio tras {kf.get_n_splits()} pliegues:')\n",
    "print(f'MSE promedio: {np.mean(mse_scores):.4f}')\n",
    "print(f'MAE promedio: {np.mean(mae_scores):.4f}')\n",
    "print(f'R² promedio: {np.mean(r2_scores):.4f}')\n"
   ]
  },
  {
   "cell_type": "markdown",
   "metadata": {
    "id": "zDrTflBPJ_JH"
   },
   "source": [
    "# Análisis de la fase de entrenamiento"
   ]
  },
  {
   "cell_type": "code",
   "execution_count": 124,
   "metadata": {
    "executionInfo": {
     "elapsed": 18,
     "status": "ok",
     "timestamp": 1745333997204,
     "user": {
      "displayName": "Marina Fernández Delgado",
      "userId": "16194969030307626556"
     },
     "user_tz": -120
    },
    "id": "kiVuV9f_KEMe"
   },
   "outputs": [],
   "source": [
    "X_train_sub, X_val_sub, y_train_sub, y_val_sub = train_test_split(X_train_tensor, y_train_tensor, test_size=0.3, random_state=42)"
   ]
  },
  {
   "cell_type": "code",
   "execution_count": 125,
   "metadata": {
    "colab": {
     "base_uri": "https://localhost:8080/"
    },
    "executionInfo": {
     "elapsed": 43813,
     "status": "ok",
     "timestamp": 1745334041019,
     "user": {
      "displayName": "Marina Fernández Delgado",
      "userId": "16194969030307626556"
     },
     "user_tz": -120
    },
    "id": "EvdHOe_RKHGu",
    "outputId": "e2cfc5cf-7713-475d-8cb7-d2d71136161d"
   },
   "outputs": [
    {
     "name": "stdout",
     "output_type": "stream",
     "text": [
      "Epoch 5/100 | Train Loss: 0.4548 | Val Loss: 0.3959 | Val MAE: 28,546.95\n",
      "Epoch 10/100 | Train Loss: 0.4289 | Val Loss: 0.3862 | Val MAE: 27,936.47\n",
      "Epoch 15/100 | Train Loss: 0.4097 | Val Loss: 0.3905 | Val MAE: 27,828.28\n",
      "⏹️ Early stopping activado en la época 18. Mejor Val Loss: 0.3828\n"
     ]
    }
   ],
   "source": [
    "best_val_loss, train_loss_hist, val_loss_hist, val_mae_hist, val_deviation_hist = train_model(\n",
    "    model,\n",
    "    X_train_sub,\n",
    "    y_train_sub,\n",
    "    X_val_sub,\n",
    "    y_val_sub,\n",
    "    n_epochs,\n",
    "    batch_size,\n",
    "    loss_fn,\n",
    "    optimizer,\n",
    "    scaler_y,\n",
    "  )"
   ]
  },
  {
   "cell_type": "code",
   "execution_count": 126,
   "metadata": {
    "colab": {
     "base_uri": "https://localhost:8080/"
    },
    "executionInfo": {
     "elapsed": 38,
     "status": "ok",
     "timestamp": 1745334041058,
     "user": {
      "displayName": "Marina Fernández Delgado",
      "userId": "16194969030307626556"
     },
     "user_tz": -120
    },
    "id": "QH3hQRbrKJjX",
    "outputId": "6a2759d5-1f0f-4c74-d72d-a8eda61f5653"
   },
   "outputs": [
    {
     "name": "stdout",
     "output_type": "stream",
     "text": [
      "Mejor pérdida de validación (MSE): 0.3828\n"
     ]
    }
   ],
   "source": [
    "print(f\"Mejor pérdida de validación (MSE): {best_val_loss:.4f}\")"
   ]
  },
  {
   "cell_type": "code",
   "execution_count": 127,
   "metadata": {
    "colab": {
     "base_uri": "https://localhost:8080/",
     "height": 576
    },
    "executionInfo": {
     "elapsed": 295,
     "status": "ok",
     "timestamp": 1745334041354,
     "user": {
      "displayName": "Marina Fernández Delgado",
      "userId": "16194969030307626556"
     },
     "user_tz": -120
    },
    "id": "IhB1VelkKLV3",
    "outputId": "0cd067bc-8d95-4faf-c257-019e2b492e0f"
   },
   "outputs": [
    {
     "data": {
      "image/png": "[encoded data removed]",
      "text/plain": [
       "<Figure size 1000x600 with 1 Axes>"
      ]
     },
     "metadata": {},
     "output_type": "display_data"
    }
   ],
   "source": [
    "# Número de épocas\n",
    "num_epochs = len(train_loss_hist)\n",
    "\n",
    "# Gráfico de pérdida (MSE)\n",
    "plt.figure(figsize=(10, 6))\n",
    "plt.plot(range(1, num_epochs + 1), train_loss_hist, label='Entrenamiento (MSE)', color='blue')\n",
    "plt.plot(range(1, num_epochs + 1), val_loss_hist, label='Validación (MSE)', color='red')\n",
    "plt.title('Evolución de la pérdida (MSE)')\n",
    "plt.xlabel('Épocas')\n",
    "plt.ylabel('Pérdida (MSE)')\n",
    "plt.legend()\n",
    "plt.grid(True)\n",
    "plt.show()"
   ]
  },
  {
   "cell_type": "code",
   "execution_count": 128,
   "metadata": {
    "colab": {
     "base_uri": "https://localhost:8080/",
     "height": 575
    },
    "executionInfo": {
     "elapsed": 308,
     "status": "ok",
     "timestamp": 1745334041664,
     "user": {
      "displayName": "Marina Fernández Delgado",
      "userId": "16194969030307626556"
     },
     "user_tz": -120
    },
    "id": "Uaa7wUACOHIo",
    "outputId": "0a28ca30-190f-4b6b-e502-a9c4347db6c3"
   },
   "outputs": [
    {
     "data": {
      "image/png": "[encoded data removed]",
      "text/plain": [
       "<Figure size 1000x600 with 1 Axes>"
      ]
     },
     "metadata": {},
     "output_type": "display_data"
    }
   ],
   "source": [
    "# Obtener el número de épocas\n",
    "num_epochs = len(train_loss_hist)  # Debe coincidir con el historial registrado\n",
    "\n",
    "plt.figure(figsize=(10, 6))\n",
    "plt.plot(range(1, num_epochs + 1), val_mae_hist, label='Validación (MAE)', color='green')\n",
    "plt.title('Evolución del error absoluto medio (MAE)')\n",
    "plt.xlabel('Épocas')\n",
    "plt.ylabel('MAE')\n",
    "plt.legend()\n",
    "plt.grid(True)\n",
    "plt.show()"
   ]
  },
  {
   "cell_type": "markdown",
   "metadata": {
    "id": "Kg4-13CWIxix"
   },
   "source": [
    "# Análisis de la fase de test"
   ]
  },
  {
   "cell_type": "code",
   "execution_count": 129,
   "metadata": {
    "colab": {
     "base_uri": "https://localhost:8080/",
     "height": 608
    },
    "executionInfo": {
     "elapsed": 490,
     "status": "ok",
     "timestamp": 1745334042152,
     "user": {
      "displayName": "Marina Fernández Delgado",
      "userId": "16194969030307626556"
     },
     "user_tz": -120
    },
    "id": "zVLzLiV6I0d5",
    "outputId": "e98da353-e7b3-4e20-bd20-1af3df42c99b"
   },
   "outputs": [
    {
     "name": "stdout",
     "output_type": "stream",
     "text": [
      "Pérdida en el conjunto de prueba (MSE): 0.3820\n",
      "Error absoluto medio en el conjunto de prueba (MAE): 0.4825\n"
     ]
    },
    {
     "data": {
      "image/png": "[encoded data removed]",
      "text/plain": [
       "<Figure size 1000x600 with 1 Axes>"
      ]
     },
     "metadata": {},
     "output_type": "display_data"
    }
   ],
   "source": [
    "# Evaluación en el conjunto de prueba\n",
    "model.eval()  # Modo evaluación\n",
    "with torch.no_grad():\n",
    "    y_test_pred = model(X_val_tensor)\n",
    "\n",
    "# Calcular métricas\n",
    "mse_test = torch.mean((y_test_pred - y_val_tensor) ** 2).item()  # MSE\n",
    "mae_test = torch.mean(torch.abs(y_test_pred - y_val_tensor)).item()  # MAE\n",
    "\n",
    "print(f\"Pérdida en el conjunto de prueba (MSE): {mse_test:.4f}\")\n",
    "print(f\"Error absoluto medio en el conjunto de prueba (MAE): {mae_test:.4f}\")\n",
    "\n",
    "# Gráfico comparativo: predicciones vs valores reales\n",
    "plt.figure(figsize=(10, 6))\n",
    "plt.plot(y_val_tensor.cpu(), label='Valores reales', color='blue')\n",
    "plt.plot(y_test_pred.cpu(), label='Predicciones', color='red', alpha=0.7)\n",
    "plt.title('Predicciones vs Valores Reales (Test)')\n",
    "plt.xlabel('Muestras')\n",
    "plt.ylabel('Precio')\n",
    "plt.legend()\n",
    "plt.grid(True)\n",
    "plt.show()\n"
   ]
  },
  {
   "cell_type": "code",
   "execution_count": 130,
   "metadata": {
    "colab": {
     "base_uri": "https://localhost:8080/",
     "height": 573
    },
    "executionInfo": {
     "elapsed": 495,
     "status": "ok",
     "timestamp": 1745334042648,
     "user": {
      "displayName": "Marina Fernández Delgado",
      "userId": "16194969030307626556"
     },
     "user_tz": -120
    },
    "id": "aDji1brKvv9R",
    "outputId": "ce97453d-65d5-4941-fd96-f7795f94037f"
   },
   "outputs": [
    {
     "data": {
      "image/png": "[encoded data removed]",
      "text/plain": [
       "<Figure size 800x600 with 1 Axes>"
      ]
     },
     "metadata": {},
     "output_type": "display_data"
    }
   ],
   "source": [
    "# Supón que ya tienes y_val_pred y y_val como tensores\n",
    "y_val_pred = y_test_pred.cpu().numpy().reshape(-1, 1)\n",
    "y_val_true = y_val.to_numpy().reshape(-1, 1)\n",
    "\n",
    "# 1. Invertir el escalado con StandardScaler\n",
    "y_val_pred_unscaled = scaler_y.inverse_transform(y_val_pred).ravel()\n",
    "y_val_true_unscaled = scaler_y.inverse_transform(y_val_true).ravel()\n",
    "\n",
    "# 2. Invertir el logaritmo para volver a euros\n",
    "y_val_pred_original = np.exp(y_val_pred_unscaled)\n",
    "y_val_true_original = np.exp(y_val_true_unscaled)\n",
    "\n",
    "# 3. Graficar\n",
    "plot_predictions(y_val_true_original, y_val_pred_original, title=\"Predicciones en escala original (€)\")"
   ]
  },
  {
   "cell_type": "markdown",
   "metadata": {
    "id": "_lV9dr_TkW_t"
   },
   "source": [
    "# Shap Values"
   ]
  },
  {
   "cell_type": "code",
   "execution_count": 131,
   "metadata": {
    "executionInfo": {
     "elapsed": 2,
     "status": "ok",
     "timestamp": 1745334042652,
     "user": {
      "displayName": "Marina Fernández Delgado",
      "userId": "16194969030307626556"
     },
     "user_tz": -120
    },
    "id": "YaRa_MzCkZwE"
   },
   "outputs": [],
   "source": [
    "sample_size = 10000\n",
    "X_train_sample = X_train_tensor[:sample_size]"
   ]
  },
  {
   "cell_type": "code",
   "execution_count": 132,
   "metadata": {
    "executionInfo": {
     "elapsed": 5,
     "status": "ok",
     "timestamp": 1745334042658,
     "user": {
      "displayName": "Marina Fernández Delgado",
      "userId": "16194969030307626556"
     },
     "user_tz": -120
    },
    "id": "oPpvtkJ_kbrF"
   },
   "outputs": [],
   "source": [
    "explainer = shap.GradientExplainer(model, X_train_sample)\n",
    "explainer.model_output = 'raw'"
   ]
  },
  {
   "cell_type": "code",
   "execution_count": 133,
   "metadata": {
    "executionInfo": {
     "elapsed": 7,
     "status": "ok",
     "timestamp": 1745334042663,
     "user": {
      "displayName": "Marina Fernández Delgado",
      "userId": "16194969030307626556"
     },
     "user_tz": -120
    },
    "id": "PvA54MkHkc9l"
   },
   "outputs": [],
   "source": [
    "sample_test_size = 400\n",
    "X_test_sample = X_train_tensor[:sample_test_size]"
   ]
  },
  {
   "cell_type": "code",
   "execution_count": 134,
   "metadata": {
    "executionInfo": {
     "elapsed": 13856,
     "status": "ok",
     "timestamp": 1745334056520,
     "user": {
      "displayName": "Marina Fernández Delgado",
      "userId": "16194969030307626556"
     },
     "user_tz": -120
    },
    "id": "h6krEW-jkhGF"
   },
   "outputs": [],
   "source": [
    "shap_values = explainer.shap_values(X_test_sample)\n",
    "shap_values = shap_values[:,:,-1]"
   ]
  },
  {
   "cell_type": "code",
   "execution_count": 135,
   "metadata": {
    "executionInfo": {
     "elapsed": 6,
     "status": "ok",
     "timestamp": 1745334056522,
     "user": {
      "displayName": "Marina Fernández Delgado",
      "userId": "16194969030307626556"
     },
     "user_tz": -120
    },
    "id": "mZIhjMHZkjDV"
   },
   "outputs": [],
   "source": [
    "columns=X_train.columns\n",
    "columns = columns.to_list()"
   ]
  },
  {
   "cell_type": "code",
   "execution_count": 136,
   "metadata": {
    "executionInfo": {
     "elapsed": 6,
     "status": "ok",
     "timestamp": 1745334056523,
     "user": {
      "displayName": "Marina Fernández Delgado",
      "userId": "16194969030307626556"
     },
     "user_tz": -120
    },
    "id": "LvNjcuW_kkd9"
   },
   "outputs": [],
   "source": [
    "shap_values_abs = np.abs(shap_values)\n",
    "shap_df = pd.DataFrame(shap_values_abs, columns=X_train.columns)"
   ]
  },
  {
   "cell_type": "code",
   "execution_count": 137,
   "metadata": {
    "executionInfo": {
     "elapsed": 6,
     "status": "ok",
     "timestamp": 1745334056524,
     "user": {
      "displayName": "Marina Fernández Delgado",
      "userId": "16194969030307626556"
     },
     "user_tz": -120
    },
    "id": "q_N3aU3UkmuR"
   },
   "outputs": [],
   "source": [
    "shap_summary_df = pd.DataFrame({\n",
    "    \"Feature\": [f\"{columns[i]}\" for i in range(len(columns))],\n",
    "    \"Mean Absolute SHAP Value\": shap_df.mean(axis=0).values,\n",
    "    \"Std Deviation of SHAP Value\": shap_df.std(axis=0).values\n",
    "})"
   ]
  },
  {
   "cell_type": "code",
   "execution_count": 138,
   "metadata": {
    "colab": {
     "base_uri": "https://localhost:8080/",
     "height": 332
    },
    "executionInfo": {
     "elapsed": 10,
     "status": "ok",
     "timestamp": 1745334056529,
     "user": {
      "displayName": "Marina Fernández Delgado",
      "userId": "16194969030307626556"
     },
     "user_tz": -120
    },
    "id": "lF-ie2hhkpD9",
    "outputId": "635421c4-56c0-45fd-9a42-5a7feb81b01c"
   },
   "outputs": [
    {
     "data": {
      "application/vnd.google.colaboratory.intrinsic+json": {
       "summary": "{\n  \"name\": \"shap_summary_df\",\n  \"rows\": 9,\n  \"fields\": [\n    {\n      \"column\": \"Feature\",\n      \"properties\": {\n        \"dtype\": \"string\",\n        \"num_unique_values\": 9,\n        \"samples\": [\n          \"Poblaci\\u00f3n\",\n          \"Aseos\",\n          \"Habitaciones\"\n        ],\n        \"semantic_type\": \"\",\n        \"description\": \"\"\n      }\n    },\n    {\n      \"column\": \"Mean Absolute SHAP Value\",\n      \"properties\": {\n        \"dtype\": \"number\",\n        \"std\": 0.12718138736035398,\n        \"min\": 0.03295275304344555,\n        \"max\": 0.3843061489301819,\n        \"num_unique_values\": 9,\n        \"samples\": [\n          0.040107668592554484,\n          0.2890734351614351,\n          0.04907588151878072\n        ],\n        \"semantic_type\": \"\",\n        \"description\": \"\"\n      }\n    },\n    {\n      \"column\": \"Std Deviation of SHAP Value\",\n      \"properties\": {\n        \"dtype\": \"number\",\n        \"std\": 0.10118900173896299,\n        \"min\": 0.026575289306666236,\n        \"max\": 0.3433579215771529,\n        \"num_unique_values\": 9,\n        \"samples\": [\n          0.029650165694262223,\n          0.0565160855484293,\n          0.05437555972619309\n        ],\n        \"semantic_type\": \"\",\n        \"description\": \"\"\n      }\n    }\n  ]\n}",
       "type": "dataframe"
      },
      "text/html": [
       "\n",
       "  <div id=\"df-0fba1921-c9fb-4a18-810c-b3d3540698e6\" class=\"colab-df-container\">\n",
       "    <div>\n",
       "<style scoped>\n",
       "    .dataframe tbody tr th:only-of-type {\n",
       "        vertical-align: middle;\n",
       "    }\n",
       "\n",
       "    .dataframe tbody tr th {\n",
       "        vertical-align: top;\n",
       "    }\n",
       "\n",
       "    .dataframe thead th {\n",
       "        text-align: right;\n",
       "    }\n",
       "</style>\n",
       "<table border=\"1\" class=\"dataframe\">\n",
       "  <thead>\n",
       "    <tr style=\"text-align: right;\">\n",
       "      <th></th>\n",
       "      <th>Feature</th>\n",
       "      <th>Mean Absolute SHAP Value</th>\n",
       "      <th>Std Deviation of SHAP Value</th>\n",
       "    </tr>\n",
       "  </thead>\n",
       "  <tbody>\n",
       "    <tr>\n",
       "      <th>8</th>\n",
       "      <td>Precio_medio_mun_tipo</td>\n",
       "      <td>0.38</td>\n",
       "      <td>0.34</td>\n",
       "    </tr>\n",
       "    <tr>\n",
       "      <th>1</th>\n",
       "      <td>Aseos</td>\n",
       "      <td>0.29</td>\n",
       "      <td>0.06</td>\n",
       "    </tr>\n",
       "    <tr>\n",
       "      <th>2</th>\n",
       "      <td>Metros</td>\n",
       "      <td>0.15</td>\n",
       "      <td>0.11</td>\n",
       "    </tr>\n",
       "    <tr>\n",
       "      <th>6</th>\n",
       "      <td>Comodidades</td>\n",
       "      <td>0.08</td>\n",
       "      <td>0.04</td>\n",
       "    </tr>\n",
       "    <tr>\n",
       "      <th>3</th>\n",
       "      <td>CUDIS</td>\n",
       "      <td>0.06</td>\n",
       "      <td>0.05</td>\n",
       "    </tr>\n",
       "    <tr>\n",
       "      <th>0</th>\n",
       "      <td>Habitaciones</td>\n",
       "      <td>0.05</td>\n",
       "      <td>0.05</td>\n",
       "    </tr>\n",
       "    <tr>\n",
       "      <th>5</th>\n",
       "      <td>Renta bruta media por persona</td>\n",
       "      <td>0.04</td>\n",
       "      <td>0.04</td>\n",
       "    </tr>\n",
       "    <tr>\n",
       "      <th>4</th>\n",
       "      <td>Población</td>\n",
       "      <td>0.04</td>\n",
       "      <td>0.03</td>\n",
       "    </tr>\n",
       "    <tr>\n",
       "      <th>7</th>\n",
       "      <td>Capital</td>\n",
       "      <td>0.03</td>\n",
       "      <td>0.03</td>\n",
       "    </tr>\n",
       "  </tbody>\n",
       "</table>\n",
       "</div>\n",
       "    <div class=\"colab-df-buttons\">\n",
       "\n",
       "  <div class=\"colab-df-container\">\n",
       "    <button class=\"colab-df-convert\" onclick=\"convertToInteractive('df-0fba1921-c9fb-4a18-810c-b3d3540698e6')\"\n",
       "            title=\"Convert this dataframe to an interactive table.\"\n",
       "            style=\"display:none;\">\n",
       "\n",
       "  <svg xmlns=\"http://www.w3.org/2000/svg\" height=\"24px\" viewBox=\"0 -960 960 960\">\n",
       "    <path d=\"M120-120v-720h720v720H120Zm60-500h600v-160H180v160Zm220 220h160v-160H400v160Zm0 220h160v-160H400v160ZM180-400h160v-160H180v160Zm440 0h160v-160H620v160ZM180-180h160v-160H180v160Zm440 0h160v-160H620v160Z\"/>\n",
       "  </svg>\n",
       "    </button>\n",
       "\n",
       "  <style>\n",
       "    .colab-df-container {\n",
       "      display:flex;\n",
       "      gap: 12px;\n",
       "    }\n",
       "\n",
       "    .colab-df-convert {\n",
       "      background-color: #E8F0FE;\n",
       "      border: none;\n",
       "      border-radius: 50%;\n",
       "      cursor: pointer;\n",
       "      display: none;\n",
       "      fill: #1967D2;\n",
       "      height: 32px;\n",
       "      padding: 0 0 0 0;\n",
       "      width: 32px;\n",
       "    }\n",
       "\n",
       "    .colab-df-convert:hover {\n",
       "      background-color: #E2EBFA;\n",
       "      box-shadow: 0px 1px 2px rgba(60, 64, 67, 0.3), 0px 1px 3px 1px rgba(60, 64, 67, 0.15);\n",
       "      fill: #174EA6;\n",
       "    }\n",
       "\n",
       "    .colab-df-buttons div {\n",
       "      margin-bottom: 4px;\n",
       "    }\n",
       "\n",
       "    [theme=dark] .colab-df-convert {\n",
       "      background-color: #3B4455;\n",
       "      fill: #D2E3FC;\n",
       "    }\n",
       "\n",
       "    [theme=dark] .colab-df-convert:hover {\n",
       "      background-color: #434B5C;\n",
       "      box-shadow: 0px 1px 3px 1px rgba(0, 0, 0, 0.15);\n",
       "      filter: drop-shadow(0px 1px 2px rgba(0, 0, 0, 0.3));\n",
       "      fill: #FFFFFF;\n",
       "    }\n",
       "  </style>\n",
       "\n",
       "    <script>\n",
       "      const buttonEl =\n",
       "        document.querySelector('#df-0fba1921-c9fb-4a18-810c-b3d3540698e6 button.colab-df-convert');\n",
       "      buttonEl.style.display =\n",
       "        google.colab.kernel.accessAllowed ? 'block' : 'none';\n",
       "\n",
       "      async function convertToInteractive(key) {\n",
       "        const element = document.querySelector('#df-0fba1921-c9fb-4a18-810c-b3d3540698e6');\n",
       "        const dataTable =\n",
       "          await google.colab.kernel.invokeFunction('convertToInteractive',\n",
       "                                                    [key], {});\n",
       "        if (!dataTable) return;\n",
       "\n",
       "        const docLinkHtml = 'Like what you see? Visit the ' +\n",
       "          '<a target=\"_blank\" href=https://colab.research.google.com/notebooks/data_table.ipynb>data table notebook</a>'\n",
       "          + ' to learn more about interactive tables.';\n",
       "        element.innerHTML = '';\n",
       "        dataTable['output_type'] = 'display_data';\n",
       "        await google.colab.output.renderOutput(dataTable, element);\n",
       "        const docLink = document.createElement('div');\n",
       "        docLink.innerHTML = docLinkHtml;\n",
       "        element.appendChild(docLink);\n",
       "      }\n",
       "    </script>\n",
       "  </div>\n",
       "\n",
       "\n",
       "<div id=\"df-0102d277-95e8-4249-856c-26467c67ea30\">\n",
       "  <button class=\"colab-df-quickchart\" onclick=\"quickchart('df-0102d277-95e8-4249-856c-26467c67ea30')\"\n",
       "            title=\"Suggest charts\"\n",
       "            style=\"display:none;\">\n",
       "\n",
       "<svg xmlns=\"http://www.w3.org/2000/svg\" height=\"24px\"viewBox=\"0 0 24 24\"\n",
       "     width=\"24px\">\n",
       "    <g>\n",
       "        <path d=\"M19 3H5c-1.1 0-2 .9-2 2v14c0 1.1.9 2 2 2h14c1.1 0 2-.9 2-2V5c0-1.1-.9-2-2-2zM9 17H7v-7h2v7zm4 0h-2V7h2v10zm4 0h-2v-4h2v4z\"/>\n",
       "    </g>\n",
       "</svg>\n",
       "  </button>\n",
       "\n",
       "<style>\n",
       "  .colab-df-quickchart {\n",
       "      --bg-color: #E8F0FE;\n",
       "      --fill-color: #1967D2;\n",
       "      --hover-bg-color: #E2EBFA;\n",
       "      --hover-fill-color: #174EA6;\n",
       "      --disabled-fill-color: #AAA;\n",
       "      --disabled-bg-color: #DDD;\n",
       "  }\n",
       "\n",
       "  [theme=dark] .colab-df-quickchart {\n",
       "      --bg-color: #3B4455;\n",
       "      --fill-color: #D2E3FC;\n",
       "      --hover-bg-color: #434B5C;\n",
       "      --hover-fill-color: #FFFFFF;\n",
       "      --disabled-bg-color: #3B4455;\n",
       "      --disabled-fill-color: #666;\n",
       "  }\n",
       "\n",
       "  .colab-df-quickchart {\n",
       "    background-color: var(--bg-color);\n",
       "    border: none;\n",
       "    border-radius: 50%;\n",
       "    cursor: pointer;\n",
       "    display: none;\n",
       "    fill: var(--fill-color);\n",
       "    height: 32px;\n",
       "    padding: 0;\n",
       "    width: 32px;\n",
       "  }\n",
       "\n",
       "  .colab-df-quickchart:hover {\n",
       "    background-color: var(--hover-bg-color);\n",
       "    box-shadow: 0 1px 2px rgba(60, 64, 67, 0.3), 0 1px 3px 1px rgba(60, 64, 67, 0.15);\n",
       "    fill: var(--button-hover-fill-color);\n",
       "  }\n",
       "\n",
       "  .colab-df-quickchart-complete:disabled,\n",
       "  .colab-df-quickchart-complete:disabled:hover {\n",
       "    background-color: var(--disabled-bg-color);\n",
       "    fill: var(--disabled-fill-color);\n",
       "    box-shadow: none;\n",
       "  }\n",
       "\n",
       "  .colab-df-spinner {\n",
       "    border: 2px solid var(--fill-color);\n",
       "    border-color: transparent;\n",
       "    border-bottom-color: var(--fill-color);\n",
       "    animation:\n",
       "      spin 1s steps(1) infinite;\n",
       "  }\n",
       "\n",
       "  @keyframes spin {\n",
       "    0% {\n",
       "      border-color: transparent;\n",
       "      border-bottom-color: var(--fill-color);\n",
       "      border-left-color: var(--fill-color);\n",
       "    }\n",
       "    20% {\n",
       "      border-color: transparent;\n",
       "      border-left-color: var(--fill-color);\n",
       "      border-top-color: var(--fill-color);\n",
       "    }\n",
       "    30% {\n",
       "      border-color: transparent;\n",
       "      border-left-color: var(--fill-color);\n",
       "      border-top-color: var(--fill-color);\n",
       "      border-right-color: var(--fill-color);\n",
       "    }\n",
       "    40% {\n",
       "      border-color: transparent;\n",
       "      border-right-color: var(--fill-color);\n",
       "      border-top-color: var(--fill-color);\n",
       "    }\n",
       "    60% {\n",
       "      border-color: transparent;\n",
       "      border-right-color: var(--fill-color);\n",
       "    }\n",
       "    80% {\n",
       "      border-color: transparent;\n",
       "      border-right-color: var(--fill-color);\n",
       "      border-bottom-color: var(--fill-color);\n",
       "    }\n",
       "    90% {\n",
       "      border-color: transparent;\n",
       "      border-bottom-color: var(--fill-color);\n",
       "    }\n",
       "  }\n",
       "</style>\n",
       "\n",
       "  <script>\n",
       "    async function quickchart(key) {\n",
       "      const quickchartButtonEl =\n",
       "        document.querySelector('#' + key + ' button');\n",
       "      quickchartButtonEl.disabled = true;  // To prevent multiple clicks.\n",
       "      quickchartButtonEl.classList.add('colab-df-spinner');\n",
       "      try {\n",
       "        const charts = await google.colab.kernel.invokeFunction(\n",
       "            'suggestCharts', [key], {});\n",
       "      } catch (error) {\n",
       "        console.error('Error during call to suggestCharts:', error);\n",
       "      }\n",
       "      quickchartButtonEl.classList.remove('colab-df-spinner');\n",
       "      quickchartButtonEl.classList.add('colab-df-quickchart-complete');\n",
       "    }\n",
       "    (() => {\n",
       "      let quickchartButtonEl =\n",
       "        document.querySelector('#df-0102d277-95e8-4249-856c-26467c67ea30 button');\n",
       "      quickchartButtonEl.style.display =\n",
       "        google.colab.kernel.accessAllowed ? 'block' : 'none';\n",
       "    })();\n",
       "  </script>\n",
       "</div>\n",
       "\n",
       "    </div>\n",
       "  </div>\n"
      ],
      "text/plain": [
       "                         Feature  Mean Absolute SHAP Value  \\\n",
       "8          Precio_medio_mun_tipo                      0.38   \n",
       "1                          Aseos                      0.29   \n",
       "2                         Metros                      0.15   \n",
       "6                    Comodidades                      0.08   \n",
       "3                          CUDIS                      0.06   \n",
       "0                   Habitaciones                      0.05   \n",
       "5  Renta bruta media por persona                      0.04   \n",
       "4                      Población                      0.04   \n",
       "7                        Capital                      0.03   \n",
       "\n",
       "   Std Deviation of SHAP Value  \n",
       "8                         0.34  \n",
       "1                         0.06  \n",
       "2                         0.11  \n",
       "6                         0.04  \n",
       "3                         0.05  \n",
       "0                         0.05  \n",
       "5                         0.04  \n",
       "4                         0.03  \n",
       "7                         0.03  "
      ]
     },
     "execution_count": 138,
     "metadata": {},
     "output_type": "execute_result"
    }
   ],
   "source": [
    "shap_summary_df.sort_values(\"Mean Absolute SHAP Value\", ascending = False).head(25)"
   ]
  },
  {
   "cell_type": "code",
   "execution_count": 139,
   "metadata": {
    "executionInfo": {
     "elapsed": 23,
     "status": "ok",
     "timestamp": 1745334056553,
     "user": {
      "displayName": "Marina Fernández Delgado",
      "userId": "16194969030307626556"
     },
     "user_tz": -120
    },
    "id": "W3jW2EJqkpfF"
   },
   "outputs": [],
   "source": [
    "x_test_sample = pd.DataFrame(X_test_sample, columns=X_val.columns)"
   ]
  },
  {
   "cell_type": "code",
   "execution_count": 140,
   "metadata": {
    "colab": {
     "base_uri": "https://localhost:8080/",
     "height": 565
    },
    "executionInfo": {
     "elapsed": 1198,
     "status": "ok",
     "timestamp": 1745334057754,
     "user": {
      "displayName": "Marina Fernández Delgado",
      "userId": "16194969030307626556"
     },
     "user_tz": -120
    },
    "id": "ECJwCj7TksPG",
    "outputId": "2b72bafb-f99a-4ba4-8f05-68014337aea1"
   },
   "outputs": [
    {
     "name": "stderr",
     "output_type": "stream",
     "text": [
      "<ipython-input-140-377e64841d8c>:1: FutureWarning: The NumPy global RNG was seeded by calling `np.random.seed`. In a future version this function will no longer use the global RNG. Pass `rng` explicitly to opt-in to the new behaviour and silence this warning.\n",
      "  shap.summary_plot(shap_values, x_test_sample)\n"
     ]
    },
    {
     "data": {
      "image/png": "[encoded data removed]",
      "text/plain": [
       "<Figure size 800x510 with 2 Axes>"
      ]
     },
     "metadata": {},
     "output_type": "display_data"
    }
   ],
   "source": [
    "shap.summary_plot(shap_values, x_test_sample)"
   ]
  },
  {
   "cell_type": "markdown",
   "metadata": {
    "id": "WdyGtccYPpsF"
   },
   "source": [
    "\n",
    "📌 **Estos SHAP values están en la escala del modelo**, es decir, el dominio de salida de la red neuronal (después de aplicar `np.log` y luego `StandardScaler`). No están directamente en euros, pero **nos dicen la importancia relativa de cada feature en la predicción**.\n",
    "\n",
    "---\n",
    "\n",
    "### 🔍 ¿Qué significa cada columna?\n",
    "\n",
    "- **Mean Absolute SHAP Value**: Magnitud media del efecto que tiene cada variable sobre las predicciones (cuánto cambia el output del modelo al modificar esa variable).\n",
    "- **Std Deviation**: Variabilidad de ese efecto entre diferentes observaciones (¿a veces tiene mucho efecto y a veces poco?).\n",
    "\n",
    "---\n",
    "\n",
    "### 📊 Interpretación de tus resultados\n",
    "\n",
    "| Feature | SHAP Mean | SHAP Std | Interpretación |\n",
    "|--------|-----------|----------|----------------|\n",
    "| **Precio_medio_mun_tipo** | 0.38 | 0.31 | 🔝 Es la variable **más influyente** del modelo. Tiene un efecto fuerte y muy variable según el caso. El modelo depende mucho de ella para ajustar el precio. |\n",
    "| **Aseos** | 0.32 | 0.06 | 🔧 Segunda en importancia, y su efecto es **muy estable**. Aumentar/variar el número de aseos casi siempre cambia el precio de forma similar. |\n",
    "| **Metros** | 0.15 | 0.12 | 📏 Importante también, aunque menos que \"Aseos\", con algo más de variabilidad. A más metros, más precio, pero no de forma tan constante. |\n",
    "| **Capital** | 0.06 | 0.03 | 🏙️ Ser o no capital tiene cierto peso. Aporta algo, pero no es determinante. |\n",
    "| **Comodidades** | 0.06 | 0.03 | 🛋️ Variables como ascensor, garaje, terraza… suman, pero con un peso moderado. |\n",
    "| **CUDIS** | 0.04 | 0.03 | 📌 Indicador de zona, también aporta algo pero con bajo impacto general. |\n",
    "| **Habitaciones** | 0.04 | 0.04 | 🛏️ Curiosamente tiene un impacto bajo y algo más variable. Puede indicar que el modelo prefiere otras señales (como aseos o metros). |\n",
    "| **Población** | 0.03 | 0.02 | 👥 Característica de contexto general del municipio, con poca influencia. |\n",
    "| **Renta bruta media por persona** | 0.03 | 0.03 | 💶 Algo aporta en ciertas zonas, pero no destaca mucho frente a las variables de la vivienda en sí. |\n",
    "\n",
    "---\n",
    "\n",
    "### 💡 ¿Qué puedes hacer con esto?\n",
    "\n",
    "- **Validar intuiciones**: Por ejemplo, que el \"Precio medio del municipio por tipo de vivienda\" es lo más determinante.\n",
    "- **Simplificar tu modelo** si buscas algo más interpretable: puedes usar las 3–4 variables más relevantes.\n",
    "- **Comunicar a no técnicos**: puedes decir que “el modelo ajusta el precio principalmente en función del mercado local y detalles como aseos y superficie”.\n",
    "\n",
    "---\n"
   ]
  },
  {
   "cell_type": "markdown",
   "metadata": {
    "id": "urX04qG36cHk"
   },
   "source": [
    "# Exportación del modelo"
   ]
  },
  {
   "cell_type": "code",
   "execution_count": 141,
   "metadata": {
    "colab": {
     "base_uri": "https://localhost:8080/"
    },
    "executionInfo": {
     "elapsed": 7,
     "status": "ok",
     "timestamp": 1745334057762,
     "user": {
      "displayName": "Marina Fernández Delgado",
      "userId": "16194969030307626556"
     },
     "user_tz": -120
    },
    "id": "EeMxvcuB5k68",
    "outputId": "98113b4d-66a2-40d7-fe57-9b4f83676acc"
   },
   "outputs": [
    {
     "data": {
      "text/plain": [
       "['/content/drive/My Drive/tfm/codigo/modelo_ann/standardscaler_datos_entrada.pkl']"
      ]
     },
     "execution_count": 141,
     "metadata": {},
     "output_type": "execute_result"
    }
   ],
   "source": [
    "# Exportar el StandardScaler de la matriz de entrada (X)\n",
    "joblib.dump(scaler_x, '/content/drive/My Drive/tfm/codigo/modelo_ann/standardscaler_datos_entrada.pkl')"
   ]
  },
  {
   "cell_type": "code",
   "execution_count": 142,
   "metadata": {
    "colab": {
     "base_uri": "https://localhost:8080/"
    },
    "executionInfo": {
     "elapsed": 637,
     "status": "ok",
     "timestamp": 1745334058401,
     "user": {
      "displayName": "Marina Fernández Delgado",
      "userId": "16194969030307626556"
     },
     "user_tz": -120
    },
    "id": "uoH2Qf5M7s4H",
    "outputId": "9f292c70-7f70-477f-9729-a418ca3040ad"
   },
   "outputs": [
    {
     "data": {
      "text/plain": [
       "['/content/drive/My Drive/tfm/codigo/modelo_ann/standardscaler_precio.pkl']"
      ]
     },
     "execution_count": 142,
     "metadata": {},
     "output_type": "execute_result"
    }
   ],
   "source": [
    "# Exportar el StandardScaler de la variable precio (y)\n",
    "joblib.dump(scaler_y, '/content/drive/My Drive/tfm/codigo/modelo_ann/standardscaler_precio.pkl')"
   ]
  },
  {
   "cell_type": "code",
   "execution_count": 143,
   "metadata": {
    "colab": {
     "base_uri": "https://localhost:8080/"
    },
    "executionInfo": {
     "elapsed": 19,
     "status": "ok",
     "timestamp": 1745334058423,
     "user": {
      "displayName": "Marina Fernández Delgado",
      "userId": "16194969030307626556"
     },
     "user_tz": -120
    },
    "id": "XSmBBipu6_99",
    "outputId": "8b766ef7-f9c7-4a9f-bc68-f1ee20d03193"
   },
   "outputs": [
    {
     "data": {
      "text/plain": [
       "['/content/drive/My Drive/tfm/codigo/modelo_ann/modelo_ann.pkl']"
      ]
     },
     "execution_count": 143,
     "metadata": {},
     "output_type": "execute_result"
    }
   ],
   "source": [
    "# Modelo de ANN\n",
    "joblib.dump(model, '/content/drive/My Drive/tfm/codigo/modelo_ann/modelo_ann.pkl')"
   ]
  }
 ],
 "metadata": {
  "colab": {
   "authorship_tag": "ABX9TyPCFOBeQEZtG2OfD4r7PYkX",
   "provenance": [],
   "toc_visible": true
  },
  "kernelspec": {
   "display_name": "venv",
   "language": "python",
   "name": "python3"
  },
  "language_info": {
   "name": "python",
   "version": "3.12.10"
  }
 },
 "nbformat": 4,
 "nbformat_minor": 0
}
